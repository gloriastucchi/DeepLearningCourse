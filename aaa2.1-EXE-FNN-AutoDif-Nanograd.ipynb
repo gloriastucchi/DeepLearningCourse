{
 "cells": [
  {
   "cell_type": "markdown",
   "metadata": {
    "id": "HAva8TnYFtFu"
   },
   "source": [
    "# Contents and why we need this lab\n",
    "\n",
    "This lab is about implementing neural networks yourself before we start using other frameworks that hide some of the computation from you. It builds on the first lab, where you derived the equations for neural network forward and backward propagation and gradient descent parameter updates. \n",
    "\n",
    "All the frameworks for deep learning you will meet from now on use automatic differentiation (autodiff), so you do not have to code the backward step yourself. In this version of this lab, you will develop your own autodif implementation. We also have an optional [version](https://github.com/DeepLearningDTU/02456-deep-learning-with-PyTorch/blob/master/2_Feedforward_Python/2.2-FNN-NumPy.ipynb) of this lab where you have to code the backward pass explicitly in Numpy."
   ]
  },
  {
   "cell_type": "markdown",
   "metadata": {
    "id": "sCa7HzwpFtFy"
   },
   "source": [
    "# External sources of information\n",
    "\n",
    "1. Jupyter notebook. You can find more information about Jupyter notebooks [here](https://jupyter.org/). It will come as part of the [Anaconda](https://www.anaconda.com/) Python installation. \n",
    "2. [NumPy](https://numpy.org/). Part of Anaconda distribution.  If you already know how to program, most things about Python and NumPy can be found with Google searches.\n",
    "3. [Nanograd](https://github.com/rasmusbergpalm/nanograd) is a minimalistic version of autodiff developed by Rasmus Berg Palm that we use for our framework.\n"
   ]
  },
  {
   "cell_type": "markdown",
   "metadata": {
    "id": "1SjiIp-TFtF0"
   },
   "source": [
    "# This notebook will follow the next steps:\n",
    "\n",
    "1. Nanograd automatic differentiation framework\n",
    "2. Finite difference method\n",
    "3. Data generation\n",
    "4. Defining and initializing the network\n",
    "5. Forward pass\n",
    "6. Training loop \n",
    "7. Testing your model\n",
    "8. Further extensions"
   ]
  },
  {
   "cell_type": "markdown",
   "metadata": {
    "id": "OyXeAA-HuT7s"
   },
   "source": [
    "# Nanograd automatic differention framework"
   ]
  },
  {
   "cell_type": "markdown",
   "metadata": {
    "id": "k6UWKCLKubgA"
   },
   "source": [
    "The [Nanograd](https://github.com/rasmusbergpalm/nanograd) framework defines a class Var which both holds a value and gradient value that we can use to store the intermediate values when we apply the chain rule of differentiation."
   ]
  },
  {
   "cell_type": "code",
   "execution_count": 2,
   "metadata": {
    "id": "Jd4CoEBNzNWS"
   },
   "outputs": [],
   "source": [
    "# Copy and pasted from https://github.com/rasmusbergpalm/nanograd/blob/3a1bf9e9e724da813bfccf91a6f309abdade9f39/nanograd.py\n",
    "\n",
    "from math import exp, log\n",
    "\n",
    "class Var:\n",
    "    \"\"\"\n",
    "    A variable which holds a float and enables gradient computations.\n",
    "    \"\"\"\n",
    "\n",
    "    def __init__(self, val: float, grad_fn=lambda: []):\n",
    "        assert type(val) == float\n",
    "        self.v = val \n",
    "        self.grad_fn = grad_fn\n",
    "        self.grad = 0.0 # gradient of the loss with respect to the variable Var\n",
    "\n",
    "\n",
    "    # method for incrementally accumulating gradients and recursively backpropagating them through the computation graph\n",
    "    def backprop(self, bp):\n",
    "        self.grad += bp # bp: gradient of the final output with respect to the current variable.\n",
    "        # Used to backpropagate gradients through the computation graph. \n",
    "        # It takes a single argument, bp (backpropagation value), which represents the gradient of the final output \n",
    "        # with respect to the current variable\n",
    "        for input, grad in self.grad_fn():\n",
    "            input.backprop(grad * bp) # chain rule: propagate grad backwards - moltiplica il gradiente della cella per quello della cella avanti\n",
    "\n",
    "    def backward(self):\n",
    "        self.backprop(1.0)\n",
    "\n",
    "    def __add__(self: 'Var', other: 'Var') -> 'Var':\n",
    "        return Var(self.v + other.v, lambda: [(self, 1.0), (other, 1.0)])\n",
    "\n",
    "    def __mul__(self: 'Var', other: 'Var') -> 'Var':\n",
    "        return Var(self.v * other.v, lambda: [(self, other.v), (other, self.v)])\n",
    "\n",
    "    def __pow__(self, power):\n",
    "        assert type(power) in {float, int}, \"power must be float or int\"\n",
    "        return Var(self.v ** power, lambda: [(self, power * self.v ** (power - 1))])\n",
    "\n",
    "    def __neg__(self: 'Var') -> 'Var':\n",
    "        return Var(-1.0) * self\n",
    "\n",
    "    def __sub__(self: 'Var', other: 'Var') -> 'Var':\n",
    "        return self + (-other)\n",
    "\n",
    "    def __truediv__(self: 'Var', other: 'Var') -> 'Var':\n",
    "        return self * other ** -1\n",
    "\n",
    "    def __repr__(self):\n",
    "        return \"Var(v=%.4f, grad=%.4f)\" % (self.v, self.grad)\n",
    "\n",
    "    def relu(self):\n",
    "        return Var(self.v if self.v > 0.0 else 0.0, lambda: [(self, 1.0 if self.v > 0.0 else 0.0)])\n",
    "    \n",
    "    def exp(self):\n",
    "        return Var(exp(self.v), lambda: [(self, exp(self.v))])\n",
    "\n",
    "    def log(self):\n",
    "        return Var(log(self.v), lambda: [(self, self.v ** -1)])"
   ]
  },
  {
   "cell_type": "markdown",
   "metadata": {
    "id": "yDX67D6jzcte"
   },
   "source": [
    "A few examples illustrate how we can use this:"
   ]
  },
  {
   "cell_type": "code",
   "execution_count": 3,
   "metadata": {
    "colab": {
     "base_uri": "https://localhost:8080/"
    },
    "id": "xk6PeLc3zwPT",
    "outputId": "47e431b2-07ba-4cb1-ea21-997769641c67"
   },
   "outputs": [
    {
     "name": "stdout",
     "output_type": "stream",
     "text": [
      "Var(v=3.0000, grad=5.0000)\n",
      "Var(v=5.0000, grad=3.0000)\n",
      "Var(v=15.0000, grad=1.0000)\n"
     ]
    }
   ],
   "source": [
    "a = Var(3.0)\n",
    "b = Var(5.0)\n",
    "f = a * b\n",
    "\n",
    "f.backward()\n",
    "\n",
    "for v in [a, b, f]:\n",
    "    print(v)"
   ]
  },
  {
   "cell_type": "code",
   "execution_count": 4,
   "metadata": {
    "colab": {
     "base_uri": "https://localhost:8080/"
    },
    "id": "JmKhYgsY0g_o",
    "outputId": "06c1b1df-c33c-40d3-922a-624612a591c7"
   },
   "outputs": [
    {
     "name": "stdout",
     "output_type": "stream",
     "text": [
      "Var(v=3.0000, grad=14.0000)\n",
      "Var(v=5.0000, grad=3.0000)\n",
      "Var(v=15.0000, grad=1.0000)\n",
      "Var(v=9.0000, grad=3.0000)\n",
      "Var(v=27.0000, grad=1.0000)\n",
      "Var(v=42.0000, grad=1.0000)\n"
     ]
    }
   ],
   "source": [
    "a = Var(3.0)\n",
    "b = Var(5.0)\n",
    "c = a * b\n",
    "d = Var(9.0)\n",
    "e = a * d\n",
    "f = c + e\n",
    "\n",
    "f.backward()\n",
    "\n",
    "for v in [a, b, c, d, e, f]:\n",
    "    print(v)"
   ]
  },
  {
   "cell_type": "markdown",
   "metadata": {
    "id": "Fe3B6uEH140p"
   },
   "source": [
    "## Exercise a) What is being calculated?\n",
    "\n",
    "Explain briefly the output of the code? What is the expression we differentiate and with respect to what variables?\n",
    "\n",
    "The output of the code shows Var object type variables (a, b, c, d, e, f) showing their attributes: value and gradient of f (which represents our loss function) with respect to the variable considered. Basically the function backward() computes backpropagation chain rule, assigning to each variable a gradient, which is the derivative of f with respect to a, b, c, d, e\n",
    "ie in the 1st example we have two Var, which are multiplied to give f. The code backpropagates from f differentiating with redard to the two variables, giving us the gradient in terms of a and b"
   ]
  },
  {
   "cell_type": "markdown",
   "metadata": {
    "id": "q8_Q0t2I3Ruj"
   },
   "source": [
    "## Exercise b) How does the backward function work?\n",
    "\n",
    "You need to understand how the backward function calculates the gradients. We can use the two examples above to help with that.\n",
    "\n",
    "Go through the following four steps and answer the questions on the way:\n",
    "\n",
    "1. We represent the two expressions as graphs as shown below. Fill in the missing expressions for the different derivatives.\n",
    "\n",
    "2. In the remainder consider the first expression. Make a schematic of the data structure which is generated when we define the expression for f. \n",
    "\n",
    "3. Then execute the backward function by hand to convince yourself that it indeed calculates the gradients with respect to the variables. \n",
    "\n",
    "4. Write down the sequence of calls to backprop."
   ]
  },
  {
   "cell_type": "code",
   "execution_count": 5,
   "metadata": {
    "id": "idGr71jYXl26"
   },
   "outputs": [],
   "source": [
    "import logging\n",
    "import graphviz\n",
    "\n",
    "#logging.basicConfig(format='[%(levelname)s@%(name)s] %(message)s', level=logging.DEBUG)\n",
    "\n",
    "#graphviz.__version__, graphviz.version()"
   ]
  },
  {
   "cell_type": "code",
   "execution_count": 6,
   "metadata": {
    "colab": {
     "base_uri": "https://localhost:8080/",
     "height": 152
    },
    "id": "KPe30Q2QXzeG",
    "outputId": "7fa002cd-a018-4dbb-ddf1-28ed5e99ee19"
   },
   "outputs": [
    {
     "data": {
      "image/svg+xml": [
       "<?xml version=\"1.0\" encoding=\"UTF-8\" standalone=\"no\"?>\n",
       "<!DOCTYPE svg PUBLIC \"-//W3C//DTD SVG 1.1//EN\"\n",
       " \"http://www.w3.org/Graphics/SVG/1.1/DTD/svg11.dtd\">\n",
       "<!-- Generated by graphviz version 8.1.0 (20230707.0739)\n",
       " -->\n",
       "<!-- Title: first expression Pages: 1 -->\n",
       "<svg width=\"162pt\" height=\"98pt\"\n",
       " viewBox=\"0.00 0.00 161.75 98.00\" xmlns=\"http://www.w3.org/2000/svg\" xmlns:xlink=\"http://www.w3.org/1999/xlink\">\n",
       "<g id=\"graph0\" class=\"graph\" transform=\"scale(1 1) rotate(0) translate(4 94)\">\n",
       "<title>first expression</title>\n",
       "<polygon fill=\"white\" stroke=\"none\" points=\"-4,4 -4,-94 157.75,-94 157.75,4 -4,4\"/>\n",
       "<!-- a -->\n",
       "<g id=\"node1\" class=\"node\">\n",
       "<title>a</title>\n",
       "<ellipse fill=\"none\" stroke=\"black\" cx=\"18\" cy=\"-72\" rx=\"18\" ry=\"18\"/>\n",
       "<text text-anchor=\"middle\" x=\"18\" y=\"-66.58\" font-family=\"Times New Roman,serif\" font-size=\"14.00\">a</text>\n",
       "</g>\n",
       "<!-- f -->\n",
       "<g id=\"node2\" class=\"node\">\n",
       "<title>f</title>\n",
       "<ellipse fill=\"none\" stroke=\"black\" cx=\"135.75\" cy=\"-45\" rx=\"18\" ry=\"18\"/>\n",
       "<text text-anchor=\"middle\" x=\"135.75\" y=\"-39.58\" font-family=\"Times New Roman,serif\" font-size=\"14.00\">f</text>\n",
       "</g>\n",
       "<!-- a&#45;&gt;f -->\n",
       "<g id=\"edge1\" class=\"edge\">\n",
       "<title>a&#45;&gt;f</title>\n",
       "<path fill=\"none\" stroke=\"black\" d=\"M35.58,-68.13C54.3,-63.77 85.04,-56.6 107.34,-51.39\"/>\n",
       "<polygon fill=\"black\" stroke=\"black\" points=\"107.88,-54.63 116.82,-48.95 106.29,-47.81 107.88,-54.63\"/>\n",
       "<text text-anchor=\"middle\" x=\"76.88\" y=\"-65.45\" font-family=\"Times New Roman,serif\" font-size=\"14.00\">df/da=5</text>\n",
       "</g>\n",
       "<!-- b -->\n",
       "<g id=\"node3\" class=\"node\">\n",
       "<title>b</title>\n",
       "<ellipse fill=\"none\" stroke=\"black\" cx=\"18\" cy=\"-18\" rx=\"18\" ry=\"18\"/>\n",
       "<text text-anchor=\"middle\" x=\"18\" y=\"-12.57\" font-family=\"Times New Roman,serif\" font-size=\"14.00\">b</text>\n",
       "</g>\n",
       "<!-- b&#45;&gt;f -->\n",
       "<g id=\"edge2\" class=\"edge\">\n",
       "<title>b&#45;&gt;f</title>\n",
       "<path fill=\"none\" stroke=\"black\" d=\"M36.12,-20.94C52.55,-23.87 77.99,-28.73 99.75,-34.25 102.39,-34.92 105.13,-35.67 107.86,-36.45\"/>\n",
       "<polygon fill=\"black\" stroke=\"black\" points=\"106.53,-40 117.11,-39.52 108.54,-33.3 106.53,-40\"/>\n",
       "<text text-anchor=\"middle\" x=\"76.88\" y=\"-37.45\" font-family=\"Times New Roman,serif\" font-size=\"14.00\">df/db=3</text>\n",
       "</g>\n",
       "</g>\n",
       "</svg>\n"
      ],
      "text/plain": [
       "<graphviz.graphs.Digraph at 0x2745c7e1010>"
      ]
     },
     "execution_count": 6,
     "metadata": {},
     "output_type": "execute_result"
    }
   ],
   "source": [
    "e1 = graphviz.Digraph('first expression', filename='fsm.gv')\n",
    "\n",
    "e1.attr(rankdir='LR', size='8,5')\n",
    "\n",
    "e1.attr('node', shape='circle')\n",
    "e1.edge('a', 'f', label='df/da=5')\n",
    "e1.edge('b', 'f', label='df/db=3')\n",
    "\n",
    "e1"
   ]
  },
  {
   "cell_type": "code",
   "execution_count": 7,
   "metadata": {
    "colab": {
     "base_uri": "https://localhost:8080/",
     "height": 232
    },
    "id": "0nittR-mZFeX",
    "outputId": "fa3656a3-732c-4abe-8084-98a492b0d6be"
   },
   "outputs": [
    {
     "data": {
      "image/svg+xml": [
       "<?xml version=\"1.0\" encoding=\"UTF-8\" standalone=\"no\"?>\n",
       "<!DOCTYPE svg PUBLIC \"-//W3C//DTD SVG 1.1//EN\"\n",
       " \"http://www.w3.org/Graphics/SVG/1.1/DTD/svg11.dtd\">\n",
       "<!-- Generated by graphviz version 8.1.0 (20230707.0739)\n",
       " -->\n",
       "<!-- Title: second expression Pages: 1 -->\n",
       "<svg width=\"281pt\" height=\"161pt\"\n",
       " viewBox=\"0.00 0.00 281.00 161.00\" xmlns=\"http://www.w3.org/2000/svg\" xmlns:xlink=\"http://www.w3.org/1999/xlink\">\n",
       "<g id=\"graph0\" class=\"graph\" transform=\"scale(1 1) rotate(0) translate(4 157)\">\n",
       "<title>second expression</title>\n",
       "<polygon fill=\"white\" stroke=\"none\" points=\"-4,4 -4,-157 277,-157 277,4 -4,4\"/>\n",
       "<!-- a -->\n",
       "<g id=\"node1\" class=\"node\">\n",
       "<title>a</title>\n",
       "<ellipse fill=\"none\" stroke=\"black\" cx=\"18\" cy=\"-77\" rx=\"18\" ry=\"18\"/>\n",
       "<text text-anchor=\"middle\" x=\"18\" y=\"-71.58\" font-family=\"Times New Roman,serif\" font-size=\"14.00\">a</text>\n",
       "</g>\n",
       "<!-- c -->\n",
       "<g id=\"node2\" class=\"node\">\n",
       "<title>c</title>\n",
       "<ellipse fill=\"none\" stroke=\"black\" cx=\"138\" cy=\"-103\" rx=\"18\" ry=\"18\"/>\n",
       "<text text-anchor=\"middle\" x=\"138\" y=\"-97.58\" font-family=\"Times New Roman,serif\" font-size=\"14.00\">c</text>\n",
       "</g>\n",
       "<!-- a&#45;&gt;c -->\n",
       "<g id=\"edge1\" class=\"edge\">\n",
       "<title>a&#45;&gt;c</title>\n",
       "<path fill=\"none\" stroke=\"black\" d=\"M35.91,-80.73C55.1,-84.95 86.68,-91.91 109.45,-96.93\"/>\n",
       "<polygon fill=\"black\" stroke=\"black\" points=\"108.61,-100.55 119.12,-99.28 110.11,-93.71 108.61,-100.55\"/>\n",
       "<text text-anchor=\"middle\" x=\"78\" y=\"-96.45\" font-family=\"Times New Roman,serif\" font-size=\"14.00\">dc/da=5</text>\n",
       "</g>\n",
       "<!-- e -->\n",
       "<g id=\"node4\" class=\"node\">\n",
       "<title>e</title>\n",
       "<ellipse fill=\"none\" stroke=\"black\" cx=\"138\" cy=\"-49\" rx=\"18\" ry=\"18\"/>\n",
       "<text text-anchor=\"middle\" x=\"138\" y=\"-43.58\" font-family=\"Times New Roman,serif\" font-size=\"14.00\">e</text>\n",
       "</g>\n",
       "<!-- a&#45;&gt;e -->\n",
       "<g id=\"edge3\" class=\"edge\">\n",
       "<title>a&#45;&gt;e</title>\n",
       "<path fill=\"none\" stroke=\"black\" d=\"M35.25,-71.05C41.11,-69.04 47.8,-66.89 54,-65.25 72.34,-60.4 93.3,-56.31 109.58,-53.44\"/>\n",
       "<polygon fill=\"black\" stroke=\"black\" points=\"109.73,-56.79 119,-51.66 108.56,-49.89 109.73,-56.79\"/>\n",
       "<text text-anchor=\"middle\" x=\"78\" y=\"-68.45\" font-family=\"Times New Roman,serif\" font-size=\"14.00\">de/da=9</text>\n",
       "</g>\n",
       "<!-- f -->\n",
       "<g id=\"node6\" class=\"node\">\n",
       "<title>f</title>\n",
       "<ellipse fill=\"none\" stroke=\"black\" cx=\"255\" cy=\"-75\" rx=\"18\" ry=\"18\"/>\n",
       "<text text-anchor=\"middle\" x=\"255\" y=\"-69.58\" font-family=\"Times New Roman,serif\" font-size=\"14.00\">f</text>\n",
       "</g>\n",
       "<!-- c&#45;&gt;f -->\n",
       "<g id=\"edge5\" class=\"edge\">\n",
       "<title>c&#45;&gt;f</title>\n",
       "<path fill=\"none\" stroke=\"black\" d=\"M155.97,-98.87C174.59,-94.33 204.75,-86.99 226.71,-81.65\"/>\n",
       "<polygon fill=\"black\" stroke=\"black\" points=\"227.45,-84.82 236.34,-79.06 225.79,-78.02 227.45,-84.82\"/>\n",
       "<text text-anchor=\"middle\" x=\"196.5\" y=\"-95.45\" font-family=\"Times New Roman,serif\" font-size=\"14.00\">df/dc=1</text>\n",
       "</g>\n",
       "<!-- b -->\n",
       "<g id=\"node3\" class=\"node\">\n",
       "<title>b</title>\n",
       "<ellipse fill=\"none\" stroke=\"black\" cx=\"18\" cy=\"-135\" rx=\"18\" ry=\"18\"/>\n",
       "<text text-anchor=\"middle\" x=\"18\" y=\"-129.57\" font-family=\"Times New Roman,serif\" font-size=\"14.00\">b</text>\n",
       "</g>\n",
       "<!-- b&#45;&gt;c -->\n",
       "<g id=\"edge2\" class=\"edge\">\n",
       "<title>b&#45;&gt;c</title>\n",
       "<path fill=\"none\" stroke=\"black\" d=\"M35.88,-130.63C52.66,-126.26 79.15,-119.29 102,-113 104.52,-112.31 107.14,-111.58 109.76,-110.84\"/>\n",
       "<polygon fill=\"black\" stroke=\"black\" points=\"110.62,-113.95 119.28,-107.85 108.71,-107.21 110.62,-113.95\"/>\n",
       "<text text-anchor=\"middle\" x=\"78\" y=\"-127.45\" font-family=\"Times New Roman,serif\" font-size=\"14.00\">dc/db=3</text>\n",
       "</g>\n",
       "<!-- e&#45;&gt;f -->\n",
       "<g id=\"edge6\" class=\"edge\">\n",
       "<title>e&#45;&gt;f</title>\n",
       "<path fill=\"none\" stroke=\"black\" d=\"M156.4,-50.54C172.76,-52.25 197.84,-55.55 219,-61.25 222.01,-62.06 225.12,-63.05 228.19,-64.12\"/>\n",
       "<polygon fill=\"black\" stroke=\"black\" points=\"226.63,-67.65 237.22,-67.94 229.12,-61.11 226.63,-67.65\"/>\n",
       "<text text-anchor=\"middle\" x=\"196.5\" y=\"-64.45\" font-family=\"Times New Roman,serif\" font-size=\"14.00\">df/de=1</text>\n",
       "</g>\n",
       "<!-- d -->\n",
       "<g id=\"node5\" class=\"node\">\n",
       "<title>d</title>\n",
       "<ellipse fill=\"none\" stroke=\"black\" cx=\"18\" cy=\"-18\" rx=\"18\" ry=\"18\"/>\n",
       "<text text-anchor=\"middle\" x=\"18\" y=\"-12.57\" font-family=\"Times New Roman,serif\" font-size=\"14.00\">d</text>\n",
       "</g>\n",
       "<!-- d&#45;&gt;e -->\n",
       "<g id=\"edge4\" class=\"edge\">\n",
       "<title>d&#45;&gt;e</title>\n",
       "<path fill=\"none\" stroke=\"black\" d=\"M36.06,-20.67C52.99,-23.53 79.57,-28.57 102,-35.25 104.99,-36.14 108.09,-37.18 111.14,-38.28\"/>\n",
       "<polygon fill=\"black\" stroke=\"black\" points=\"109.58,-41.81 120.17,-42.12 112.09,-35.28 109.58,-41.81\"/>\n",
       "<text text-anchor=\"middle\" x=\"78\" y=\"-38.45\" font-family=\"Times New Roman,serif\" font-size=\"14.00\">de/dd=3</text>\n",
       "</g>\n",
       "</g>\n",
       "</svg>\n"
      ],
      "text/plain": [
       "<graphviz.graphs.Digraph at 0x2745d682ed0>"
      ]
     },
     "execution_count": 7,
     "metadata": {},
     "output_type": "execute_result"
    }
   ],
   "source": [
    "e2 = graphviz.Digraph('second expression', filename='fsm.gv')\n",
    "\n",
    "e2.attr(rankdir='LR', size='8,5')\n",
    "\n",
    "e2.attr('node', shape='circle')\n",
    "e2.edge('a', 'c', label='dc/da=5')\n",
    "e2.edge('b', 'c', label='dc/db=3')\n",
    "e2.edge('a', 'e', label='de/da=9')\n",
    "e2.edge('d', 'e', label='de/dd=3')\n",
    "e2.edge('c', 'f', label='df/dc=1')\n",
    "e2.edge('e', 'f', label='df/de=1')\n",
    "\n",
    "e2"
   ]
  },
  {
   "cell_type": "code",
   "execution_count": 44,
   "metadata": {},
   "outputs": [
    {
     "data": {
      "image/svg+xml": [
       "<?xml version=\"1.0\" encoding=\"UTF-8\" standalone=\"no\"?>\n",
       "<!DOCTYPE svg PUBLIC \"-//W3C//DTD SVG 1.1//EN\"\n",
       " \"http://www.w3.org/Graphics/SVG/1.1/DTD/svg11.dtd\">\n",
       "<!-- Generated by graphviz version 8.1.0 (20230707.0739)\n",
       " -->\n",
       "<!-- Title: first expression Pages: 1 -->\n",
       "<svg width=\"244pt\" height=\"98pt\"\n",
       " viewBox=\"0.00 0.00 243.50 98.00\" xmlns=\"http://www.w3.org/2000/svg\" xmlns:xlink=\"http://www.w3.org/1999/xlink\">\n",
       "<g id=\"graph0\" class=\"graph\" transform=\"scale(1 1) rotate(0) translate(4 94)\">\n",
       "<title>first expression</title>\n",
       "<polygon fill=\"white\" stroke=\"none\" points=\"-4,4 -4,-94 239.5,-94 239.5,4 -4,4\"/>\n",
       "<!-- f -->\n",
       "<g id=\"node1\" class=\"node\">\n",
       "<title>f</title>\n",
       "<ellipse fill=\"none\" stroke=\"black\" cx=\"18\" cy=\"-45\" rx=\"18\" ry=\"18\"/>\n",
       "<text text-anchor=\"middle\" x=\"18\" y=\"-39.58\" font-family=\"Times New Roman,serif\" font-size=\"14.00\">f</text>\n",
       "</g>\n",
       "<!-- a -->\n",
       "<g id=\"node2\" class=\"node\">\n",
       "<title>a</title>\n",
       "<ellipse fill=\"none\" stroke=\"black\" cx=\"217.5\" cy=\"-72\" rx=\"18\" ry=\"18\"/>\n",
       "<text text-anchor=\"middle\" x=\"217.5\" y=\"-66.58\" font-family=\"Times New Roman,serif\" font-size=\"14.00\">a</text>\n",
       "</g>\n",
       "<!-- f&#45;&gt;a -->\n",
       "<g id=\"edge1\" class=\"edge\">\n",
       "<title>f&#45;&gt;a</title>\n",
       "<path fill=\"none\" stroke=\"black\" d=\"M36.18,-47.35C70.32,-52.02 146.98,-62.5 188.5,-68.17\"/>\n",
       "<polygon fill=\"black\" stroke=\"black\" points=\"187.84,-71.75 198.22,-69.64 188.78,-64.82 187.84,-71.75\"/>\n",
       "<text text-anchor=\"middle\" x=\"117.75\" y=\"-68.45\" font-family=\"Times New Roman,serif\" font-size=\"14.00\">gradient_a = df/da = b</text>\n",
       "</g>\n",
       "<!-- b -->\n",
       "<g id=\"node3\" class=\"node\">\n",
       "<title>b</title>\n",
       "<ellipse fill=\"none\" stroke=\"black\" cx=\"217.5\" cy=\"-18\" rx=\"18\" ry=\"18\"/>\n",
       "<text text-anchor=\"middle\" x=\"217.5\" y=\"-12.57\" font-family=\"Times New Roman,serif\" font-size=\"14.00\">b</text>\n",
       "</g>\n",
       "<!-- f&#45;&gt;b -->\n",
       "<g id=\"edge2\" class=\"edge\">\n",
       "<title>f&#45;&gt;b</title>\n",
       "<path fill=\"none\" stroke=\"black\" d=\"M34.72,-37.69C40.64,-35.24 47.51,-32.75 54,-31.25 100.17,-20.54 155.46,-18.17 188.19,-17.82\"/>\n",
       "<polygon fill=\"black\" stroke=\"black\" points=\"188.18,-21.31 198.17,-17.76 188.15,-14.31 188.18,-21.31\"/>\n",
       "<text text-anchor=\"middle\" x=\"117.75\" y=\"-34.45\" font-family=\"Times New Roman,serif\" font-size=\"14.00\">gradient_b = df/db = a</text>\n",
       "</g>\n",
       "</g>\n",
       "</svg>\n"
      ],
      "text/plain": [
       "<graphviz.graphs.Digraph at 0x2746ef10ad0>"
      ]
     },
     "execution_count": 44,
     "metadata": {},
     "output_type": "execute_result"
    }
   ],
   "source": [
    "e1 = graphviz.Digraph('first expression', filename='fsm.gv')\n",
    "\n",
    "e1.attr(rankdir='LR', size='8,5')\n",
    "e1.attr('node', shape='circle')\n",
    "e1.edge('f', 'a', label='gradient_a = df/da = b')\n",
    "e1.edge('f', 'b', label='gradient_b = df/db = a')\n",
    "\n",
    "e1"
   ]
  },
  {
   "cell_type": "code",
   "execution_count": 47,
   "metadata": {},
   "outputs": [
    {
     "data": {
      "image/svg+xml": [
       "<?xml version=\"1.0\" encoding=\"UTF-8\" standalone=\"no\"?>\n",
       "<!DOCTYPE svg PUBLIC \"-//W3C//DTD SVG 1.1//EN\"\n",
       " \"http://www.w3.org/Graphics/SVG/1.1/DTD/svg11.dtd\">\n",
       "<!-- Generated by graphviz version 8.1.0 (20230707.0739)\n",
       " -->\n",
       "<!-- Title: second expression Pages: 1 -->\n",
       "<svg width=\"701pt\" height=\"161pt\"\n",
       " viewBox=\"0.00 0.00 701.19 161.00\" xmlns=\"http://www.w3.org/2000/svg\" xmlns:xlink=\"http://www.w3.org/1999/xlink\">\n",
       "<g id=\"graph0\" class=\"graph\" transform=\"scale(1 1) rotate(0) translate(4 157)\">\n",
       "<title>second expression</title>\n",
       "<polygon fill=\"white\" stroke=\"none\" points=\"-4,4 -4,-157 697.19,-157 697.19,4 -4,4\"/>\n",
       "<!-- f -->\n",
       "<g id=\"node1\" class=\"node\">\n",
       "<title>f</title>\n",
       "<ellipse fill=\"none\" stroke=\"black\" cx=\"18\" cy=\"-75\" rx=\"18\" ry=\"18\"/>\n",
       "<text text-anchor=\"middle\" x=\"18\" y=\"-69.58\" font-family=\"Times New Roman,serif\" font-size=\"14.00\">f</text>\n",
       "</g>\n",
       "<!-- c -->\n",
       "<g id=\"node2\" class=\"node\">\n",
       "<title>c</title>\n",
       "<ellipse fill=\"none\" stroke=\"black\" cx=\"135\" cy=\"-103\" rx=\"18\" ry=\"18\"/>\n",
       "<text text-anchor=\"middle\" x=\"135\" y=\"-97.58\" font-family=\"Times New Roman,serif\" font-size=\"14.00\">c</text>\n",
       "</g>\n",
       "<!-- f&#45;&gt;c -->\n",
       "<g id=\"edge1\" class=\"edge\">\n",
       "<title>f&#45;&gt;c</title>\n",
       "<path fill=\"none\" stroke=\"black\" d=\"M35.97,-79.13C54.59,-83.67 84.75,-91.01 106.71,-96.35\"/>\n",
       "<polygon fill=\"black\" stroke=\"black\" points=\"105.79,-99.98 116.34,-98.94 107.45,-93.18 105.79,-99.98\"/>\n",
       "<text text-anchor=\"middle\" x=\"76.5\" y=\"-95.45\" font-family=\"Times New Roman,serif\" font-size=\"14.00\">df/dc=1</text>\n",
       "</g>\n",
       "<!-- e -->\n",
       "<g id=\"node3\" class=\"node\">\n",
       "<title>e</title>\n",
       "<ellipse fill=\"none\" stroke=\"black\" cx=\"135\" cy=\"-49\" rx=\"18\" ry=\"18\"/>\n",
       "<text text-anchor=\"middle\" x=\"135\" y=\"-43.58\" font-family=\"Times New Roman,serif\" font-size=\"14.00\">e</text>\n",
       "</g>\n",
       "<!-- f&#45;&gt;e -->\n",
       "<g id=\"edge2\" class=\"edge\">\n",
       "<title>f&#45;&gt;e</title>\n",
       "<path fill=\"none\" stroke=\"black\" d=\"M34.78,-67.94C40.71,-65.52 47.57,-62.98 54,-61.25 71.03,-56.66 90.6,-53.63 106.11,-51.73\"/>\n",
       "<polygon fill=\"black\" stroke=\"black\" points=\"106.06,-55.14 115.6,-50.54 105.27,-48.19 106.06,-55.14\"/>\n",
       "<text text-anchor=\"middle\" x=\"76.5\" y=\"-64.45\" font-family=\"Times New Roman,serif\" font-size=\"14.00\">df/de=1</text>\n",
       "</g>\n",
       "<!-- a -->\n",
       "<g id=\"node4\" class=\"node\">\n",
       "<title>a</title>\n",
       "<ellipse fill=\"none\" stroke=\"black\" cx=\"369.75\" cy=\"-77\" rx=\"18\" ry=\"18\"/>\n",
       "<text text-anchor=\"middle\" x=\"369.75\" y=\"-71.58\" font-family=\"Times New Roman,serif\" font-size=\"14.00\">a</text>\n",
       "</g>\n",
       "<!-- c&#45;&gt;a -->\n",
       "<g id=\"edge3\" class=\"edge\">\n",
       "<title>c&#45;&gt;a</title>\n",
       "<path fill=\"none\" stroke=\"black\" d=\"M153.06,-99.98C158.75,-99.03 165.14,-98.03 171,-97.25 231.3,-89.22 302.31,-82.65 340.7,-79.33\"/>\n",
       "<polygon fill=\"black\" stroke=\"black\" points=\"340.85,-82.75 350.52,-78.41 340.25,-75.77 340.85,-82.75\"/>\n",
       "<text text-anchor=\"middle\" x=\"252.37\" y=\"-99.45\" font-family=\"Times New Roman,serif\" font-size=\"14.00\">dc/da=b</text>\n",
       "</g>\n",
       "<!-- b -->\n",
       "<g id=\"node5\" class=\"node\">\n",
       "<title>b</title>\n",
       "<ellipse fill=\"none\" stroke=\"black\" cx=\"369.75\" cy=\"-135\" rx=\"18\" ry=\"18\"/>\n",
       "<text text-anchor=\"middle\" x=\"369.75\" y=\"-129.57\" font-family=\"Times New Roman,serif\" font-size=\"14.00\">b</text>\n",
       "</g>\n",
       "<!-- c&#45;&gt;b -->\n",
       "<g id=\"edge4\" class=\"edge\">\n",
       "<title>c&#45;&gt;b</title>\n",
       "<path fill=\"none\" stroke=\"black\" d=\"M152.6,-108.36C158.37,-110.06 164.92,-111.8 171,-113 230.74,-124.77 301.96,-130.76 340.54,-133.35\"/>\n",
       "<polygon fill=\"black\" stroke=\"black\" points=\"340.21,-136.9 350.41,-134.05 340.65,-129.92 340.21,-136.9\"/>\n",
       "<text text-anchor=\"middle\" x=\"252.37\" y=\"-134.45\" font-family=\"Times New Roman,serif\" font-size=\"14.00\">gradient_b=(df/dc)(dc/db)=a</text>\n",
       "</g>\n",
       "<!-- e&#45;&gt;a -->\n",
       "<g id=\"edge5\" class=\"edge\">\n",
       "<title>e&#45;&gt;a</title>\n",
       "<path fill=\"none\" stroke=\"black\" d=\"M153.27,-47.77C188.06,-45.77 268.81,-43.56 333.75,-60.25 337.04,-61.09 340.39,-62.26 343.64,-63.58\"/>\n",
       "<polygon fill=\"black\" stroke=\"black\" points=\"342.01,-67.14 352.56,-68.14 344.94,-60.78 342.01,-67.14\"/>\n",
       "<text text-anchor=\"middle\" x=\"252.37\" y=\"-63.45\" font-family=\"Times New Roman,serif\" font-size=\"14.00\">de/da=d</text>\n",
       "</g>\n",
       "<!-- d -->\n",
       "<g id=\"node6\" class=\"node\">\n",
       "<title>d</title>\n",
       "<ellipse fill=\"none\" stroke=\"black\" cx=\"369.75\" cy=\"-18\" rx=\"18\" ry=\"18\"/>\n",
       "<text text-anchor=\"middle\" x=\"369.75\" y=\"-12.57\" font-family=\"Times New Roman,serif\" font-size=\"14.00\">d</text>\n",
       "</g>\n",
       "<!-- e&#45;&gt;d -->\n",
       "<g id=\"edge6\" class=\"edge\">\n",
       "<title>e&#45;&gt;d</title>\n",
       "<path fill=\"none\" stroke=\"black\" d=\"M149.83,-38.13C155.97,-33.93 163.49,-29.59 171,-27.25 229.4,-9.1 302.15,-11.71 341.09,-14.99\"/>\n",
       "<polygon fill=\"black\" stroke=\"black\" points=\"340.31,-18.53 350.59,-15.96 340.95,-11.56 340.31,-18.53\"/>\n",
       "<text text-anchor=\"middle\" x=\"252.37\" y=\"-30.45\" font-family=\"Times New Roman,serif\" font-size=\"14.00\">gradient_d=(df/de)(de/dd)=a</text>\n",
       "</g>\n",
       "<!-- grad_a -->\n",
       "<g id=\"node7\" class=\"node\">\n",
       "<title>grad_a</title>\n",
       "<ellipse fill=\"none\" stroke=\"black\" cx=\"657.09\" cy=\"-77\" rx=\"36.09\" ry=\"36.09\"/>\n",
       "<text text-anchor=\"middle\" x=\"657.09\" y=\"-71.58\" font-family=\"Times New Roman,serif\" font-size=\"14.00\">grad_a</text>\n",
       "</g>\n",
       "<!-- a&#45;&gt;grad_a -->\n",
       "<g id=\"edge7\" class=\"edge\">\n",
       "<title>a&#45;&gt;grad_a</title>\n",
       "<path fill=\"none\" stroke=\"black\" d=\"M388.17,-77C431.52,-77 545.39,-77 609.86,-77\"/>\n",
       "<polygon fill=\"black\" stroke=\"black\" points=\"609.53,-80.5 619.53,-77 609.53,-73.5 609.53,-80.5\"/>\n",
       "<text text-anchor=\"middle\" x=\"504.37\" y=\"-79.45\" font-family=\"Times New Roman,serif\" font-size=\"14.00\">(df/dc)(dc/da)+(df/de)(de/da)=b+d</text>\n",
       "</g>\n",
       "</g>\n",
       "</svg>\n"
      ],
      "text/plain": [
       "<graphviz.graphs.Digraph at 0x27474e21d10>"
      ]
     },
     "execution_count": 47,
     "metadata": {},
     "output_type": "execute_result"
    }
   ],
   "source": [
    "e2 = graphviz.Digraph('second expression', filename='fsm.gv')\n",
    "\n",
    "e2.attr(rankdir='LR', size='10,8')\n",
    "\n",
    "e2.attr('node', shape='circle')\n",
    "\n",
    "e2.edge('f', 'c', label='df/dc=1')\n",
    "e2.edge('f', 'e', label='df/de=1')\n",
    "e2.edge('c', 'a', label='dc/da=b')\n",
    "e2.edge('c', 'b', label='gradient_b=(df/dc)(dc/db)=a')\n",
    "e2.edge('e', 'a', label='de/da=d')\n",
    "e2.edge('e', 'd', label='gradient_d=(df/de)(de/dd)=a')\n",
    "e2.edge('a','grad_a',label='(df/dc)(dc/da)+(df/de)(de/da)=b+d')\n",
    "e2"
   ]
  },
  {
   "cell_type": "markdown",
   "metadata": {},
   "source": [
    "3.\n",
    "\n",
    "df/da=b=5  \n",
    "df/db=a=3\n",
    "\n",
    "for the first\n",
    "\n",
    "df/db=(df/dc)*(dc/db)=a=3  \n",
    "df/da=(df/dc)*(dc/da)+(df/de)*(de/da)=b+d=14\n",
    "df/dd=(df/de)*(de/dd)=a=3\n",
    "\n",
    "for the second\n",
    "\n",
    "4.\n",
    "\n",
    "backward -> backprop(var(a)*var(b))\n",
    "backward -> backprop(var(a)* var(b)) -> backprop(var(a)*var(d)) -> backprop(var(c)+var(d))"
   ]
  },
  {
   "cell_type": "markdown",
   "metadata": {
    "id": "A5oi21W4gpeM"
   },
   "source": [
    "## Exercise c) What happens if we run backward again?\n",
    "\n",
    "Try to execute the code below. Explain what happens.\n",
    "\n",
    "Answer\n",
    "What happens is that the bp of f is set to two, is done two times, so all the gradients are multiplied by 2, because of how backward() is defined. What should be done is to reset gradients everytime."
   ]
  },
  {
   "cell_type": "code",
   "execution_count": 9,
   "metadata": {
    "colab": {
     "base_uri": "https://localhost:8080/"
    },
    "id": "DCtpJyr-gyX1",
    "outputId": "d014bcfa-c9ae-49c3-d268-91cc6ca94ea5"
   },
   "outputs": [
    {
     "name": "stdout",
     "output_type": "stream",
     "text": [
      "Var(v=3.0000, grad=28.0000)\n",
      "Var(v=5.0000, grad=6.0000)\n",
      "Var(v=15.0000, grad=2.0000)\n",
      "Var(v=9.0000, grad=6.0000)\n",
      "Var(v=27.0000, grad=2.0000)\n",
      "Var(v=42.0000, grad=2.0000)\n"
     ]
    }
   ],
   "source": [
    "f.backward()\n",
    "\n",
    "for v in [a, b, c, d, e, f]:\n",
    "    print(v)"
   ]
  },
  {
   "cell_type": "markdown",
   "metadata": {
    "id": "e8bPVq2VhsP-"
   },
   "source": [
    "## Exercise d) Zero gradient\n",
    "\n",
    "We can zero the gradient by backpropagating a -1.0 as is shown in the example below. (If you have run backward multiple time then you also have to run the cell below an equal amount of times.) Explain what is going on."
   ]
  },
  {
   "cell_type": "markdown",
   "metadata": {},
   "source": [
    "Answer: what happens is that when you set backprop bn to -1 for val f, then self.grad becomes equal to 0. Therefor, recurrently, all Val variables are set to 0 since the gradient they were set before is multiplied by a 0. This happens because by backpropagating with -1 we subtrat the gradient from the var."
   ]
  },
  {
   "cell_type": "code",
   "execution_count": 10,
   "metadata": {
    "colab": {
     "base_uri": "https://localhost:8080/"
    },
    "id": "OnyPDQx9lJe0",
    "outputId": "7a125fdc-60c4-4340-a580-8b82aea5b0db"
   },
   "outputs": [
    {
     "name": "stdout",
     "output_type": "stream",
     "text": [
      "Var(v=2.0000, grad=0.0000)\n",
      "Var(v=5.0000, grad=6.0000)\n",
      "Var(v=15.0000, grad=2.0000)\n",
      "Var(v=9.0000, grad=6.0000)\n",
      "Var(v=27.0000, grad=2.0000)\n",
      "Var(v=42.0000, grad=2.0000)\n",
      "Var(v=2.0000, grad=0.0000)\n",
      "Var(v=5.0000, grad=3.0000)\n",
      "Var(v=15.0000, grad=1.0000)\n",
      "Var(v=9.0000, grad=3.0000)\n",
      "Var(v=27.0000, grad=1.0000)\n",
      "Var(v=42.0000, grad=1.0000)\n"
     ]
    }
   ],
   "source": [
    "a = Var(2.0)\n",
    "\n",
    "for v in [a, b, c, d, e, f]:\n",
    "    print(v)\n",
    "\n",
    "f.backprop(-1.0)\n",
    "\n",
    "for v in [a, b, c, d, e, f]:\n",
    "    print(v)"
   ]
  },
  {
   "cell_type": "markdown",
   "metadata": {
    "id": "U4057_ljNvWB"
   },
   "source": [
    "## Exercise e) Test correctness of derivatives with the finite difference method\n",
    "\n",
    "Write a small function that uses [the finite difference method](https://en.wikipedia.org/wiki/Finite_difference_method) to numerically test that backpropation implementation is working. In short we will use\n",
    "$$\n",
    "\\frac{\\partial f(a)}{\\partial a} \\approx \\frac{f(a+da)-f(a)}{da}\n",
    "$$\n",
    "for $da \\ll 1$.\n",
    "\n",
    "As an example, we could approximate the derivative of the function $f(a)=a^2$ in e.g. the value $a=4$ using the finite difference method. This amounts to inserting the relevant values and approximating the gradient $f'(4)$ with the fraction above. \n"
   ]
  },
  {
   "cell_type": "code",
   "execution_count": 11,
   "metadata": {
    "colab": {
     "base_uri": "https://localhost:8080/"
    },
    "id": "9TGil92lSXDN",
    "outputId": "7ef5489b-b525-4132-ab08-0b1109c07f4d"
   },
   "outputs": [
    {
     "name": "stdout",
     "output_type": "stream",
     "text": [
      "Var(v=3.0000, grad=5.0000)\n",
      "Var(v=5.0000, grad=3.0000)\n",
      "Var(v=15.0000, grad=1.0000)\n",
      "5.000000413701855\n"
     ]
    }
   ],
   "source": [
    "# f function - try to change the code to test other types of functions as well (such as different polynomials etc.)\n",
    "def f_function(a):\n",
    "  a = Var(a)\n",
    "  b = Var(5.0)\n",
    "  f = a * b\n",
    "  f.backward()\n",
    "  return a,b,f\n",
    "\n",
    "for v in f_function(3.0):\n",
    "  print(v)\n",
    "\n",
    "# Insert your finite difference code here\n",
    "def finite_difference(da=1e-10):\n",
    "    \"\"\"\n",
    "    This function compute the finite difference between\n",
    "    \n",
    "    Input:\n",
    "    da:          The finite difference                           (float)\n",
    "    \n",
    "    Output:\n",
    "    finite_difference: numerical approximation to the derivative (float) \n",
    "    \"\"\"\n",
    "    a = 3.0\n",
    "    b = 5.0\n",
    "    f = a * b\n",
    "    fa_da = (a+da)*b          # <- Insert correct expression\n",
    "    fa = f            # <- Insert correct expression\n",
    "\n",
    "    finite_difference = (fa_da - fa)/da\n",
    "    \n",
    "    return finite_difference\n",
    "\n",
    "print(finite_difference())"
   ]
  },
  {
   "cell_type": "markdown",
   "metadata": {
    "id": "6pZar5RKaUkg"
   },
   "source": [
    "# Create an artificial dataset to play with\n",
    "\n",
    "We create a non-linear 1d regression task. The generator supports various noise levels and it creates train, validation and test sets. You can modify it yourself if you want more or less challenging tasks."
   ]
  },
  {
   "cell_type": "code",
   "execution_count": 12,
   "metadata": {
    "id": "Y6yfMAQ8aduj"
   },
   "outputs": [],
   "source": [
    "import numpy as np\n",
    "import matplotlib.pyplot as plt\n",
    "\n",
    "np.random.seed(42)"
   ]
  },
  {
   "cell_type": "code",
   "execution_count": 13,
   "metadata": {
    "id": "4YabfD43ajNh"
   },
   "outputs": [],
   "source": [
    "def data_generator(noise=0.1, n_samples=300, D1=True):\n",
    "    # Create covariates and response variable\n",
    "    if D1:\n",
    "        X = np.linspace(-3, 3, num=n_samples).reshape(-1,1) # 1-D\n",
    "        np.random.shuffle(X)\n",
    "        y = np.random.normal((0.5*np.sin(X[:,0]*3) + X[:,0]), noise) # 1-D with trend\n",
    "    else:\n",
    "        X = np.random.multivariate_normal(np.zeros(3), noise*np.eye(3), size = n_samples) # 3-D\n",
    "        np.random.shuffle(X)    \n",
    "        y = np.sin(X[:,0]) - 5*(X[:,1]**2) + 0.5*X[:,2] # 3-D\n",
    "\n",
    "    # Stack them together vertically to split data set\n",
    "    data_set = np.vstack((X.T,y)).T\n",
    "    \n",
    "    train, validation, test = np.split(data_set, [int(0.35*n_samples), int(0.7*n_samples)], axis=0)\n",
    "    \n",
    "    # Standardization of the data, remember we do the standardization with the training set mean and standard deviation\n",
    "    train_mu = np.mean(train, axis=0)\n",
    "    train_sigma = np.std(train, axis=0)\n",
    "    \n",
    "    train = (train-train_mu)/train_sigma\n",
    "    validation = (validation-train_mu)/train_sigma\n",
    "    test = (test-train_mu)/train_sigma\n",
    "    \n",
    "    x_train, x_validation, x_test = train[:,:-1], validation[:,:-1], test[:,:-1]\n",
    "    y_train, y_validation, y_test = train[:,-1], validation[:,-1], test[:,-1]\n",
    "\n",
    "    return x_train, y_train,  x_validation, y_validation, x_test, y_test"
   ]
  },
  {
   "cell_type": "code",
   "execution_count": 14,
   "metadata": {
    "id": "u1oDngHLapIz"
   },
   "outputs": [
    {
     "name": "stdout",
     "output_type": "stream",
     "text": [
      "[[ 0.72128804]\n",
      " [ 1.44973391]\n",
      " [ 0.13159377]\n",
      " [-1.52186271]\n",
      " [ 1.06816703]\n",
      " [ 0.9872286 ]\n",
      " [ 0.64034961]\n",
      " [-0.36559944]\n",
      " [-1.56811324]\n",
      " [ 0.39753433]\n",
      " [ 1.11441756]\n",
      " [-0.96685634]\n",
      " [ 0.89472753]\n",
      " [-1.10560793]\n",
      " [ 0.47847276]\n",
      " [ 0.92941543]\n",
      " [ 1.71567446]\n",
      " [ 0.81378911]\n",
      " [ 0.08534324]\n",
      " [ 0.281908  ]\n",
      " [-0.72404105]\n",
      " [-0.3193489 ]\n",
      " [ 1.25316915]\n",
      " [ 1.26473178]\n",
      " [-0.4234126 ]\n",
      " [-1.14029583]\n",
      " [ 1.6231734 ]\n",
      " [ 1.78505026]\n",
      " [ 0.18940694]\n",
      " [ 1.12598019]\n",
      " [-1.42936165]\n",
      " [ 0.27034537]\n",
      " [-1.24435952]\n",
      " [-1.34842322]\n",
      " [ 0.86003964]\n",
      " [-0.24997311]\n",
      " [-1.54498798]\n",
      " [-0.58528946]\n",
      " [-1.0940453 ]\n",
      " [-0.78185421]\n",
      " [-0.55060156]\n",
      " [-0.74716632]\n",
      " [ 1.68098656]\n",
      " [-0.93216844]\n",
      " [-0.73560368]\n",
      " [-0.89748054]\n",
      " [ 1.07972966]\n",
      " [ 1.02191649]\n",
      " [-0.34247417]\n",
      " [ 1.04504176]\n",
      " [ 0.45534749]\n",
      " [ 0.03909271]\n",
      " [ 1.13754282]\n",
      " [-0.75872895]\n",
      " [ 1.80817552]\n",
      " [ 1.5884855 ]\n",
      " [-0.50435103]\n",
      " [-0.56216419]\n",
      " [ 0.59409908]\n",
      " [-1.33686059]\n",
      " [ 1.05660439]\n",
      " [-0.94373107]\n",
      " [-1.55655061]\n",
      " [ 0.51316065]\n",
      " [ 0.37440906]\n",
      " [-1.27904742]\n",
      " [-1.37154849]\n",
      " [ 1.33410758]\n",
      " [-0.97841897]\n",
      " [ 0.52472329]\n",
      " [-0.37716207]\n",
      " [-0.16903468]\n",
      " [ 1.03347913]\n",
      " [ 0.60566172]\n",
      " [-0.13434678]\n",
      " [ 1.63473603]\n",
      " [-0.67779052]\n",
      " [-0.65466525]\n",
      " [-0.86279264]\n",
      " [ 1.70411183]\n",
      " [ 0.25878273]\n",
      " [ 0.15471904]\n",
      " [-1.40623638]\n",
      " [-0.19215994]\n",
      " [-0.71247842]\n",
      " [-0.30778627]\n",
      " [-0.26153574]\n",
      " [-0.79341685]\n",
      " [-1.45248691]\n",
      " [-1.51030008]\n",
      " [ 0.61722435]\n",
      " [-0.4581005 ]\n",
      " [-0.83966738]\n",
      " [ 0.96410333]\n",
      " [-1.19810899]\n",
      " [-1.44092428]\n",
      " [ 0.44378486]\n",
      " [ 0.07378061]\n",
      " [ 1.54223497]\n",
      " [-0.85123001]\n",
      " [ 1.01035386]\n",
      " [-0.82810475]\n",
      " [-1.26748479]\n",
      " [ 0.49003539]\n",
      " [ 1.43817127]]\n"
     ]
    }
   ],
   "source": [
    "D1 = True\n",
    "x_train, y_train,  x_validation, y_validation, x_test, y_test = data_generator(noise=0.5, D1=D1)\n",
    "print(x_train)"
   ]
  },
  {
   "cell_type": "code",
   "execution_count": 15,
   "metadata": {
    "colab": {
     "base_uri": "https://localhost:8080/",
     "height": 265
    },
    "id": "Ysfa3FsBavlm",
    "outputId": "399e5382-ae7d-48f6-9774-7ea4c73e7d95"
   },
   "outputs": [
    {
     "data": {
      "image/png": "[encoded data removed]",
      "text/plain": [
       "<Figure size 640x480 with 1 Axes>"
      ]
     },
     "metadata": {},
     "output_type": "display_data"
    }
   ],
   "source": [
    "if D1:\n",
    "    plt.scatter(x_train[:,0], y_train);\n",
    "    plt.scatter(x_validation[:,0], y_validation);\n",
    "    plt.scatter(x_test[:,0], y_test);\n",
    "else:\n",
    "    plt.scatter(x_train[:,1], y_train);\n",
    "    plt.scatter(x_validation[:,1], y_validation);\n",
    "    plt.scatter(x_test[:,1], y_test);\n",
    "plt.show()"
   ]
  },
  {
   "cell_type": "code",
   "execution_count": 16,
   "metadata": {
    "id": "zac2HHNlgbpm"
   },
   "outputs": [],
   "source": [
    "# convert from nparray to Var\n",
    "def nparray_to_Var(x):\n",
    "  if x.ndim==1:\n",
    "    y = [[Var(float(x[i]))] for i in range(x.shape[0])] # always work with list of list\n",
    "  else:\n",
    "    y = [[Var(float(x[i,j])) for j in range(x.shape[1])] for i in range(x.shape[0])]\n",
    "  return y\n",
    "   \n",
    "x_train = nparray_to_Var(x_train)\n",
    "y_train = nparray_to_Var(y_train)\n",
    "x_validation = nparray_to_Var(x_validation)\n",
    "y_validation = nparray_to_Var(y_validation)\n",
    "x_test = nparray_to_Var(x_test)\n",
    "y_test = nparray_to_Var(y_test)\n"
   ]
  },
  {
   "cell_type": "markdown",
   "metadata": {
    "id": "VbjrqcpVFtGe"
   },
   "source": [
    "# Defining and initializing the network\n",
    "\n",
    "The steps to create a feed forward neural network are the following:\n",
    "\n",
    "1. **Number of hidden layer and hidden units**. We have to define the number of hidden units in each layer. The number of features in X and the output dimensionality (the size of Y) are given but the numbers in between are set by the researcher. Remember that for each unit in each layer beside in the input has a bias term.\n",
    "2. **Activation functions** for each hidden layer. Each hidden layer in your list must have an activation function (it can also be the linear activation which is equivalent to identity function). The power of neural networks comes from non-linear activation functions that learn representations (features) from the data allowing us to learn from it. \n",
    "3. **Parameter initialization**. We will initialize the weights to have random values. This is done in practice by drawing pseudo random numbers from a Gaussian or uniform distribution. It turns out that for deeper models we have to be careful about how we scale the random numbers. This will be the topic of the exercise below. For now we will just use unit variance Gaussians.  \n",
    "\n",
    "In order to make life easier for ourselves we define a DenseLayer class that takes care of initialization and the forward pass. We can also extend it later with print and advanced initialization capabilities. For the latter we have introduced a Initializer class.\n",
    "\n",
    "Note that we use Sequence in the code below. A Sequence is an ordered list. This means the order we insert and access items are the same."
   ]
  },
  {
   "cell_type": "code",
   "execution_count": 17,
   "metadata": {
    "id": "ij_ieRsAt7Xt"
   },
   "outputs": [],
   "source": [
    "class Initializer:\n",
    "\n",
    "  def init_weights(self, n_in, n_out):\n",
    "    raise NotImplementedError\n",
    "\n",
    "  def init_bias(self, n_out):\n",
    "    raise NotImplementedError"
   ]
  },
  {
   "cell_type": "code",
   "execution_count": 18,
   "metadata": {
    "id": "eb18N5phuIha"
   },
   "outputs": [],
   "source": [
    "import random\n",
    "\n",
    "#initialize weights and biases in nn, two possibilities:\n",
    "#- random assignation\n",
    "#- constant assignation\n",
    "class NormalInitializer(Initializer):\n",
    "\n",
    "    # constructor method, takes mean and std deviation\n",
    "  def __init__(self, mean=0, std=0.1):\n",
    "    self.mean = mean\n",
    "    self.std = std\n",
    "\n",
    "    #random values sampled from a normal distribution\n",
    "  def init_weights(self, n_in, n_out):\n",
    "    return [[Var(random.gauss(self.mean, self.std)) for _ in range(n_out)] for _ in range(n_in)]\n",
    "\n",
    "  def init_bias(self, n_out):\n",
    "    return [Var(0.0) for _ in range(n_out)]\n",
    "\n",
    "class ConstantInitializer(Initializer):\n",
    "\n",
    "  def __init__(self, weight=1.0, bias=0.0):\n",
    "    self.weight = weight\n",
    "    self.bias = bias\n",
    "\n",
    "  def init_weights(self, n_in, n_out):\n",
    "    return [[Var(self.weight) for _ in range(n_out)] for _ in range(n_in)]\n",
    "\n",
    "  def init_bias(self, n_out):\n",
    "    return [Var(self.bias) for _ in range(n_out)]\n",
    "  \n",
    "  "
   ]
  },
  {
   "cell_type": "code",
   "execution_count": 19,
   "metadata": {
    "id": "jOLYGnZKuM6W"
   },
   "outputs": [],
   "source": [
    "from typing import Sequence\n",
    "\n",
    "class DenseLayer:\n",
    "    def __init__(self, n_in: int, n_out: int, act_fn, initializer = NormalInitializer()):\n",
    "        self.weights = initializer.init_weights(n_in, n_out)\n",
    "        self.bias = initializer.init_bias(n_out)\n",
    "        self.act_fn = act_fn\n",
    "    \n",
    "    def __repr__(self):    \n",
    "        return 'Weights: ' + repr(self.weights) + ' Biases: ' + repr(self.bias)\n",
    "\n",
    "    def parameters(self) -> Sequence[Var]:\n",
    "      params = []\n",
    "      for r in self.weights:\n",
    "        params += r\n",
    "\n",
    "      return params + self.bias\n",
    "    \n",
    "    def print_parameters(self, layer_name):\n",
    "        print(f'Layer: {layer_name}')\n",
    "        print(f'Weights: {self.weights}')\n",
    "        print(f'Biases: {self.bias}')\n",
    "\n",
    "    def forward(self, single_input: Sequence[Var]) -> Sequence[Var]:\n",
    "        # self.weights is a matrix with dimension n_in x n_out. We check that the dimensionality of the input \n",
    "        # to the current layer matches the number of nodes in the current layer\n",
    "        assert len(self.weights) == len(single_input), \"weights and single_input must match in first dimension\"\n",
    "        weights = self.weights\n",
    "        out = []\n",
    "        # For some given data point single_input, we now want to calculate the resulting value in each node in the current layer\n",
    "        # We therefore loop over the (number of) nodes in the current layer:\n",
    "        for j in range(len(weights[0])): \n",
    "            # Initialize the node value depending on its corresponding parameters.\n",
    "            node = self.bias[j] # <- Insert code\n",
    "            # We now finish the linear transformation corresponding to the parameters of the currently considered node.\n",
    "            for i in range(len(single_input)):\n",
    "                node += single_input[i]*weights[i][j]  # <- Insert code\n",
    "            node = self.act_fn(node)\n",
    "            out.append(node)\n",
    "\n",
    "        return out"
   ]
  },
  {
   "cell_type": "markdown",
   "metadata": {
    "id": "jpIZPBpNI0pO"
   },
   "source": [
    "## Exercise f) Add more activation functions\n",
    "\n",
    "To have a full definition of the neural network, we must define an activation function for every layer. Several activation functions have been proposed and have different characteristics. In the Var class we have already defined the rectified linear init (relu). \n",
    " \n",
    "Implement the following activation functions in the Var class:\n",
    "\n",
    "* Identity: $$\\mathrm{identity}(x) = x$$\n",
    "* Hyperbolic tangent: $$\\tanh(x)$$\n",
    "* Sigmoid (or logistic function): $$\\mathrm{sigmoid}(x) = \\frac{1}{1.0 + \\exp(-x ) }$$  Hint: $\\mathrm{sigmoid}'(x)= \\mathrm{sigmoid}(x)(1-\\mathrm{sigmoid}(x))$.  \n",
    "\n",
    "Hint: You can seek inspiration in the relu method in the Var class."
   ]
  },
  {
   "cell_type": "code",
   "execution_count": 20,
   "metadata": {},
   "outputs": [],
   "source": [
    "# SOLUTION\n",
    "from math import exp, log, tan\n",
    "\n",
    "class Var:\n",
    "    \"\"\"\n",
    "    A variable which holds a float and enables gradient computations.\n",
    "    \"\"\"\n",
    "\n",
    "    def __init__(self, val: float, grad_fn=lambda: []):\n",
    "        assert type(val) == float\n",
    "        self.v = val \n",
    "        self.grad_fn = grad_fn\n",
    "        self.grad = 0.0 # gradient of the loss with respect to the variable Var\n",
    "\n",
    "\n",
    "    # method for incrementally accumulating gradients and recursively backpropagating them through the computation graph\n",
    "    def backprop(self, bp):\n",
    "        self.grad += bp # bp: gradient of the final output with respect to the current variable.\n",
    "        # Used to backpropagate gradients through the computation graph. \n",
    "        # It takes a single argument, bp (backpropagation value), which represents the gradient of the final output \n",
    "        # with respect to the current variable\n",
    "        for input, grad in self.grad_fn():\n",
    "            input.backprop(grad * bp) # chain rule: propagate grad backwards - moltiplica il gradiente della cella per quello della cella avanti\n",
    "\n",
    "    def backward(self):\n",
    "        self.backprop(1.0)\n",
    "\n",
    "    def __add__(self: 'Var', other: 'Var') -> 'Var':\n",
    "        return Var(self.v + other.v, lambda: [(self, 1.0), (other, 1.0)])\n",
    "\n",
    "    def __mul__(self: 'Var', other: 'Var') -> 'Var':\n",
    "        return Var(self.v * other.v, lambda: [(self, other.v), (other, self.v)])\n",
    "\n",
    "    def __pow__(self, power):\n",
    "        assert type(power) in {float, int}, \"power must be float or int\"\n",
    "        return Var(self.v ** power, lambda: [(self, power * self.v ** (power - 1))])\n",
    "\n",
    "    def __neg__(self: 'Var') -> 'Var':\n",
    "        return Var(-1.0) * self\n",
    "\n",
    "    def __sub__(self: 'Var', other: 'Var') -> 'Var':\n",
    "        return self + (-other)\n",
    "\n",
    "    def __truediv__(self: 'Var', other: 'Var') -> 'Var':\n",
    "        return self * other ** -1\n",
    "\n",
    "    def __repr__(self):\n",
    "        return \"Var(v=%.4f, grad=%.4f)\" % (self.v, self.grad)\n",
    "\n",
    "    def relu(self):\n",
    "        return Var(self.v if self.v > 0.0 else 0.0, lambda: [(self, 1.0 if self.v > 0.0 else 0.0)])\n",
    "\n",
    "    # identity activation function f(x) = x\n",
    "    def identity(self):\n",
    "        return Var(self.v, lambda: [(self, 1.0)])  # derivative is 1.0\n",
    "\n",
    "    def tanh(self):\n",
    "        return Var(float((np.exp(self.v)-np.exp(-self.v))/(np.exp(self.v)+np.exp(-self.v))), lambda: [(self, float(1.0-((np.exp(self.v)-np.exp(-self.v))/(np.exp(self.v)+np.exp(-self.v)))**2))])\n",
    "\n",
    "    def sigmoid(self):\n",
    "      return Var(float(1/(1+np.exp(-self.v))), lambda:[(self, float(1/(1+np.exp(-self.v))*(1-1/(1+np.exp(-self.v)))))])\n",
    "    \n",
    "    def exp(self):\n",
    "        return Var(exp(self.v), lambda: [(self, exp(self.v))])\n",
    "\n",
    "    def log(self):\n",
    "        return Var(log(self.v), lambda: [(self, self.v ** -1)])"
   ]
  },
  {
   "cell_type": "markdown",
   "metadata": {
    "id": "p_8n_SKnIW2F"
   },
   "source": [
    "## Exercise g) Complete the forward pass\n",
    "\n",
    "In the code below we initialize a 1-5-1 network and pass the training set through it. *The forward method in DenseLayer is **not** complete*. It just outputs zeros right now. The method forward should perform an [affine transformation](https://en.wikipedia.org/wiki/Affine_transformation) on the input followed by an application of the activation function."
   ]
  },
  {
   "cell_type": "code",
   "execution_count": 21,
   "metadata": {
    "colab": {
     "base_uri": "https://localhost:8080/",
     "height": 337
    },
    "id": "xDEjtePxE7Mv",
    "outputId": "753406cd-d8a1-4282-ce03-25ad959b0e11"
   },
   "outputs": [
    {
     "name": "stdout",
     "output_type": "stream",
     "text": [
      "[[Var(v=-0.0048, grad=0.0000)], [Var(v=-0.0096, grad=0.0000)], [Var(v=-0.0009, grad=0.0000)], [Var(v=-0.0070, grad=0.0000)], [Var(v=-0.0071, grad=0.0000)], [Var(v=-0.0065, grad=0.0000)], [Var(v=-0.0042, grad=0.0000)], [Var(v=-0.0017, grad=0.0000)], [Var(v=-0.0073, grad=0.0000)], [Var(v=-0.0026, grad=0.0000)], [Var(v=-0.0074, grad=0.0000)], [Var(v=-0.0045, grad=0.0000)], [Var(v=-0.0059, grad=0.0000)], [Var(v=-0.0051, grad=0.0000)], [Var(v=-0.0032, grad=0.0000)], [Var(v=-0.0061, grad=0.0000)], [Var(v=-0.0113, grad=0.0000)], [Var(v=-0.0054, grad=0.0000)], [Var(v=-0.0006, grad=0.0000)], [Var(v=-0.0019, grad=0.0000)], [Var(v=-0.0034, grad=0.0000)], [Var(v=-0.0015, grad=0.0000)], [Var(v=-0.0083, grad=0.0000)], [Var(v=-0.0083, grad=0.0000)], [Var(v=-0.0020, grad=0.0000)], [Var(v=-0.0053, grad=0.0000)], [Var(v=-0.0107, grad=0.0000)], [Var(v=-0.0118, grad=0.0000)], [Var(v=-0.0013, grad=0.0000)], [Var(v=-0.0074, grad=0.0000)], [Var(v=-0.0066, grad=0.0000)], [Var(v=-0.0018, grad=0.0000)], [Var(v=-0.0058, grad=0.0000)], [Var(v=-0.0062, grad=0.0000)], [Var(v=-0.0057, grad=0.0000)], [Var(v=-0.0012, grad=0.0000)], [Var(v=-0.0071, grad=0.0000)], [Var(v=-0.0027, grad=0.0000)], [Var(v=-0.0051, grad=0.0000)], [Var(v=-0.0036, grad=0.0000)], [Var(v=-0.0025, grad=0.0000)], [Var(v=-0.0035, grad=0.0000)], [Var(v=-0.0111, grad=0.0000)], [Var(v=-0.0043, grad=0.0000)], [Var(v=-0.0034, grad=0.0000)], [Var(v=-0.0042, grad=0.0000)], [Var(v=-0.0071, grad=0.0000)], [Var(v=-0.0067, grad=0.0000)], [Var(v=-0.0016, grad=0.0000)], [Var(v=-0.0069, grad=0.0000)], [Var(v=-0.0030, grad=0.0000)], [Var(v=-0.0003, grad=0.0000)], [Var(v=-0.0075, grad=0.0000)], [Var(v=-0.0035, grad=0.0000)], [Var(v=-0.0119, grad=0.0000)], [Var(v=-0.0105, grad=0.0000)], [Var(v=-0.0023, grad=0.0000)], [Var(v=-0.0026, grad=0.0000)], [Var(v=-0.0039, grad=0.0000)], [Var(v=-0.0062, grad=0.0000)], [Var(v=-0.0070, grad=0.0000)], [Var(v=-0.0044, grad=0.0000)], [Var(v=-0.0072, grad=0.0000)], [Var(v=-0.0034, grad=0.0000)], [Var(v=-0.0025, grad=0.0000)], [Var(v=-0.0059, grad=0.0000)], [Var(v=-0.0063, grad=0.0000)], [Var(v=-0.0088, grad=0.0000)], [Var(v=-0.0045, grad=0.0000)], [Var(v=-0.0035, grad=0.0000)], [Var(v=-0.0017, grad=0.0000)], [Var(v=-0.0008, grad=0.0000)], [Var(v=-0.0068, grad=0.0000)], [Var(v=-0.0040, grad=0.0000)], [Var(v=-0.0006, grad=0.0000)], [Var(v=-0.0108, grad=0.0000)], [Var(v=-0.0031, grad=0.0000)], [Var(v=-0.0030, grad=0.0000)], [Var(v=-0.0040, grad=0.0000)], [Var(v=-0.0112, grad=0.0000)], [Var(v=-0.0017, grad=0.0000)], [Var(v=-0.0010, grad=0.0000)], [Var(v=-0.0065, grad=0.0000)], [Var(v=-0.0009, grad=0.0000)], [Var(v=-0.0033, grad=0.0000)], [Var(v=-0.0014, grad=0.0000)], [Var(v=-0.0012, grad=0.0000)], [Var(v=-0.0037, grad=0.0000)], [Var(v=-0.0067, grad=0.0000)], [Var(v=-0.0070, grad=0.0000)], [Var(v=-0.0041, grad=0.0000)], [Var(v=-0.0021, grad=0.0000)], [Var(v=-0.0039, grad=0.0000)], [Var(v=-0.0064, grad=0.0000)], [Var(v=-0.0055, grad=0.0000)], [Var(v=-0.0067, grad=0.0000)], [Var(v=-0.0029, grad=0.0000)], [Var(v=-0.0005, grad=0.0000)], [Var(v=-0.0102, grad=0.0000)], [Var(v=-0.0039, grad=0.0000)], [Var(v=-0.0067, grad=0.0000)], [Var(v=-0.0038, grad=0.0000)], [Var(v=-0.0059, grad=0.0000)], [Var(v=-0.0032, grad=0.0000)], [Var(v=-0.0095, grad=0.0000)]]\n"
     ]
    }
   ],
   "source": [
    "NN = [\n",
    "    DenseLayer(1, 5, lambda x: x.relu()),\n",
    "    DenseLayer(5, 1, lambda x: x.identity())\n",
    "]\n",
    "\n",
    "def forward(input, network):\n",
    "    def forward_single(x, network):\n",
    "        for layer in network:\n",
    "            x = layer.forward(x)\n",
    "        return x\n",
    "    output = [ forward_single(input[n], network) for n in range(len(input))]\n",
    "    return output\n",
    "print(forward(x_train, NN))\n"
   ]
  },
  {
   "cell_type": "markdown",
   "metadata": {
    "id": "oLrGJytZFtGm"
   },
   "source": [
    "## Exercise h) Print all network parameters\n",
    "\n",
    "Make a function that prints all the parameters of the network (weights and biases) with information about in which layer the appear. In the object oriented spirit you should introduce a method in the DenseLayer class to print the parameters of a layer. Hint: You can take inspiration from the corresponding method in Var. "
   ]
  },
  {
   "cell_type": "code",
   "execution_count": 22,
   "metadata": {
    "id": "iac-VwYGFtGm"
   },
   "outputs": [
    {
     "name": "stdout",
     "output_type": "stream",
     "text": [
      "Layer: Layer 1\n",
      "Weights: [[Var(v=0.0565, grad=0.0000), Var(v=-0.1804, grad=0.0000), Var(v=-0.0370, grad=0.0000), Var(v=0.1123, grad=0.0000), Var(v=-0.2191, grad=0.0000)]]\n",
      "Biases: [Var(v=0.0000, grad=0.0000), Var(v=0.0000, grad=0.0000), Var(v=0.0000, grad=0.0000), Var(v=0.0000, grad=0.0000), Var(v=0.0000, grad=0.0000)]\n",
      "Layer: Layer 2\n",
      "Weights: [[Var(v=0.0844, grad=0.0000)], [Var(v=-0.0287, grad=0.0000)], [Var(v=-0.1425, grad=0.0000)], [Var(v=-0.2017, grad=0.0000)], [Var(v=0.0153, grad=0.0000)]]\n",
      "Biases: [Var(v=0.0000, grad=0.0000)]\n"
     ]
    }
   ],
   "source": [
    "# Insert code here and in the DenseLayer classù\n",
    "NN=[\n",
    "    DenseLayer(1, 5, lambda x: x.relu()),\n",
    "    DenseLayer(5, 1, lambda x: x.identity())\n",
    "]\n",
    "\n",
    "def print_NN_parameters(NN):\n",
    "    for i, layer in enumerate(NN):\n",
    "        layeri = f'Layer {i + 1}'\n",
    "        layer.print_parameters(layeri)\n",
    "\n",
    "# Print all network parameters\n",
    "print_NN_parameters(NN)"
   ]
  },
  {
   "cell_type": "markdown",
   "metadata": {
    "id": "_79HOAXrFtHK"
   },
   "source": [
    "## Visualization\n",
    "\n",
    "Now that we have defined our activation functions we can visualize them to see what they look like:"
   ]
  },
  {
   "cell_type": "code",
   "execution_count": 23,
   "metadata": {
    "id": "1FcylHqLTl-Z"
   },
   "outputs": [
    {
     "data": {
      "text/plain": [
       "[<matplotlib.lines.Line2D at 0x2746ee74d50>]"
      ]
     },
     "execution_count": 23,
     "metadata": {},
     "output_type": "execute_result"
    },
    {
     "data": {
      "image/png": "[encoded data removed]",
      "text/plain": [
       "<Figure size 640x480 with 1 Axes>"
      ]
     },
     "metadata": {},
     "output_type": "display_data"
    }
   ],
   "source": [
    "import numpy as np\n",
    "import matplotlib.pyplot as plt\n",
    "\n",
    "x = np.linspace(-6, 6, 100)\n",
    "\n",
    "# convert from Var to ndarray  \n",
    "def Var_to_nparray(x):\n",
    "  y = np.zeros((len(x),len(x[0])))\n",
    "  for i in range(len(x)):\n",
    "    for j in range(len(x[0])):\n",
    "      y[i,j] = x[i][j].v\n",
    "  return y\n",
    "\n",
    "# define 1-1 network with weight = 1 and relu activation \n",
    "NN = [ DenseLayer(1, 1, lambda x: x.relu(), initializer = ConstantInitializer(1.0)) ] \n",
    "y = Var_to_nparray(forward(nparray_to_Var(x), NN))\n",
    "\n",
    "#y = Var_to_nparray(relu(nparray_to_Var(x)))\n",
    "plt.plot(x,y)"
   ]
  },
  {
   "cell_type": "code",
   "execution_count": 24,
   "metadata": {
    "id": "oOL2UolJFtHL"
   },
   "outputs": [
    {
     "data": {
      "image/png": "[encoded data removed]",
      "text/plain": [
       "<Figure size 500x500 with 1 Axes>"
      ]
     },
     "metadata": {},
     "output_type": "display_data"
    }
   ],
   "source": [
    "# Testing all activation layers\n",
    "\n",
    "x = np.linspace(-6, 6, 100)\n",
    "units = {\n",
    "    \"identity\": lambda x: x.identity(),\n",
    "    \"sigmoid\": lambda x: x.sigmoid(),\n",
    "    \"relu\": lambda x: x.relu(),\n",
    "    \"tanh\": lambda x: x.tanh()\n",
    "}\n",
    "\n",
    "plt.figure(figsize=(5, 5))\n",
    "[plt.plot(x, Var_to_nparray(forward(nparray_to_Var(x), [DenseLayer(1, 1, unit, initializer = ConstantInitializer(1.0))]) ), label=unit_name, lw=2) for unit_name, unit in units.items()] # unit(nparray_to_Var(x))), label=unit_name, lw=2) for unit_name, unit in units.items()]\n",
    "plt.legend(loc=2, fontsize=16)\n",
    "plt.title('Our activation functions', fontsize=20)\n",
    "plt.ylim([-2, 5])\n",
    "plt.xlim([-6, 6])\n",
    "plt.show()"
   ]
  },
  {
   "cell_type": "markdown",
   "metadata": {
    "id": "b-jdEl-7FtGs"
   },
   "source": [
    "# Advanced initialization schemes\n",
    "\n",
    "If we are not careful with initialization, the signals we propagate forward ($a^{(l)}$, $l=1,\\ldots,L$) and backward ($\\delta^l$, $l=L,L-1,\\ldots,1$) can blow up or shrink to zero. A statistical analysis of the variance of the signals for different activation functions can be found in these two papers: [Glorot initialization](http://proceedings.mlr.press/v9/glorot10a/glorot10a.pdf) and [He initialization](https://arxiv.org/pdf/1502.01852v1.pdf). \n",
    "\n",
    "The result of the analyses are proposals for how to make the initialization such that the variance of the signals (forward and backward) are kept approxmimatly constant when propagating from layer to layer. The exact expressions depend upon the non-linear activation function used. In Glorot initialization, the aim is to keep both the forward and backward variances constant whereas He only aims at keeping the variance in the forward pass constant.\n",
    "\n",
    "We define $n_{in}$ and $n_{out}$ as the number of input units and output units of a particular layer. \n",
    "\n",
    "The Glorot initialization has the form: \n",
    "\n",
    "$$w_{ij} \\sim N \\bigg( 0, \\, \\frac{2 \\alpha }{n_{in} + n_{out}} \\bigg) \\ . $$\n",
    "\n",
    "where $N(\\mu,\\sigma^2)$ is a Gaussian distribution with mean $\\mu$ and variance $\\sigma^2$ and $\\alpha$ is a parameter that depends upon the activation function used. For $\\tanh$, $\\alpha=1$ and for Rectified Linear Unit (ReLU) activations, $\\alpha=2$. (It is also possible to use a uniform distribution for initialization, see [this blog post](https://mmuratarat.github.io/2019-02-25/xavier-glorot-he-weight-init).) \n",
    "\n",
    "The He initialization is very similar\n",
    "\n",
    "$$w_{ij} \\sim N \\bigg( 0, \\, \\frac{\\alpha}{n_{in}} \\bigg) \\ . $$"
   ]
  },
  {
   "cell_type": "markdown",
   "metadata": {
    "id": "mqeyab9qFtGs"
   },
   "source": [
    "## Exercise i) Glorot and He initialization\n",
    " \n",
    "Using the Initializer class, implement functions that implement Glorot and He \n",
    "\n",
    "Explain briefly how you would test numerically that these initializations have the sought after property. Hint: See plots in Glorot paper.\n",
    "\n",
    "Comment: If you want to be more advanced then try to make a universal initializer taking both the activation function and type (Glorot or He) as argument."
   ]
  },
  {
   "cell_type": "code",
   "execution_count": 25,
   "metadata": {
    "id": "Qyk01CgaFtGt"
   },
   "outputs": [],
   "source": [
    "## Glorot\n",
    "def DenseLayer_Glorot_tanh(n_in: int, n_out: int):\n",
    "  alp = 1\n",
    "  std = np.sqrt(2*alp/(n_in+n_out)) # <- replace with proper initialization\n",
    "  return DenseLayer(n_in, n_out, lambda x: x.tanh(), initializer = NormalInitializer(std))\n",
    "\n",
    "## He\n",
    "def DenseLayer_He_relu(n_in: int, n_out: int):\n",
    "  alp = 2\n",
    "  std = np.sqrt(alp/n_in) # <- replace with proper initialization\n",
    "  return DenseLayer(n_in, n_out, lambda x: x.relu(), initializer = NormalInitializer(std))"
   ]
  },
  {
   "cell_type": "markdown",
   "metadata": {},
   "source": [
    "One way to do the testing could be find the mean value and the std deviations of the distribution of weights of the layer after each computation of forward passing and backpropagation, using the technique of minibatches. Analysis can be done through plotting this data."
   ]
  },
  {
   "cell_type": "markdown",
   "metadata": {
    "id": "-XyXBD37FtHk"
   },
   "source": [
    "## Exercise j) Forward pass unit test\n",
    "\n",
    "Write a bit of code to make a unit test that the forward pass works. This can be done by defining a simple network with for example all weights equal to one (using the ConstantInitializer method) and identity activation functions. \n",
    "\n",
    "Hints: Use the [assert](https://www.w3schools.com/python/ref_keyword_assert.asp), the nparray_to_Var and the Var_to_nparray commands. "
   ]
  },
  {
   "cell_type": "code",
   "execution_count": 26,
   "metadata": {
    "id": "k0miqRUAFtHl"
   },
   "outputs": [
    {
     "name": "stdout",
     "output_type": "stream",
     "text": [
      "[[0.37728416 0.37728416 0.37728416 0.37728416 0.37728416]\n",
      " [0.0200712  0.0200712  0.0200712  0.0200712  0.0200712 ]\n",
      " [0.32207917 0.32207917 0.32207917 0.32207917 0.32207917]]\n"
     ]
    }
   ],
   "source": [
    "\n",
    "#check the answer by layer, so we divide the network in to layers\n",
    "NNtest=[DenseLayer(1, 5, lambda x: x.identity(),initializer = ConstantInitializer())]\n",
    "\n",
    "rn = np.random.rand(3, 1)\n",
    "\n",
    "def simple_test(n, network):\n",
    "    output = Var_to_nparray(forward(nparray_to_Var(n), network))\n",
    "    # assert np.array_equal(n, output)  # Checks if arrays are equal, for when more than one sample\n",
    "    print(output)\n",
    "\n",
    "simple_test(rn, NNtest)\n",
    "\n",
    "\n",
    "\n"
   ]
  },
  {
   "cell_type": "markdown",
   "metadata": {
    "id": "faCxhfFnFtHp"
   },
   "source": [
    "# Loss functions\n",
    "\n",
    "We are only missing a loss function to we need to define a loss function and its derivative with respect to the output of the neural network $y$"
   ]
  },
  {
   "cell_type": "code",
   "execution_count": 27,
   "metadata": {
    "id": "I2eDYKvAFtHq"
   },
   "outputs": [],
   "source": [
    "def squared_loss(t, y):\n",
    "  \n",
    "  # add check that sizes agree\n",
    "  \n",
    "  def squared_loss_single(t, y):\n",
    "    Loss = Var(0.0)\n",
    "    for i in range(len(t)): # sum over outputs\n",
    "      Loss += (t[i]-y[i]) ** 2\n",
    "    return Loss\n",
    "\n",
    "  Loss = Var(0.0)\n",
    "  for n in range(len(t)): # sum over training data\n",
    "    Loss += squared_loss_single(t[n],y[n])\n",
    "  return Loss"
   ]
  },
  {
   "cell_type": "markdown",
   "metadata": {
    "id": "SrwSJ2UWFtHu"
   },
   "source": [
    "## Exercise k) Implement cross entropy loss\n",
    "\n",
    "Insert code below to implement cross-entropy loss for general dimensionality of $t$. Use a logits formulation:\n",
    "$$\n",
    "\\rm{Loss} = - \\sum_i t_i \\, log \\, p_i \n",
    "$$\n",
    "with $p$ given by the the softmax function in terms of the logits $h$:\n",
    "$$\n",
    "p_i = \\frac{\\exp(h_i)}{\\sum_{i'} \\exp(h_{i'})} .\n",
    "$$\n",
    "Inserting $p$ in the expression for the loss gives\n",
    "$$\n",
    "\\rm{Loss} = - \\sum_i t_i h_i + \\rm{LogSumExp}(h) \\ ,\n",
    "$$\n",
    "where \n",
    "$$\n",
    "\\rm{LogSumExp}(h) = \\log \\sum_i \\exp h_i \\ .\n",
    "$$\n",
    "This is true for $t$ being a one-hot vector. \n",
    "\n",
    "Call the function to convince yourself it works. \n",
    "\n",
    "In practice you want to implement a [numerically stable](https://leimao.github.io/blog/LogSumExp/) version of LogSumExp. But we will not bother about that here.\n",
    "\n",
    "Help: You can add these methods in the Var class:\n",
    "\n",
    "    def exp(self):\n",
    "        return Var(exp(self.v), lambda: [(self, exp(self.v))])\n",
    "    \n",
    "    def log(self):\n",
    "        return Var(log(self.v), lambda: [(self, self.v ** -1)])"
   ]
  },
  {
   "cell_type": "code",
   "execution_count": 28,
   "metadata": {
    "id": "6nMuxyfzFtHv"
   },
   "outputs": [],
   "source": [
    "def cross_entropy_loss(t, y):\n",
    "     \n",
    "    Loss = Var(0.0)\n",
    "\n",
    "    logsumexp = lambda x: np.log(np.sum(np.exp(x)))\n",
    "    for i in range(len(y)):\n",
    "        Loss += logsumexp(y[i]) - np.sum(t[i]*y[i])\n",
    "    \n",
    "    return Loss\n",
    "\n",
    "#then can be iterated on all samples"
   ]
  },
  {
   "cell_type": "markdown",
   "metadata": {
    "id": "8fAF5ew4FtHy"
   },
   "source": [
    "# Backward pass\n",
    "\n",
    "Now the magic happens! We get the calculation of the gradients for free. Just do:"
   ]
  },
  {
   "cell_type": "code",
   "execution_count": 29,
   "metadata": {
    "id": "iHyfPPI9Qqwu"
   },
   "outputs": [],
   "source": [
    "NN = [\n",
    "    DenseLayer(1, 5, lambda x: x.relu()),\n",
    "    DenseLayer(5, 1, lambda x: x.identity())\n",
    "]\n",
    "\n",
    "output = forward(x_train, NN)\n",
    "\n",
    "Loss = squared_loss(y_train,output)\n",
    "Loss.backward()"
   ]
  },
  {
   "cell_type": "markdown",
   "metadata": {
    "id": "49biIAYKQ1oG"
   },
   "source": [
    "and the gradients will be calculated:"
   ]
  },
  {
   "cell_type": "code",
   "execution_count": 30,
   "metadata": {
    "id": "_rGt1bq_Q7uk"
   },
   "outputs": [
    {
     "name": "stdout",
     "output_type": "stream",
     "text": [
      "Layer 0 \n",
      " Weights: [[Var(v=-0.0146, grad=-1.8742), Var(v=0.1418, grad=-7.7804), Var(v=-0.0806, grad=4.4060), Var(v=0.1863, grad=6.9502), Var(v=-0.0437, grad=15.3253)]] Biases: [Var(v=0.0000, grad=1.7033), Var(v=0.0000, grad=-6.6831), Var(v=0.0000, grad=-4.0040), Var(v=0.0000, grad=5.9700), Var(v=0.0000, grad=-13.9272)]\n",
      "Layer 1 \n",
      " Weights: [[Var(v=0.0197, grad=1.3893)], [Var(v=0.0764, grad=-14.4351)], [Var(v=-0.0464, grad=7.6530)], [Var(v=-0.0683, grad=-18.9618)], [Var(v=-0.1614, grad=4.1452)]] Biases: [Var(v=0.0000, grad=-1.1461)]\n"
     ]
    },
    {
     "data": {
      "text/plain": [
       "[None, None]"
      ]
     },
     "execution_count": 30,
     "metadata": {},
     "output_type": "execute_result"
    }
   ],
   "source": [
    "[print('Layer', i, '\\n', NN[i]) for i in range(len(NN))] "
   ]
  },
  {
   "cell_type": "markdown",
   "metadata": {
    "id": "D7d7qK0uFtH9"
   },
   "source": [
    "# Backward pass unit test\n",
    "\n",
    "Above we used finite differences to test that Nanograd is actually doing what it is supposed to do. We can in principle try the same for the neural network. But we will trust that the test above is enough."
   ]
  },
  {
   "cell_type": "markdown",
   "metadata": {
    "id": "WgBi8GOSFtIN"
   },
   "source": [
    "# Training and validation\n",
    "\n",
    "We are ready to train some neural networks!\n",
    "\n",
    "We initialize again:"
   ]
  },
  {
   "cell_type": "code",
   "execution_count": 31,
   "metadata": {
    "id": "01ePmzBzRtdh"
   },
   "outputs": [],
   "source": [
    "NN = [\n",
    "    DenseLayer(1, 15, lambda x: x.relu()),\n",
    "    DenseLayer(15, 50, lambda x: x.relu()),\n",
    "    DenseLayer(50, 1, lambda x: x.identity())\n",
    "]\n",
    "\n",
    "output = forward(x_train, NN)\n",
    "\n",
    "Loss = squared_loss(y_train,output)\n",
    "Loss.backward()"
   ]
  },
  {
   "cell_type": "markdown",
   "metadata": {
    "id": "10iRPiQ1ISHw"
   },
   "source": [
    "and make an update:\n",
    "\n",
    "We introduce a help function parameters to have a handle in all parameters in the network."
   ]
  },
  {
   "cell_type": "code",
   "execution_count": 32,
   "metadata": {
    "id": "dhAI7eyeznia"
   },
   "outputs": [
    {
     "name": "stdout",
     "output_type": "stream",
     "text": [
      "Network before update:\n",
      "Layer 0 \n",
      " Weights: [[Var(v=-0.1415, grad=1.4853), Var(v=0.0337, grad=0.8385), Var(v=-0.1208, grad=-8.3604), Var(v=-0.1084, grad=-9.5429), Var(v=-0.1110, grad=-3.6223), Var(v=0.0719, grad=-0.5801), Var(v=0.0367, grad=0.5761), Var(v=-0.0216, grad=-7.8693), Var(v=0.0178, grad=7.5775), Var(v=-0.0180, grad=0.6162), Var(v=-0.1944, grad=0.4184), Var(v=0.1054, grad=-1.6454), Var(v=-0.0864, grad=2.0971), Var(v=0.0238, grad=2.6446), Var(v=-0.0153, grad=6.2599)]] Biases: [Var(v=0.0000, grad=-1.3506), Var(v=0.0000, grad=0.7203), Var(v=0.0000, grad=7.6020), Var(v=0.0000, grad=8.6772), Var(v=0.0000, grad=3.2937), Var(v=0.0000, grad=-0.4983), Var(v=0.0000, grad=0.4948), Var(v=0.0000, grad=7.1554), Var(v=0.0000, grad=6.5090), Var(v=0.0000, grad=-0.5603), Var(v=0.0000, grad=-0.3805), Var(v=0.0000, grad=-1.4134), Var(v=0.0000, grad=-1.9069), Var(v=0.0000, grad=2.2717), Var(v=0.0000, grad=-5.6920)]\n",
      "Layer 1 \n",
      " Weights: [[Var(v=0.0577, grad=0.0000), Var(v=-0.0732, grad=0.0000), Var(v=-0.0380, grad=-0.0334), Var(v=-0.1313, grad=0.0000), Var(v=0.1253, grad=0.5723), Var(v=-0.0938, grad=1.1471), Var(v=0.0461, grad=0.0000), Var(v=-0.1748, grad=0.0000), Var(v=-0.1789, grad=0.0000), Var(v=0.0469, grad=0.0706), Var(v=0.0455, grad=0.0000), Var(v=0.1545, grad=0.3280), Var(v=0.1432, grad=0.0000), Var(v=0.0741, grad=-0.5130), Var(v=-0.0538, grad=0.0000), Var(v=-0.1888, grad=1.2217), Var(v=0.0176, grad=-0.9656), Var(v=-0.0217, grad=0.0000), Var(v=-0.2301, grad=0.0000), Var(v=-0.0378, grad=0.0520), Var(v=0.0132, grad=2.9724), Var(v=0.0846, grad=1.0857), Var(v=-0.0082, grad=0.0000), Var(v=-0.1210, grad=0.0000), Var(v=-0.2035, grad=0.0000), Var(v=0.1243, grad=-0.3834), Var(v=-0.0370, grad=0.0000), Var(v=0.0295, grad=0.0000), Var(v=0.0226, grad=-0.6336), Var(v=-0.1148, grad=0.0000), Var(v=0.0170, grad=-0.5917), Var(v=0.0117, grad=2.9465), Var(v=-0.0270, grad=1.6554), Var(v=-0.0376, grad=1.6515), Var(v=-0.0548, grad=0.0000), Var(v=0.1419, grad=0.0000), Var(v=-0.0932, grad=-0.5874), Var(v=-0.0735, grad=0.0000), Var(v=-0.1470, grad=0.0000), Var(v=0.0282, grad=0.0000), Var(v=-0.1021, grad=-2.0546), Var(v=0.0077, grad=0.0000), Var(v=-0.0185, grad=0.0000), Var(v=-0.1212, grad=1.2023), Var(v=0.0752, grad=0.0000), Var(v=0.0799, grad=0.0000), Var(v=-0.0605, grad=0.0000), Var(v=0.0308, grad=-0.3485), Var(v=-0.0853, grad=-0.9594), Var(v=0.1336, grad=-0.8876)], [Var(v=-0.0665, grad=0.0000), Var(v=-0.1093, grad=0.0000), Var(v=0.0416, grad=0.0082), Var(v=-0.0216, grad=0.0000), Var(v=0.1458, grad=-0.1413), Var(v=0.1112, grad=-0.2831), Var(v=-0.0116, grad=-0.4818), Var(v=0.0316, grad=-0.0224), Var(v=-0.1104, grad=0.0000), Var(v=0.0713, grad=0.0000), Var(v=0.0292, grad=0.0000), Var(v=-0.1839, grad=-0.0810), Var(v=0.0813, grad=0.1948), Var(v=0.2537, grad=0.1266), Var(v=0.0133, grad=0.0000), Var(v=-0.0174, grad=0.0000), Var(v=0.0411, grad=0.0000), Var(v=-0.0191, grad=0.0000), Var(v=0.1508, grad=-0.0871), Var(v=-0.0781, grad=0.0000), Var(v=0.0119, grad=0.0000), Var(v=0.0461, grad=-0.2680), Var(v=0.0111, grad=0.0000), Var(v=0.0600, grad=0.0000), Var(v=0.0539, grad=-0.2033), Var(v=0.0154, grad=0.0946), Var(v=-0.1210, grad=0.2389), Var(v=-0.0720, grad=0.0000), Var(v=0.1328, grad=0.0000), Var(v=-0.0602, grad=0.0000), Var(v=-0.0398, grad=0.0000), Var(v=-0.0024, grad=-0.7273), Var(v=-0.1834, grad=-0.4086), Var(v=0.1189, grad=-0.4076), Var(v=-0.0458, grad=0.2087), Var(v=-0.0187, grad=-0.0189), Var(v=0.0014, grad=0.1450), Var(v=0.2559, grad=0.0000), Var(v=0.1666, grad=0.0465), Var(v=0.0994, grad=0.0000), Var(v=-0.0021, grad=0.5071), Var(v=-0.0194, grad=-0.0564), Var(v=-0.0134, grad=0.0000), Var(v=-0.0331, grad=0.0000), Var(v=0.0461, grad=0.0000), Var(v=-0.0005, grad=0.0000), Var(v=0.0328, grad=0.0000), Var(v=0.0411, grad=0.0860), Var(v=0.1925, grad=0.2368), Var(v=0.0631, grad=0.0000)], [Var(v=-0.1612, grad=0.0000), Var(v=-0.1084, grad=0.0000), Var(v=0.1756, grad=-0.0285), Var(v=0.0599, grad=0.0000), Var(v=-0.1022, grad=0.4889), Var(v=0.0206, grad=0.9798), Var(v=-0.2073, grad=0.0000), Var(v=-0.1082, grad=0.0000), Var(v=-0.0184, grad=0.0000), Var(v=0.1484, grad=0.0603), Var(v=-0.0126, grad=0.0000), Var(v=-0.0371, grad=0.2802), Var(v=-0.0437, grad=0.0000), Var(v=-0.1234, grad=-0.4382), Var(v=0.0315, grad=0.0000), Var(v=0.1562, grad=1.0436), Var(v=0.0375, grad=-0.8248), Var(v=-0.0463, grad=0.0000), Var(v=0.0918, grad=0.0000), Var(v=0.0061, grad=0.0444), Var(v=0.1431, grad=2.5389), Var(v=0.0442, grad=0.9274), Var(v=-0.1054, grad=0.0000), Var(v=-0.1587, grad=0.0000), Var(v=0.0924, grad=0.0000), Var(v=0.0572, grad=-0.3275), Var(v=-0.0154, grad=0.0000), Var(v=-0.0361, grad=0.0000), Var(v=-0.1095, grad=-0.5412), Var(v=0.0012, grad=0.0000), Var(v=0.0119, grad=-0.5054), Var(v=0.1140, grad=2.5168), Var(v=0.0009, grad=1.4140), Var(v=0.1535, grad=1.4107), Var(v=-0.1633, grad=0.0000), Var(v=-0.2185, grad=0.0000), Var(v=0.1653, grad=-0.5018), Var(v=-0.0706, grad=0.0000), Var(v=-0.1444, grad=0.0000), Var(v=0.1303, grad=0.0000), Var(v=0.0004, grad=-1.7549), Var(v=-0.0632, grad=0.0000), Var(v=0.1101, grad=0.0000), Var(v=-0.0201, grad=1.0270), Var(v=-0.1419, grad=0.0000), Var(v=-0.1179, grad=0.0000), Var(v=0.1240, grad=0.0000), Var(v=0.0178, grad=-0.2976), Var(v=-0.0738, grad=-0.8195), Var(v=0.0456, grad=-0.7581)], [Var(v=0.0778, grad=0.0000), Var(v=-0.0047, grad=0.0000), Var(v=0.0669, grad=-0.0256), Var(v=0.1801, grad=0.0000), Var(v=0.0890, grad=0.4386), Var(v=0.3032, grad=0.8790), Var(v=-0.0442, grad=0.0000), Var(v=-0.0729, grad=0.0000), Var(v=-0.0179, grad=0.0000), Var(v=-0.0756, grad=0.0541), Var(v=0.0474, grad=0.0000), Var(v=0.1288, grad=0.2514), Var(v=-0.0832, grad=0.0000), Var(v=0.1437, grad=-0.3931), Var(v=0.0878, grad=0.0000), Var(v=-0.0876, grad=0.9362), Var(v=-0.0049, grad=-0.7399), Var(v=-0.0707, grad=0.0000), Var(v=0.0408, grad=0.0000), Var(v=0.0738, grad=0.0399), Var(v=0.1476, grad=2.2778), Var(v=0.0896, grad=0.8320), Var(v=-0.0631, grad=0.0000), Var(v=0.0510, grad=0.0000), Var(v=0.0004, grad=0.0000), Var(v=-0.0880, grad=-0.2938), Var(v=-0.1102, grad=0.0000), Var(v=-0.0138, grad=0.0000), Var(v=0.1924, grad=-0.4856), Var(v=-0.1244, grad=0.0000), Var(v=0.0014, grad=-0.4535), Var(v=-0.0257, grad=2.2579), Var(v=0.0394, grad=1.2685), Var(v=0.0963, grad=1.2656), Var(v=0.0837, grad=0.0000), Var(v=0.0045, grad=0.0000), Var(v=0.0404, grad=-0.4502), Var(v=-0.0278, grad=0.0000), Var(v=0.2235, grad=0.0000), Var(v=-0.0400, grad=0.0000), Var(v=-0.2132, grad=-1.5744), Var(v=0.0166, grad=0.0000), Var(v=0.0218, grad=0.0000), Var(v=0.2036, grad=0.9213), Var(v=-0.0120, grad=0.0000), Var(v=-0.0410, grad=0.0000), Var(v=-0.0579, grad=0.0000), Var(v=0.0459, grad=-0.2670), Var(v=0.0931, grad=-0.7352), Var(v=0.0682, grad=-0.6801)], [Var(v=-0.0607, grad=0.0000), Var(v=0.1529, grad=0.0000), Var(v=0.2485, grad=-0.0262), Var(v=0.0214, grad=0.0000), Var(v=0.0986, grad=0.4490), Var(v=0.0089, grad=0.8998), Var(v=-0.0656, grad=0.0000), Var(v=-0.0485, grad=0.0000), Var(v=-0.1029, grad=0.0000), Var(v=-0.0291, grad=0.0554), Var(v=-0.1799, grad=0.0000), Var(v=0.1239, grad=0.2573), Var(v=-0.0352, grad=0.0000), Var(v=-0.0955, grad=-0.4024), Var(v=-0.0874, grad=0.0000), Var(v=0.1592, grad=0.9584), Var(v=-0.1224, grad=-0.7575), Var(v=-0.1073, grad=0.0000), Var(v=-0.1372, grad=0.0000), Var(v=0.0620, grad=0.0408), Var(v=-0.0570, grad=2.3317), Var(v=0.0316, grad=0.8517), Var(v=0.0316, grad=0.0000), Var(v=-0.0012, grad=0.0000), Var(v=-0.0999, grad=0.0000), Var(v=-0.1065, grad=-0.3008), Var(v=-0.0425, grad=0.0000), Var(v=-0.1700, grad=0.0000), Var(v=0.0130, grad=-0.4971), Var(v=-0.2172, grad=0.0000), Var(v=0.0342, grad=-0.4642), Var(v=0.1289, grad=2.3114), Var(v=0.0388, grad=1.2985), Var(v=-0.1148, grad=1.2955), Var(v=-0.1116, grad=0.0000), Var(v=-0.0617, grad=0.0000), Var(v=0.0807, grad=-0.4608), Var(v=-0.1733, grad=0.0000), Var(v=0.0400, grad=0.0000), Var(v=-0.1288, grad=0.0000), Var(v=0.1470, grad=-1.6117), Var(v=-0.1879, grad=0.0000), Var(v=-0.0566, grad=0.0000), Var(v=0.1509, grad=0.9431), Var(v=0.0837, grad=0.0000), Var(v=-0.0423, grad=0.0000), Var(v=-0.0872, grad=0.0000), Var(v=-0.1544, grad=-0.2733), Var(v=0.0509, grad=-0.7526), Var(v=-0.0924, grad=-0.6962)], [Var(v=-0.0768, grad=0.0000), Var(v=-0.0525, grad=0.0000), Var(v=0.0251, grad=0.0176), Var(v=-0.0152, grad=0.0000), Var(v=0.0592, grad=-0.3012), Var(v=-0.1416, grad=-0.6036), Var(v=0.0550, grad=-1.0273), Var(v=-0.0772, grad=-0.0477), Var(v=-0.3382, grad=0.0000), Var(v=-0.1516, grad=0.0000), Var(v=-0.1047, grad=0.0000), Var(v=0.0308, grad=-0.1726), Var(v=0.1642, grad=0.4154), Var(v=0.0690, grad=0.2700), Var(v=-0.2354, grad=0.0000), Var(v=-0.1536, grad=0.0000), Var(v=-0.0087, grad=0.0000), Var(v=0.1136, grad=0.0000), Var(v=0.1554, grad=-0.1856), Var(v=-0.0198, grad=0.0000), Var(v=0.1913, grad=0.0000), Var(v=0.1129, grad=-0.5713), Var(v=-0.1354, grad=0.0000), Var(v=0.0446, grad=0.0000), Var(v=0.1414, grad=-0.4334), Var(v=0.0424, grad=0.2018), Var(v=0.0696, grad=0.5094), Var(v=-0.0179, grad=0.0000), Var(v=-0.1526, grad=0.0000), Var(v=-0.1188, grad=0.0000), Var(v=-0.2417, grad=0.0000), Var(v=0.0779, grad=-1.5506), Var(v=0.1352, grad=-0.8711), Var(v=0.0894, grad=-0.8691), Var(v=0.0970, grad=0.4449), Var(v=0.0247, grad=-0.0403), Var(v=0.1955, grad=0.3091), Var(v=-0.0434, grad=0.0000), Var(v=-0.1629, grad=0.0991), Var(v=-0.0318, grad=0.0000), Var(v=0.1472, grad=1.0812), Var(v=0.0695, grad=-0.1203), Var(v=0.0560, grad=0.0000), Var(v=0.1199, grad=0.0000), Var(v=0.0654, grad=0.0000), Var(v=-0.1723, grad=0.0000), Var(v=-0.0092, grad=0.0000), Var(v=0.1169, grad=0.1834), Var(v=0.0590, grad=0.5049), Var(v=-0.1141, grad=0.0000)], [Var(v=-0.1792, grad=0.0000), Var(v=-0.0541, grad=0.0000), Var(v=-0.0933, grad=0.0090), Var(v=0.0088, grad=0.0000), Var(v=0.1503, grad=-0.1537), Var(v=0.0332, grad=-0.3080), Var(v=0.0093, grad=-0.5242), Var(v=0.0600, grad=-0.0244), Var(v=-0.1165, grad=0.0000), Var(v=-0.0301, grad=0.0000), Var(v=-0.1272, grad=0.0000), Var(v=-0.1208, grad=-0.0881), Var(v=-0.0642, grad=0.2120), Var(v=0.1191, grad=0.1378), Var(v=-0.0060, grad=0.0000), Var(v=0.0853, grad=0.0000), Var(v=0.0323, grad=0.0000), Var(v=0.0465, grad=0.0000), Var(v=-0.0756, grad=-0.0947), Var(v=0.0569, grad=0.0000), Var(v=0.0878, grad=0.0000), Var(v=0.2213, grad=-0.2915), Var(v=-0.1805, grad=0.0000), Var(v=-0.2472, grad=0.0000), Var(v=0.0717, grad=-0.2212), Var(v=-0.0979, grad=0.1030), Var(v=-0.0411, grad=0.2599), Var(v=0.0133, grad=0.0000), Var(v=0.0219, grad=0.0000), Var(v=-0.0620, grad=0.0000), Var(v=0.0691, grad=0.0000), Var(v=-0.0549, grad=-0.7912), Var(v=0.0822, grad=-0.4445), Var(v=-0.0360, grad=-0.4435), Var(v=-0.0976, grad=0.2270), Var(v=-0.0209, grad=-0.0205), Var(v=0.1984, grad=0.1577), Var(v=-0.1176, grad=0.0000), Var(v=-0.0850, grad=0.0506), Var(v=-0.0037, grad=0.0000), Var(v=0.1791, grad=0.5517), Var(v=0.0715, grad=-0.0614), Var(v=0.0129, grad=0.0000), Var(v=-0.1321, grad=0.0000), Var(v=0.0254, grad=0.0000), Var(v=-0.0250, grad=0.0000), Var(v=0.0193, grad=0.0000), Var(v=-0.0060, grad=0.0936), Var(v=0.0781, grad=0.2576), Var(v=-0.0234, grad=0.0000)], [Var(v=-0.0611, grad=0.0000), Var(v=-0.1251, grad=0.0000), Var(v=-0.0324, grad=-0.0051), Var(v=0.0358, grad=0.0000), Var(v=0.0104, grad=0.0874), Var(v=0.2327, grad=0.1752), Var(v=-0.0348, grad=0.0000), Var(v=0.0643, grad=0.0000), Var(v=-0.1380, grad=0.0000), Var(v=0.0400, grad=0.0108), Var(v=0.1555, grad=0.0000), Var(v=-0.0450, grad=0.0501), Var(v=0.0513, grad=0.0000), Var(v=0.1466, grad=-0.0783), Var(v=-0.0470, grad=0.0000), Var(v=0.1306, grad=0.1866), Var(v=-0.0839, grad=-0.1475), Var(v=-0.0889, grad=0.0000), Var(v=0.1479, grad=0.0000), Var(v=0.0601, grad=0.0079), Var(v=0.1892, grad=0.4539), Var(v=-0.0802, grad=0.1658), Var(v=0.1948, grad=0.0000), Var(v=0.1808, grad=0.0000), Var(v=0.0999, grad=0.0000), Var(v=-0.1001, grad=-0.0586), Var(v=-0.0765, grad=0.0000), Var(v=-0.0545, grad=0.0000), Var(v=-0.0079, grad=-0.0968), Var(v=0.0852, grad=0.0000), Var(v=-0.0212, grad=-0.0904), Var(v=0.0745, grad=0.4500), Var(v=-0.1199, grad=0.2528), Var(v=0.0981, grad=0.2522), Var(v=0.1117, grad=0.0000), Var(v=0.0411, grad=0.0000), Var(v=-0.0912, grad=-0.0897), Var(v=-0.0556, grad=0.0000), Var(v=-0.1156, grad=0.0000), Var(v=-0.0991, grad=0.0000), Var(v=0.0267, grad=-0.3138), Var(v=0.0597, grad=0.0000), Var(v=0.0513, grad=0.0000), Var(v=-0.0812, grad=0.1836), Var(v=0.0200, grad=0.0000), Var(v=-0.0072, grad=0.0000), Var(v=-0.2125, grad=0.0000), Var(v=-0.0006, grad=-0.0532), Var(v=0.0005, grad=-0.1465), Var(v=-0.0761, grad=-0.1355)], [Var(v=0.0569, grad=0.0000), Var(v=-0.0187, grad=0.0000), Var(v=0.0391, grad=0.0044), Var(v=0.1020, grad=0.0000), Var(v=0.1188, grad=-0.0746), Var(v=-0.0525, grad=-0.1496), Var(v=0.0377, grad=-0.2546), Var(v=-0.0242, grad=-0.0118), Var(v=0.1848, grad=0.0000), Var(v=0.0558, grad=0.0000), Var(v=-0.1303, grad=0.0000), Var(v=0.0363, grad=-0.0428), Var(v=0.0650, grad=0.1029), Var(v=0.0544, grad=0.0669), Var(v=-0.0460, grad=0.0000), Var(v=0.1674, grad=0.0000), Var(v=-0.0083, grad=0.0000), Var(v=-0.0828, grad=0.0000), Var(v=-0.0508, grad=-0.0460), Var(v=-0.2188, grad=0.0000), Var(v=0.0336, grad=0.0000), Var(v=-0.2611, grad=-0.1416), Var(v=-0.0360, grad=0.0000), Var(v=0.0325, grad=0.0000), Var(v=0.0898, grad=-0.1074), Var(v=0.1432, grad=0.0500), Var(v=-0.0095, grad=0.1263), Var(v=-0.0511, grad=0.0000), Var(v=0.0095, grad=0.0000), Var(v=-0.1856, grad=0.0000), Var(v=-0.1026, grad=0.0000), Var(v=-0.0893, grad=-0.3843), Var(v=0.0142, grad=-0.2159), Var(v=-0.0682, grad=-0.2154), Var(v=0.0738, grad=0.1103), Var(v=0.0835, grad=-0.0100), Var(v=0.0990, grad=0.0766), Var(v=0.0133, grad=0.0000), Var(v=0.0558, grad=0.0246), Var(v=-0.1124, grad=0.0000), Var(v=0.0726, grad=0.2680), Var(v=-0.2308, grad=-0.0298), Var(v=-0.0418, grad=0.0000), Var(v=0.0142, grad=0.0000), Var(v=0.0787, grad=0.0000), Var(v=0.0824, grad=0.0000), Var(v=0.1872, grad=0.0000), Var(v=0.0423, grad=0.0454), Var(v=0.0815, grad=0.1251), Var(v=0.1040, grad=0.0000)], [Var(v=0.0171, grad=0.0000), Var(v=-0.0266, grad=0.0000), Var(v=-0.0459, grad=-0.0043), Var(v=-0.1583, grad=0.0000), Var(v=-0.1766, grad=0.0729), Var(v=-0.1258, grad=0.1461), Var(v=0.0799, grad=0.0000), Var(v=-0.0218, grad=0.0000), Var(v=0.1162, grad=0.0000), Var(v=0.1755, grad=0.0090), Var(v=0.0718, grad=0.0000), Var(v=0.1069, grad=0.0418), Var(v=-0.0401, grad=0.0000), Var(v=-0.1144, grad=-0.0653), Var(v=0.0245, grad=0.0000), Var(v=0.0419, grad=0.1556), Var(v=0.2186, grad=-0.1230), Var(v=-0.0247, grad=0.0000), Var(v=0.1676, grad=0.0000), Var(v=-0.1129, grad=0.0066), Var(v=0.0243, grad=0.3785), Var(v=-0.0175, grad=0.1382), Var(v=0.0892, grad=0.0000), Var(v=0.1555, grad=0.0000), Var(v=0.0301, grad=0.0000), Var(v=-0.2093, grad=-0.0488), Var(v=-0.1426, grad=0.0000), Var(v=0.0548, grad=0.0000), Var(v=-0.0357, grad=-0.0807), Var(v=-0.0020, grad=0.0000), Var(v=-0.0291, grad=-0.0754), Var(v=0.0587, grad=0.3752), Var(v=-0.2074, grad=0.2108), Var(v=-0.0877, grad=0.2103), Var(v=0.0602, grad=0.0000), Var(v=-0.0259, grad=0.0000), Var(v=-0.1444, grad=-0.0748), Var(v=0.0076, grad=0.0000), Var(v=-0.1573, grad=0.0000), Var(v=-0.0655, grad=0.0000), Var(v=-0.0728, grad=-0.2616), Var(v=0.0223, grad=0.0000), Var(v=-0.1515, grad=0.0000), Var(v=0.1506, grad=0.1531), Var(v=0.0836, grad=0.0000), Var(v=-0.1143, grad=0.0000), Var(v=-0.1479, grad=0.0000), Var(v=-0.1066, grad=-0.0444), Var(v=0.0940, grad=-0.1222), Var(v=0.0048, grad=-0.1130)], [Var(v=0.0393, grad=0.0000), Var(v=-0.0144, grad=0.0000), Var(v=0.0429, grad=-0.0459), Var(v=-0.0216, grad=0.0000), Var(v=0.1015, grad=0.7865), Var(v=0.1388, grad=1.5762), Var(v=0.0587, grad=0.0000), Var(v=0.0751, grad=0.0000), Var(v=-0.0173, grad=0.0000), Var(v=0.0498, grad=0.0970), Var(v=-0.1583, grad=0.0000), Var(v=0.0622, grad=0.4508), Var(v=-0.1275, grad=0.0000), Var(v=0.2191, grad=-0.7050), Var(v=-0.1423, grad=0.0000), Var(v=0.0035, grad=1.6788), Var(v=0.1094, grad=-1.3269), Var(v=-0.1080, grad=0.0000), Var(v=-0.0249, grad=0.0000), Var(v=0.2248, grad=0.0715), Var(v=-0.0246, grad=4.0845), Var(v=0.0211, grad=1.4919), Var(v=-0.0028, grad=0.0000), Var(v=-0.0389, grad=0.0000), Var(v=0.0320, grad=0.0000), Var(v=0.0737, grad=-0.5269), Var(v=-0.0108, grad=0.0000), Var(v=0.0691, grad=0.0000), Var(v=0.0324, grad=-0.8707), Var(v=-0.0872, grad=0.0000), Var(v=0.1150, grad=-0.8131), Var(v=0.0055, grad=4.0489), Var(v=0.1263, grad=2.2747), Var(v=0.0697, grad=2.2694), Var(v=-0.1604, grad=0.0000), Var(v=-0.0593, grad=0.0000), Var(v=-0.0181, grad=-0.8072), Var(v=0.1287, grad=0.0000), Var(v=-0.1669, grad=0.0000), Var(v=-0.0124, grad=0.0000), Var(v=0.1462, grad=-2.8233), Var(v=-0.0656, grad=0.0000), Var(v=-0.1374, grad=0.0000), Var(v=0.0875, grad=1.6521), Var(v=-0.0305, grad=0.0000), Var(v=-0.1161, grad=0.0000), Var(v=-0.1264, grad=0.0000), Var(v=0.1598, grad=-0.4788), Var(v=0.0696, grad=-1.3183), Var(v=-0.0414, grad=-1.2196)], [Var(v=0.0646, grad=0.0000), Var(v=0.0595, grad=0.0000), Var(v=0.1718, grad=0.0258), Var(v=-0.0211, grad=0.0000), Var(v=-0.0782, grad=-0.4419), Var(v=0.0369, grad=-0.8857), Var(v=0.0546, grad=-1.5073), Var(v=0.0282, grad=-0.0700), Var(v=0.0297, grad=0.0000), Var(v=-0.0526, grad=0.0000), Var(v=-0.0963, grad=0.0000), Var(v=0.1741, grad=-0.2533), Var(v=-0.0326, grad=0.6094), Var(v=0.0498, grad=0.3961), Var(v=0.1276, grad=0.0000), Var(v=-0.0892, grad=0.0000), Var(v=-0.0847, grad=0.0000), Var(v=-0.0519, grad=0.0000), Var(v=0.1216, grad=-0.2724), Var(v=-0.0855, grad=0.0000), Var(v=-0.1481, grad=0.0000), Var(v=-0.0469, grad=-0.8383), Var(v=-0.0968, grad=0.0000), Var(v=-0.0987, grad=0.0000), Var(v=0.0673, grad=-0.6359), Var(v=-0.0625, grad=0.2960), Var(v=0.1600, grad=0.7474), Var(v=-0.1257, grad=0.0000), Var(v=-0.0332, grad=0.0000), Var(v=-0.1150, grad=0.0000), Var(v=-0.1251, grad=0.0000), Var(v=-0.0026, grad=-2.2750), Var(v=0.0588, grad=-1.2781), Var(v=0.0122, grad=-1.2751), Var(v=0.2544, grad=0.6527), Var(v=0.0052, grad=-0.0591), Var(v=0.0080, grad=0.4536), Var(v=-0.1166, grad=0.0000), Var(v=0.0635, grad=0.1454), Var(v=-0.1596, grad=0.0000), Var(v=-0.0528, grad=1.5863), Var(v=0.0521, grad=-0.1765), Var(v=-0.1147, grad=0.0000), Var(v=-0.0466, grad=0.0000), Var(v=-0.1326, grad=0.0000), Var(v=-0.0551, grad=0.0000), Var(v=0.0090, grad=0.0000), Var(v=-0.0148, grad=0.2690), Var(v=-0.1520, grad=0.7408), Var(v=-0.0543, grad=0.0000)], [Var(v=-0.0574, grad=0.0000), Var(v=0.1054, grad=0.0000), Var(v=-0.1085, grad=-0.0204), Var(v=-0.0929, grad=0.0000), Var(v=-0.0326, grad=0.3497), Var(v=-0.1191, grad=0.7009), Var(v=-0.0180, grad=0.0000), Var(v=-0.0948, grad=0.0000), Var(v=0.2149, grad=0.0000), Var(v=0.1225, grad=0.0431), Var(v=0.1445, grad=0.0000), Var(v=-0.1389, grad=0.2005), Var(v=-0.1089, grad=0.0000), Var(v=0.0385, grad=-0.3135), Var(v=0.0310, grad=0.0000), Var(v=0.1102, grad=0.7465), Var(v=-0.0216, grad=-0.5900), Var(v=0.1071, grad=0.0000), Var(v=0.0611, grad=0.0000), Var(v=0.0400, grad=0.0318), Var(v=-0.0550, grad=1.8163), Var(v=-0.0539, grad=0.6634), Var(v=0.0259, grad=0.0000), Var(v=-0.1717, grad=0.0000), Var(v=-0.2470, grad=0.0000), Var(v=0.0353, grad=-0.2343), Var(v=0.1757, grad=0.0000), Var(v=-0.1244, grad=0.0000), Var(v=0.1137, grad=-0.3872), Var(v=-0.1432, grad=0.0000), Var(v=0.0098, grad=-0.3616), Var(v=-0.0888, grad=1.8005), Var(v=0.0687, grad=1.0115), Var(v=-0.0766, grad=1.0092), Var(v=0.0251, grad=0.0000), Var(v=0.0612, grad=0.0000), Var(v=-0.0800, grad=-0.3590), Var(v=-0.1299, grad=0.0000), Var(v=-0.1021, grad=0.0000), Var(v=-0.0357, grad=0.0000), Var(v=-0.0596, grad=-1.2555), Var(v=0.0953, grad=0.0000), Var(v=0.2060, grad=0.0000), Var(v=0.1825, grad=0.7347), Var(v=-0.0985, grad=0.0000), Var(v=0.1986, grad=0.0000), Var(v=0.0616, grad=0.0000), Var(v=0.1114, grad=-0.2129), Var(v=-0.0615, grad=-0.5862), Var(v=0.0757, grad=-0.5423)], [Var(v=-0.1394, grad=0.0000), Var(v=0.0427, grad=0.0000), Var(v=0.1548, grad=0.0058), Var(v=-0.0511, grad=0.0000), Var(v=0.0638, grad=-0.0997), Var(v=0.0952, grad=-0.1998), Var(v=0.0964, grad=-0.3401), Var(v=0.0048, grad=-0.0158), Var(v=0.0293, grad=0.0000), Var(v=0.1461, grad=0.0000), Var(v=0.0239, grad=0.0000), Var(v=-0.0010, grad=-0.0572), Var(v=0.0759, grad=0.1375), Var(v=-0.1853, grad=0.0894), Var(v=-0.0278, grad=0.0000), Var(v=-0.0360, grad=0.0000), Var(v=-0.0455, grad=0.0000), Var(v=-0.1047, grad=0.0000), Var(v=0.0777, grad=-0.0615), Var(v=0.1222, grad=0.0000), Var(v=-0.1510, grad=0.0000), Var(v=0.0307, grad=-0.1891), Var(v=0.1890, grad=0.0000), Var(v=0.1088, grad=0.0000), Var(v=-0.1416, grad=-0.1435), Var(v=0.1876, grad=0.0668), Var(v=-0.1501, grad=0.1686), Var(v=0.0518, grad=0.0000), Var(v=0.2237, grad=0.0000), Var(v=-0.0909, grad=0.0000), Var(v=-0.1739, grad=0.0000), Var(v=-0.0502, grad=-0.5133), Var(v=0.0079, grad=-0.2884), Var(v=-0.0824, grad=-0.2877), Var(v=-0.0046, grad=0.1473), Var(v=0.0702, grad=-0.0133), Var(v=0.0102, grad=0.1023), Var(v=0.0618, grad=0.0000), Var(v=0.0929, grad=0.0328), Var(v=-0.1361, grad=0.0000), Var(v=0.1983, grad=0.3579), Var(v=-0.0532, grad=-0.0398), Var(v=0.1189, grad=0.0000), Var(v=0.0496, grad=0.0000), Var(v=0.0853, grad=0.0000), Var(v=-0.0699, grad=0.0000), Var(v=-0.2438, grad=0.0000), Var(v=-0.0488, grad=0.0607), Var(v=0.0572, grad=0.1671), Var(v=0.1212, grad=0.0000)], [Var(v=-0.0825, grad=0.0000), Var(v=-0.0527, grad=0.0000), Var(v=-0.1091, grad=-0.0036), Var(v=-0.1427, grad=0.0000), Var(v=0.0497, grad=0.0618), Var(v=-0.1324, grad=0.1239), Var(v=-0.1710, grad=0.0000), Var(v=-0.2038, grad=0.0000), Var(v=-0.0689, grad=0.0000), Var(v=-0.0211, grad=0.0076), Var(v=-0.0659, grad=0.0000), Var(v=-0.1526, grad=0.0354), Var(v=0.0258, grad=0.0000), Var(v=0.2680, grad=-0.0554), Var(v=0.0410, grad=0.0000), Var(v=-0.0681, grad=0.1319), Var(v=0.0250, grad=-0.1043), Var(v=-0.0748, grad=0.0000), Var(v=0.0561, grad=0.0000), Var(v=-0.0703, grad=0.0056), Var(v=-0.0851, grad=0.3210), Var(v=-0.0823, grad=0.1173), Var(v=0.0336, grad=0.0000), Var(v=0.0584, grad=0.0000), Var(v=0.1159, grad=0.0000), Var(v=-0.0593, grad=-0.0414), Var(v=0.0758, grad=0.0000), Var(v=0.0298, grad=0.0000), Var(v=-0.0231, grad=-0.0684), Var(v=0.1020, grad=0.0000), Var(v=0.1104, grad=-0.0639), Var(v=-0.0380, grad=0.3182), Var(v=-0.0203, grad=0.1788), Var(v=0.0843, grad=0.1784), Var(v=-0.0595, grad=0.0000), Var(v=-0.0450, grad=0.0000), Var(v=0.1757, grad=-0.0634), Var(v=-0.0413, grad=0.0000), Var(v=-0.0513, grad=0.0000), Var(v=0.0758, grad=0.0000), Var(v=0.0004, grad=-0.2219), Var(v=-0.0087, grad=0.0000), Var(v=-0.0722, grad=0.0000), Var(v=-0.0611, grad=0.1298), Var(v=-0.0736, grad=0.0000), Var(v=0.0967, grad=0.0000), Var(v=-0.0380, grad=0.0000), Var(v=-0.0552, grad=-0.0376), Var(v=-0.0440, grad=-0.1036), Var(v=-0.0303, grad=-0.0959)]] Biases: [Var(v=0.0000, grad=0.0000), Var(v=0.0000, grad=0.0000), Var(v=0.0000, grad=-0.0046), Var(v=0.0000, grad=0.0000), Var(v=0.0000, grad=0.0781), Var(v=0.0000, grad=0.1566), Var(v=0.0000, grad=-12.2811), Var(v=0.0000, grad=-0.5708), Var(v=0.0000, grad=0.0000), Var(v=0.0000, grad=0.4536), Var(v=0.0000, grad=0.0000), Var(v=0.0000, grad=0.0448), Var(v=0.0000, grad=4.9657), Var(v=0.0000, grad=-0.0700), Var(v=0.0000, grad=0.0000), Var(v=0.0000, grad=7.8528), Var(v=0.0000, grad=-6.2065), Var(v=0.0000, grad=0.0000), Var(v=0.0000, grad=-2.2191), Var(v=0.0000, grad=0.3343), Var(v=0.0000, grad=19.1053), Var(v=0.0000, grad=0.1482), Var(v=0.0000, grad=0.0000), Var(v=0.0000, grad=0.0000), Var(v=0.0000, grad=-5.1815), Var(v=0.0000, grad=-0.0523), Var(v=0.0000, grad=6.0898), Var(v=0.0000, grad=0.0000), Var(v=0.0000, grad=-4.0728), Var(v=0.0000, grad=0.0000), Var(v=0.0000, grad=-3.8035), Var(v=0.0000, grad=0.4022), Var(v=0.0000, grad=0.2260), Var(v=0.0000, grad=0.2254), Var(v=0.0000, grad=5.3183), Var(v=0.0000, grad=-0.4813), Var(v=0.0000, grad=-0.0802), Var(v=0.0000, grad=0.0000), Var(v=0.0000, grad=1.1845), Var(v=0.0000, grad=0.0000), Var(v=0.0000, grad=-0.2805), Var(v=0.0000, grad=-1.4384), Var(v=0.0000, grad=0.0000), Var(v=0.0000, grad=7.7279), Var(v=0.0000, grad=0.0000), Var(v=0.0000, grad=0.0000), Var(v=0.0000, grad=0.0000), Var(v=0.0000, grad=-0.0476), Var(v=0.0000, grad=-0.1310), Var(v=0.0000, grad=-5.7048)]\n",
      "Layer 2 \n",
      " Weights: [[Var(v=-0.0373, grad=0.0000)], [Var(v=0.0935, grad=0.0000)], [Var(v=-0.0024, grad=2.2927)], [Var(v=-0.0871, grad=0.0000)], [Var(v=0.0412, grad=2.9677)], [Var(v=0.0827, grad=3.9737)], [Var(v=0.1407, grad=-1.2821)], [Var(v=0.0065, grad=-0.0385)], [Var(v=-0.0225, grad=0.0000)], [Var(v=0.0051, grad=3.6414)], [Var(v=0.0679, grad=0.0000)], [Var(v=0.0236, grad=3.2225)], [Var(v=-0.0569, grad=-1.1902)], [Var(v=-0.0370, grad=3.0690)], [Var(v=-0.0255, grad=0.0000)], [Var(v=0.0880, grad=1.2829)], [Var(v=-0.0696, grad=1.4532)], [Var(v=-0.3161, grad=0.0000)], [Var(v=0.0254, grad=-2.7679)], [Var(v=0.0037, grad=5.4561)], [Var(v=0.2142, grad=2.2095)], [Var(v=0.0782, grad=1.7074)], [Var(v=0.0776, grad=0.0000)], [Var(v=-0.1391, grad=0.0000)], [Var(v=0.0594, grad=-2.0256)], [Var(v=-0.0276, grad=1.2988)], [Var(v=-0.0698, grad=-1.2741)], [Var(v=0.0603, grad=0.0000)], [Var(v=-0.0457, grad=2.6692)], [Var(v=0.1392, grad=0.0000)], [Var(v=-0.0426, grad=3.1099)], [Var(v=0.2123, grad=2.1550)], [Var(v=0.1193, grad=1.4771)], [Var(v=0.1190, grad=1.1971)], [Var(v=-0.0609, grad=-3.0354)], [Var(v=0.0055, grad=-0.4143)], [Var(v=-0.0423, grad=-1.6955)], [Var(v=0.1019, grad=0.0000)], [Var(v=-0.0136, grad=-0.0704)], [Var(v=0.0961, grad=0.0000)], [Var(v=-0.1481, grad=-1.6479)], [Var(v=0.0165, grad=-0.7188)], [Var(v=0.0826, grad=0.0000)], [Var(v=0.0866, grad=5.1064)], [Var(v=0.2301, grad=0.0000)], [Var(v=-0.0600, grad=0.0000)], [Var(v=-0.0016, grad=0.0000)], [Var(v=-0.0251, grad=2.3921)], [Var(v=-0.0691, grad=0.3547)], [Var(v=-0.0640, grad=1.7676)]] Biases: [Var(v=0.0000, grad=1.8942)]\n",
      "\n",
      "Network after update:\n",
      "Layer 0 \n",
      " Weights: [[Var(v=-0.1563, grad=1.4853), Var(v=0.0253, grad=0.8385), Var(v=-0.0372, grad=-8.3604), Var(v=-0.0130, grad=-9.5429), Var(v=-0.0747, grad=-3.6223), Var(v=0.0777, grad=-0.5801), Var(v=0.0309, grad=0.5761), Var(v=0.0571, grad=-7.8693), Var(v=-0.0580, grad=7.5775), Var(v=-0.0242, grad=0.6162), Var(v=-0.1986, grad=0.4184), Var(v=0.1219, grad=-1.6454), Var(v=-0.1074, grad=2.0971), Var(v=-0.0027, grad=2.6446), Var(v=-0.0779, grad=6.2599)]] Biases: [Var(v=0.0135, grad=-1.3506), Var(v=-0.0072, grad=0.7203), Var(v=-0.0760, grad=7.6020), Var(v=-0.0868, grad=8.6772), Var(v=-0.0329, grad=3.2937), Var(v=0.0050, grad=-0.4983), Var(v=-0.0049, grad=0.4948), Var(v=-0.0716, grad=7.1554), Var(v=-0.0651, grad=6.5090), Var(v=0.0056, grad=-0.5603), Var(v=0.0038, grad=-0.3805), Var(v=0.0141, grad=-1.4134), Var(v=0.0191, grad=-1.9069), Var(v=-0.0227, grad=2.2717), Var(v=0.0569, grad=-5.6920)]\n",
      "Layer 1 \n",
      " Weights: [[Var(v=0.0577, grad=0.0000), Var(v=-0.0732, grad=0.0000), Var(v=-0.0377, grad=-0.0334), Var(v=-0.1313, grad=0.0000), Var(v=0.1196, grad=0.5723), Var(v=-0.1053, grad=1.1471), Var(v=0.0461, grad=0.0000), Var(v=-0.1748, grad=0.0000), Var(v=-0.1789, grad=0.0000), Var(v=0.0462, grad=0.0706), Var(v=0.0455, grad=0.0000), Var(v=0.1512, grad=0.3280), Var(v=0.1432, grad=0.0000), Var(v=0.0793, grad=-0.5130), Var(v=-0.0538, grad=0.0000), Var(v=-0.2010, grad=1.2217), Var(v=0.0272, grad=-0.9656), Var(v=-0.0217, grad=0.0000), Var(v=-0.2301, grad=0.0000), Var(v=-0.0383, grad=0.0520), Var(v=-0.0165, grad=2.9724), Var(v=0.0738, grad=1.0857), Var(v=-0.0082, grad=0.0000), Var(v=-0.1210, grad=0.0000), Var(v=-0.2035, grad=0.0000), Var(v=0.1281, grad=-0.3834), Var(v=-0.0370, grad=0.0000), Var(v=0.0295, grad=0.0000), Var(v=0.0289, grad=-0.6336), Var(v=-0.1148, grad=0.0000), Var(v=0.0229, grad=-0.5917), Var(v=-0.0178, grad=2.9465), Var(v=-0.0436, grad=1.6554), Var(v=-0.0542, grad=1.6515), Var(v=-0.0548, grad=0.0000), Var(v=0.1419, grad=0.0000), Var(v=-0.0874, grad=-0.5874), Var(v=-0.0735, grad=0.0000), Var(v=-0.1470, grad=0.0000), Var(v=0.0282, grad=0.0000), Var(v=-0.0815, grad=-2.0546), Var(v=0.0077, grad=0.0000), Var(v=-0.0185, grad=0.0000), Var(v=-0.1332, grad=1.2023), Var(v=0.0752, grad=0.0000), Var(v=0.0799, grad=0.0000), Var(v=-0.0605, grad=0.0000), Var(v=0.0343, grad=-0.3485), Var(v=-0.0757, grad=-0.9594), Var(v=0.1424, grad=-0.8876)], [Var(v=-0.0665, grad=0.0000), Var(v=-0.1093, grad=0.0000), Var(v=0.0415, grad=0.0082), Var(v=-0.0216, grad=0.0000), Var(v=0.1473, grad=-0.1413), Var(v=0.1141, grad=-0.2831), Var(v=-0.0068, grad=-0.4818), Var(v=0.0318, grad=-0.0224), Var(v=-0.1104, grad=0.0000), Var(v=0.0713, grad=0.0000), Var(v=0.0292, grad=0.0000), Var(v=-0.1831, grad=-0.0810), Var(v=0.0793, grad=0.1948), Var(v=0.2524, grad=0.1266), Var(v=0.0133, grad=0.0000), Var(v=-0.0174, grad=0.0000), Var(v=0.0411, grad=0.0000), Var(v=-0.0191, grad=0.0000), Var(v=0.1516, grad=-0.0871), Var(v=-0.0781, grad=0.0000), Var(v=0.0119, grad=0.0000), Var(v=0.0488, grad=-0.2680), Var(v=0.0111, grad=0.0000), Var(v=0.0600, grad=0.0000), Var(v=0.0559, grad=-0.2033), Var(v=0.0144, grad=0.0946), Var(v=-0.1233, grad=0.2389), Var(v=-0.0720, grad=0.0000), Var(v=0.1328, grad=0.0000), Var(v=-0.0602, grad=0.0000), Var(v=-0.0398, grad=0.0000), Var(v=0.0049, grad=-0.7273), Var(v=-0.1793, grad=-0.4086), Var(v=0.1229, grad=-0.4076), Var(v=-0.0479, grad=0.2087), Var(v=-0.0185, grad=-0.0189), Var(v=-0.0000, grad=0.1450), Var(v=0.2559, grad=0.0000), Var(v=0.1662, grad=0.0465), Var(v=0.0994, grad=0.0000), Var(v=-0.0071, grad=0.5071), Var(v=-0.0189, grad=-0.0564), Var(v=-0.0134, grad=0.0000), Var(v=-0.0331, grad=0.0000), Var(v=0.0461, grad=0.0000), Var(v=-0.0005, grad=0.0000), Var(v=0.0328, grad=0.0000), Var(v=0.0403, grad=0.0860), Var(v=0.1901, grad=0.2368), Var(v=0.0631, grad=0.0000)], [Var(v=-0.1612, grad=0.0000), Var(v=-0.1084, grad=0.0000), Var(v=0.1759, grad=-0.0285), Var(v=0.0599, grad=0.0000), Var(v=-0.1071, grad=0.4889), Var(v=0.0108, grad=0.9798), Var(v=-0.2073, grad=0.0000), Var(v=-0.1082, grad=0.0000), Var(v=-0.0184, grad=0.0000), Var(v=0.1478, grad=0.0603), Var(v=-0.0126, grad=0.0000), Var(v=-0.0399, grad=0.2802), Var(v=-0.0437, grad=0.0000), Var(v=-0.1190, grad=-0.4382), Var(v=0.0315, grad=0.0000), Var(v=0.1458, grad=1.0436), Var(v=0.0458, grad=-0.8248), Var(v=-0.0463, grad=0.0000), Var(v=0.0918, grad=0.0000), Var(v=0.0056, grad=0.0444), Var(v=0.1177, grad=2.5389), Var(v=0.0349, grad=0.9274), Var(v=-0.1054, grad=0.0000), Var(v=-0.1587, grad=0.0000), Var(v=0.0924, grad=0.0000), Var(v=0.0604, grad=-0.3275), Var(v=-0.0154, grad=0.0000), Var(v=-0.0361, grad=0.0000), Var(v=-0.1041, grad=-0.5412), Var(v=0.0012, grad=0.0000), Var(v=0.0170, grad=-0.5054), Var(v=0.0888, grad=2.5168), Var(v=-0.0132, grad=1.4140), Var(v=0.1394, grad=1.4107), Var(v=-0.1633, grad=0.0000), Var(v=-0.2185, grad=0.0000), Var(v=0.1703, grad=-0.5018), Var(v=-0.0706, grad=0.0000), Var(v=-0.1444, grad=0.0000), Var(v=0.1303, grad=0.0000), Var(v=0.0179, grad=-1.7549), Var(v=-0.0632, grad=0.0000), Var(v=0.1101, grad=0.0000), Var(v=-0.0304, grad=1.0270), Var(v=-0.1419, grad=0.0000), Var(v=-0.1179, grad=0.0000), Var(v=0.1240, grad=0.0000), Var(v=0.0208, grad=-0.2976), Var(v=-0.0656, grad=-0.8195), Var(v=0.0532, grad=-0.7581)], [Var(v=0.0778, grad=0.0000), Var(v=-0.0047, grad=0.0000), Var(v=0.0671, grad=-0.0256), Var(v=0.1801, grad=0.0000), Var(v=0.0846, grad=0.4386), Var(v=0.2944, grad=0.8790), Var(v=-0.0442, grad=0.0000), Var(v=-0.0729, grad=0.0000), Var(v=-0.0179, grad=0.0000), Var(v=-0.0761, grad=0.0541), Var(v=0.0474, grad=0.0000), Var(v=0.1263, grad=0.2514), Var(v=-0.0832, grad=0.0000), Var(v=0.1476, grad=-0.3931), Var(v=0.0878, grad=0.0000), Var(v=-0.0970, grad=0.9362), Var(v=0.0025, grad=-0.7399), Var(v=-0.0707, grad=0.0000), Var(v=0.0408, grad=0.0000), Var(v=0.0734, grad=0.0399), Var(v=0.1249, grad=2.2778), Var(v=0.0813, grad=0.8320), Var(v=-0.0631, grad=0.0000), Var(v=0.0510, grad=0.0000), Var(v=0.0004, grad=0.0000), Var(v=-0.0851, grad=-0.2938), Var(v=-0.1102, grad=0.0000), Var(v=-0.0138, grad=0.0000), Var(v=0.1973, grad=-0.4856), Var(v=-0.1244, grad=0.0000), Var(v=0.0060, grad=-0.4535), Var(v=-0.0483, grad=2.2579), Var(v=0.0267, grad=1.2685), Var(v=0.0837, grad=1.2656), Var(v=0.0837, grad=0.0000), Var(v=0.0045, grad=0.0000), Var(v=0.0449, grad=-0.4502), Var(v=-0.0278, grad=0.0000), Var(v=0.2235, grad=0.0000), Var(v=-0.0400, grad=0.0000), Var(v=-0.1974, grad=-1.5744), Var(v=0.0166, grad=0.0000), Var(v=0.0218, grad=0.0000), Var(v=0.1944, grad=0.9213), Var(v=-0.0120, grad=0.0000), Var(v=-0.0410, grad=0.0000), Var(v=-0.0579, grad=0.0000), Var(v=0.0486, grad=-0.2670), Var(v=0.1004, grad=-0.7352), Var(v=0.0750, grad=-0.6801)], [Var(v=-0.0607, grad=0.0000), Var(v=0.1529, grad=0.0000), Var(v=0.2488, grad=-0.0262), Var(v=0.0214, grad=0.0000), Var(v=0.0942, grad=0.4490), Var(v=-0.0001, grad=0.8998), Var(v=-0.0656, grad=0.0000), Var(v=-0.0485, grad=0.0000), Var(v=-0.1029, grad=0.0000), Var(v=-0.0297, grad=0.0554), Var(v=-0.1799, grad=0.0000), Var(v=0.1213, grad=0.2573), Var(v=-0.0352, grad=0.0000), Var(v=-0.0915, grad=-0.4024), Var(v=-0.0874, grad=0.0000), Var(v=0.1496, grad=0.9584), Var(v=-0.1148, grad=-0.7575), Var(v=-0.1073, grad=0.0000), Var(v=-0.1372, grad=0.0000), Var(v=0.0616, grad=0.0408), Var(v=-0.0803, grad=2.3317), Var(v=0.0230, grad=0.8517), Var(v=0.0316, grad=0.0000), Var(v=-0.0012, grad=0.0000), Var(v=-0.0999, grad=0.0000), Var(v=-0.1035, grad=-0.3008), Var(v=-0.0425, grad=0.0000), Var(v=-0.1700, grad=0.0000), Var(v=0.0179, grad=-0.4971), Var(v=-0.2172, grad=0.0000), Var(v=0.0389, grad=-0.4642), Var(v=0.1058, grad=2.3114), Var(v=0.0258, grad=1.2985), Var(v=-0.1278, grad=1.2955), Var(v=-0.1116, grad=0.0000), Var(v=-0.0617, grad=0.0000), Var(v=0.0853, grad=-0.4608), Var(v=-0.1733, grad=0.0000), Var(v=0.0400, grad=0.0000), Var(v=-0.1288, grad=0.0000), Var(v=0.1631, grad=-1.6117), Var(v=-0.1879, grad=0.0000), Var(v=-0.0566, grad=0.0000), Var(v=0.1415, grad=0.9431), Var(v=0.0837, grad=0.0000), Var(v=-0.0423, grad=0.0000), Var(v=-0.0872, grad=0.0000), Var(v=-0.1517, grad=-0.2733), Var(v=0.0584, grad=-0.7526), Var(v=-0.0854, grad=-0.6962)], [Var(v=-0.0768, grad=0.0000), Var(v=-0.0525, grad=0.0000), Var(v=0.0249, grad=0.0176), Var(v=-0.0152, grad=0.0000), Var(v=0.0622, grad=-0.3012), Var(v=-0.1355, grad=-0.6036), Var(v=0.0653, grad=-1.0273), Var(v=-0.0767, grad=-0.0477), Var(v=-0.3382, grad=0.0000), Var(v=-0.1516, grad=0.0000), Var(v=-0.1047, grad=0.0000), Var(v=0.0326, grad=-0.1726), Var(v=0.1600, grad=0.4154), Var(v=0.0663, grad=0.2700), Var(v=-0.2354, grad=0.0000), Var(v=-0.1536, grad=0.0000), Var(v=-0.0087, grad=0.0000), Var(v=0.1136, grad=0.0000), Var(v=0.1573, grad=-0.1856), Var(v=-0.0198, grad=0.0000), Var(v=0.1913, grad=0.0000), Var(v=0.1186, grad=-0.5713), Var(v=-0.1354, grad=0.0000), Var(v=0.0446, grad=0.0000), Var(v=0.1458, grad=-0.4334), Var(v=0.0404, grad=0.2018), Var(v=0.0645, grad=0.5094), Var(v=-0.0179, grad=0.0000), Var(v=-0.1526, grad=0.0000), Var(v=-0.1188, grad=0.0000), Var(v=-0.2417, grad=0.0000), Var(v=0.0934, grad=-1.5506), Var(v=0.1439, grad=-0.8711), Var(v=0.0980, grad=-0.8691), Var(v=0.0925, grad=0.4449), Var(v=0.0251, grad=-0.0403), Var(v=0.1924, grad=0.3091), Var(v=-0.0434, grad=0.0000), Var(v=-0.1638, grad=0.0991), Var(v=-0.0318, grad=0.0000), Var(v=0.1364, grad=1.0812), Var(v=0.0707, grad=-0.1203), Var(v=0.0560, grad=0.0000), Var(v=0.1199, grad=0.0000), Var(v=0.0654, grad=0.0000), Var(v=-0.1723, grad=0.0000), Var(v=-0.0092, grad=0.0000), Var(v=0.1151, grad=0.1834), Var(v=0.0540, grad=0.5049), Var(v=-0.1141, grad=0.0000)], [Var(v=-0.1792, grad=0.0000), Var(v=-0.0541, grad=0.0000), Var(v=-0.0934, grad=0.0090), Var(v=0.0088, grad=0.0000), Var(v=0.1519, grad=-0.1537), Var(v=0.0363, grad=-0.3080), Var(v=0.0145, grad=-0.5242), Var(v=0.0602, grad=-0.0244), Var(v=-0.1165, grad=0.0000), Var(v=-0.0301, grad=0.0000), Var(v=-0.1272, grad=0.0000), Var(v=-0.1200, grad=-0.0881), Var(v=-0.0663, grad=0.2120), Var(v=0.1177, grad=0.1378), Var(v=-0.0060, grad=0.0000), Var(v=0.0853, grad=0.0000), Var(v=0.0323, grad=0.0000), Var(v=0.0465, grad=0.0000), Var(v=-0.0746, grad=-0.0947), Var(v=0.0569, grad=0.0000), Var(v=0.0878, grad=0.0000), Var(v=0.2242, grad=-0.2915), Var(v=-0.1805, grad=0.0000), Var(v=-0.2472, grad=0.0000), Var(v=0.0739, grad=-0.2212), Var(v=-0.0990, grad=0.1030), Var(v=-0.0437, grad=0.2599), Var(v=0.0133, grad=0.0000), Var(v=0.0219, grad=0.0000), Var(v=-0.0620, grad=0.0000), Var(v=0.0691, grad=0.0000), Var(v=-0.0470, grad=-0.7912), Var(v=0.0866, grad=-0.4445), Var(v=-0.0316, grad=-0.4435), Var(v=-0.0998, grad=0.2270), Var(v=-0.0207, grad=-0.0205), Var(v=0.1968, grad=0.1577), Var(v=-0.1176, grad=0.0000), Var(v=-0.0855, grad=0.0506), Var(v=-0.0037, grad=0.0000), Var(v=0.1736, grad=0.5517), Var(v=0.0721, grad=-0.0614), Var(v=0.0129, grad=0.0000), Var(v=-0.1321, grad=0.0000), Var(v=0.0254, grad=0.0000), Var(v=-0.0250, grad=0.0000), Var(v=0.0193, grad=0.0000), Var(v=-0.0069, grad=0.0936), Var(v=0.0755, grad=0.2576), Var(v=-0.0234, grad=0.0000)], [Var(v=-0.0611, grad=0.0000), Var(v=-0.1251, grad=0.0000), Var(v=-0.0323, grad=-0.0051), Var(v=0.0358, grad=0.0000), Var(v=0.0095, grad=0.0874), Var(v=0.2310, grad=0.1752), Var(v=-0.0348, grad=0.0000), Var(v=0.0643, grad=0.0000), Var(v=-0.1380, grad=0.0000), Var(v=0.0399, grad=0.0108), Var(v=0.1555, grad=0.0000), Var(v=-0.0455, grad=0.0501), Var(v=0.0513, grad=0.0000), Var(v=0.1474, grad=-0.0783), Var(v=-0.0470, grad=0.0000), Var(v=0.1287, grad=0.1866), Var(v=-0.0825, grad=-0.1475), Var(v=-0.0889, grad=0.0000), Var(v=0.1479, grad=0.0000), Var(v=0.0601, grad=0.0079), Var(v=0.1846, grad=0.4539), Var(v=-0.0819, grad=0.1658), Var(v=0.1948, grad=0.0000), Var(v=0.1808, grad=0.0000), Var(v=0.0999, grad=0.0000), Var(v=-0.0996, grad=-0.0586), Var(v=-0.0765, grad=0.0000), Var(v=-0.0545, grad=0.0000), Var(v=-0.0069, grad=-0.0968), Var(v=0.0852, grad=0.0000), Var(v=-0.0203, grad=-0.0904), Var(v=0.0700, grad=0.4500), Var(v=-0.1225, grad=0.2528), Var(v=0.0956, grad=0.2522), Var(v=0.1117, grad=0.0000), Var(v=0.0411, grad=0.0000), Var(v=-0.0903, grad=-0.0897), Var(v=-0.0556, grad=0.0000), Var(v=-0.1156, grad=0.0000), Var(v=-0.0991, grad=0.0000), Var(v=0.0298, grad=-0.3138), Var(v=0.0597, grad=0.0000), Var(v=0.0513, grad=0.0000), Var(v=-0.0830, grad=0.1836), Var(v=0.0200, grad=0.0000), Var(v=-0.0072, grad=0.0000), Var(v=-0.2125, grad=0.0000), Var(v=-0.0001, grad=-0.0532), Var(v=0.0020, grad=-0.1465), Var(v=-0.0748, grad=-0.1355)], [Var(v=0.0569, grad=0.0000), Var(v=-0.0187, grad=0.0000), Var(v=0.0391, grad=0.0044), Var(v=0.1020, grad=0.0000), Var(v=0.1195, grad=-0.0746), Var(v=-0.0510, grad=-0.1496), Var(v=0.0402, grad=-0.2546), Var(v=-0.0241, grad=-0.0118), Var(v=0.1848, grad=0.0000), Var(v=0.0558, grad=0.0000), Var(v=-0.1303, grad=0.0000), Var(v=0.0368, grad=-0.0428), Var(v=0.0640, grad=0.1029), Var(v=0.0537, grad=0.0669), Var(v=-0.0460, grad=0.0000), Var(v=0.1674, grad=0.0000), Var(v=-0.0083, grad=0.0000), Var(v=-0.0828, grad=0.0000), Var(v=-0.0503, grad=-0.0460), Var(v=-0.2188, grad=0.0000), Var(v=0.0336, grad=0.0000), Var(v=-0.2597, grad=-0.1416), Var(v=-0.0360, grad=0.0000), Var(v=0.0325, grad=0.0000), Var(v=0.0908, grad=-0.1074), Var(v=0.1427, grad=0.0500), Var(v=-0.0107, grad=0.1263), Var(v=-0.0511, grad=0.0000), Var(v=0.0095, grad=0.0000), Var(v=-0.1856, grad=0.0000), Var(v=-0.1026, grad=0.0000), Var(v=-0.0855, grad=-0.3843), Var(v=0.0163, grad=-0.2159), Var(v=-0.0661, grad=-0.2154), Var(v=0.0727, grad=0.1103), Var(v=0.0836, grad=-0.0100), Var(v=0.0983, grad=0.0766), Var(v=0.0133, grad=0.0000), Var(v=0.0556, grad=0.0246), Var(v=-0.1124, grad=0.0000), Var(v=0.0699, grad=0.2680), Var(v=-0.2305, grad=-0.0298), Var(v=-0.0418, grad=0.0000), Var(v=0.0142, grad=0.0000), Var(v=0.0787, grad=0.0000), Var(v=0.0824, grad=0.0000), Var(v=0.1872, grad=0.0000), Var(v=0.0419, grad=0.0454), Var(v=0.0802, grad=0.1251), Var(v=0.1040, grad=0.0000)], [Var(v=0.0171, grad=0.0000), Var(v=-0.0266, grad=0.0000), Var(v=-0.0459, grad=-0.0043), Var(v=-0.1583, grad=0.0000), Var(v=-0.1774, grad=0.0729), Var(v=-0.1273, grad=0.1461), Var(v=0.0799, grad=0.0000), Var(v=-0.0218, grad=0.0000), Var(v=0.1162, grad=0.0000), Var(v=0.1755, grad=0.0090), Var(v=0.0718, grad=0.0000), Var(v=0.1065, grad=0.0418), Var(v=-0.0401, grad=0.0000), Var(v=-0.1137, grad=-0.0653), Var(v=0.0245, grad=0.0000), Var(v=0.0403, grad=0.1556), Var(v=0.2199, grad=-0.1230), Var(v=-0.0247, grad=0.0000), Var(v=0.1676, grad=0.0000), Var(v=-0.1129, grad=0.0066), Var(v=0.0205, grad=0.3785), Var(v=-0.0189, grad=0.1382), Var(v=0.0892, grad=0.0000), Var(v=0.1555, grad=0.0000), Var(v=0.0301, grad=0.0000), Var(v=-0.2089, grad=-0.0488), Var(v=-0.1426, grad=0.0000), Var(v=0.0548, grad=0.0000), Var(v=-0.0349, grad=-0.0807), Var(v=-0.0020, grad=0.0000), Var(v=-0.0283, grad=-0.0754), Var(v=0.0550, grad=0.3752), Var(v=-0.2095, grad=0.2108), Var(v=-0.0898, grad=0.2103), Var(v=0.0602, grad=0.0000), Var(v=-0.0259, grad=0.0000), Var(v=-0.1436, grad=-0.0748), Var(v=0.0076, grad=0.0000), Var(v=-0.1573, grad=0.0000), Var(v=-0.0655, grad=0.0000), Var(v=-0.0702, grad=-0.2616), Var(v=0.0223, grad=0.0000), Var(v=-0.1515, grad=0.0000), Var(v=0.1491, grad=0.1531), Var(v=0.0836, grad=0.0000), Var(v=-0.1143, grad=0.0000), Var(v=-0.1479, grad=0.0000), Var(v=-0.1062, grad=-0.0444), Var(v=0.0952, grad=-0.1222), Var(v=0.0059, grad=-0.1130)], [Var(v=0.0393, grad=0.0000), Var(v=-0.0144, grad=0.0000), Var(v=0.0434, grad=-0.0459), Var(v=-0.0216, grad=0.0000), Var(v=0.0936, grad=0.7865), Var(v=0.1231, grad=1.5762), Var(v=0.0587, grad=0.0000), Var(v=0.0751, grad=0.0000), Var(v=-0.0173, grad=0.0000), Var(v=0.0489, grad=0.0970), Var(v=-0.1583, grad=0.0000), Var(v=0.0577, grad=0.4508), Var(v=-0.1275, grad=0.0000), Var(v=0.2262, grad=-0.7050), Var(v=-0.1423, grad=0.0000), Var(v=-0.0133, grad=1.6788), Var(v=0.1227, grad=-1.3269), Var(v=-0.1080, grad=0.0000), Var(v=-0.0249, grad=0.0000), Var(v=0.2241, grad=0.0715), Var(v=-0.0655, grad=4.0845), Var(v=0.0061, grad=1.4919), Var(v=-0.0028, grad=0.0000), Var(v=-0.0389, grad=0.0000), Var(v=0.0320, grad=0.0000), Var(v=0.0789, grad=-0.5269), Var(v=-0.0108, grad=0.0000), Var(v=0.0691, grad=0.0000), Var(v=0.0411, grad=-0.8707), Var(v=-0.0872, grad=0.0000), Var(v=0.1231, grad=-0.8131), Var(v=-0.0350, grad=4.0489), Var(v=0.1036, grad=2.2747), Var(v=0.0470, grad=2.2694), Var(v=-0.1604, grad=0.0000), Var(v=-0.0593, grad=0.0000), Var(v=-0.0100, grad=-0.8072), Var(v=0.1287, grad=0.0000), Var(v=-0.1669, grad=0.0000), Var(v=-0.0124, grad=0.0000), Var(v=0.1745, grad=-2.8233), Var(v=-0.0656, grad=0.0000), Var(v=-0.1374, grad=0.0000), Var(v=0.0710, grad=1.6521), Var(v=-0.0305, grad=0.0000), Var(v=-0.1161, grad=0.0000), Var(v=-0.1264, grad=0.0000), Var(v=0.1646, grad=-0.4788), Var(v=0.0828, grad=-1.3183), Var(v=-0.0292, grad=-1.2196)], [Var(v=0.0646, grad=0.0000), Var(v=0.0595, grad=0.0000), Var(v=0.1715, grad=0.0258), Var(v=-0.0211, grad=0.0000), Var(v=-0.0738, grad=-0.4419), Var(v=0.0457, grad=-0.8857), Var(v=0.0696, grad=-1.5073), Var(v=0.0289, grad=-0.0700), Var(v=0.0297, grad=0.0000), Var(v=-0.0526, grad=0.0000), Var(v=-0.0963, grad=0.0000), Var(v=0.1766, grad=-0.2533), Var(v=-0.0387, grad=0.6094), Var(v=0.0458, grad=0.3961), Var(v=0.1276, grad=0.0000), Var(v=-0.0892, grad=0.0000), Var(v=-0.0847, grad=0.0000), Var(v=-0.0519, grad=0.0000), Var(v=0.1243, grad=-0.2724), Var(v=-0.0855, grad=0.0000), Var(v=-0.1481, grad=0.0000), Var(v=-0.0385, grad=-0.8383), Var(v=-0.0968, grad=0.0000), Var(v=-0.0987, grad=0.0000), Var(v=0.0737, grad=-0.6359), Var(v=-0.0654, grad=0.2960), Var(v=0.1525, grad=0.7474), Var(v=-0.1257, grad=0.0000), Var(v=-0.0332, grad=0.0000), Var(v=-0.1150, grad=0.0000), Var(v=-0.1251, grad=0.0000), Var(v=0.0201, grad=-2.2750), Var(v=0.0716, grad=-1.2781), Var(v=0.0250, grad=-1.2751), Var(v=0.2478, grad=0.6527), Var(v=0.0058, grad=-0.0591), Var(v=0.0034, grad=0.4536), Var(v=-0.1166, grad=0.0000), Var(v=0.0620, grad=0.1454), Var(v=-0.1596, grad=0.0000), Var(v=-0.0687, grad=1.5863), Var(v=0.0538, grad=-0.1765), Var(v=-0.1147, grad=0.0000), Var(v=-0.0466, grad=0.0000), Var(v=-0.1326, grad=0.0000), Var(v=-0.0551, grad=0.0000), Var(v=0.0090, grad=0.0000), Var(v=-0.0175, grad=0.2690), Var(v=-0.1594, grad=0.7408), Var(v=-0.0543, grad=0.0000)], [Var(v=-0.0574, grad=0.0000), Var(v=0.1054, grad=0.0000), Var(v=-0.1082, grad=-0.0204), Var(v=-0.0929, grad=0.0000), Var(v=-0.0361, grad=0.3497), Var(v=-0.1261, grad=0.7009), Var(v=-0.0180, grad=0.0000), Var(v=-0.0948, grad=0.0000), Var(v=0.2149, grad=0.0000), Var(v=0.1221, grad=0.0431), Var(v=0.1445, grad=0.0000), Var(v=-0.1409, grad=0.2005), Var(v=-0.1089, grad=0.0000), Var(v=0.0416, grad=-0.3135), Var(v=0.0310, grad=0.0000), Var(v=0.1027, grad=0.7465), Var(v=-0.0157, grad=-0.5900), Var(v=0.1071, grad=0.0000), Var(v=0.0611, grad=0.0000), Var(v=0.0397, grad=0.0318), Var(v=-0.0732, grad=1.8163), Var(v=-0.0606, grad=0.6634), Var(v=0.0259, grad=0.0000), Var(v=-0.1717, grad=0.0000), Var(v=-0.2470, grad=0.0000), Var(v=0.0377, grad=-0.2343), Var(v=0.1757, grad=0.0000), Var(v=-0.1244, grad=0.0000), Var(v=0.1176, grad=-0.3872), Var(v=-0.1432, grad=0.0000), Var(v=0.0134, grad=-0.3616), Var(v=-0.1068, grad=1.8005), Var(v=0.0586, grad=1.0115), Var(v=-0.0867, grad=1.0092), Var(v=0.0251, grad=0.0000), Var(v=0.0612, grad=0.0000), Var(v=-0.0765, grad=-0.3590), Var(v=-0.1299, grad=0.0000), Var(v=-0.1021, grad=0.0000), Var(v=-0.0357, grad=0.0000), Var(v=-0.0471, grad=-1.2555), Var(v=0.0953, grad=0.0000), Var(v=0.2060, grad=0.0000), Var(v=0.1752, grad=0.7347), Var(v=-0.0985, grad=0.0000), Var(v=0.1986, grad=0.0000), Var(v=0.0616, grad=0.0000), Var(v=0.1136, grad=-0.2129), Var(v=-0.0556, grad=-0.5862), Var(v=0.0811, grad=-0.5423)], [Var(v=-0.1394, grad=0.0000), Var(v=0.0427, grad=0.0000), Var(v=0.1548, grad=0.0058), Var(v=-0.0511, grad=0.0000), Var(v=0.0648, grad=-0.0997), Var(v=0.0972, grad=-0.1998), Var(v=0.0998, grad=-0.3401), Var(v=0.0050, grad=-0.0158), Var(v=0.0293, grad=0.0000), Var(v=0.1461, grad=0.0000), Var(v=0.0239, grad=0.0000), Var(v=-0.0005, grad=-0.0572), Var(v=0.0745, grad=0.1375), Var(v=-0.1862, grad=0.0894), Var(v=-0.0278, grad=0.0000), Var(v=-0.0360, grad=0.0000), Var(v=-0.0455, grad=0.0000), Var(v=-0.1047, grad=0.0000), Var(v=0.0783, grad=-0.0615), Var(v=0.1222, grad=0.0000), Var(v=-0.1510, grad=0.0000), Var(v=0.0326, grad=-0.1891), Var(v=0.1890, grad=0.0000), Var(v=0.1088, grad=0.0000), Var(v=-0.1402, grad=-0.1435), Var(v=0.1869, grad=0.0668), Var(v=-0.1518, grad=0.1686), Var(v=0.0518, grad=0.0000), Var(v=0.2237, grad=0.0000), Var(v=-0.0909, grad=0.0000), Var(v=-0.1739, grad=0.0000), Var(v=-0.0450, grad=-0.5133), Var(v=0.0108, grad=-0.2884), Var(v=-0.0795, grad=-0.2877), Var(v=-0.0061, grad=0.1473), Var(v=0.0703, grad=-0.0133), Var(v=0.0092, grad=0.1023), Var(v=0.0618, grad=0.0000), Var(v=0.0926, grad=0.0328), Var(v=-0.1361, grad=0.0000), Var(v=0.1947, grad=0.3579), Var(v=-0.0528, grad=-0.0398), Var(v=0.1189, grad=0.0000), Var(v=0.0496, grad=0.0000), Var(v=0.0853, grad=0.0000), Var(v=-0.0699, grad=0.0000), Var(v=-0.2438, grad=0.0000), Var(v=-0.0494, grad=0.0607), Var(v=0.0556, grad=0.1671), Var(v=0.1212, grad=0.0000)], [Var(v=-0.0825, grad=0.0000), Var(v=-0.0527, grad=0.0000), Var(v=-0.1091, grad=-0.0036), Var(v=-0.1427, grad=0.0000), Var(v=0.0491, grad=0.0618), Var(v=-0.1336, grad=0.1239), Var(v=-0.1710, grad=0.0000), Var(v=-0.2038, grad=0.0000), Var(v=-0.0689, grad=0.0000), Var(v=-0.0211, grad=0.0076), Var(v=-0.0659, grad=0.0000), Var(v=-0.1530, grad=0.0354), Var(v=0.0258, grad=0.0000), Var(v=0.2686, grad=-0.0554), Var(v=0.0410, grad=0.0000), Var(v=-0.0694, grad=0.1319), Var(v=0.0261, grad=-0.1043), Var(v=-0.0748, grad=0.0000), Var(v=0.0561, grad=0.0000), Var(v=-0.0703, grad=0.0056), Var(v=-0.0884, grad=0.3210), Var(v=-0.0835, grad=0.1173), Var(v=0.0336, grad=0.0000), Var(v=0.0584, grad=0.0000), Var(v=0.1159, grad=0.0000), Var(v=-0.0589, grad=-0.0414), Var(v=0.0758, grad=0.0000), Var(v=0.0298, grad=0.0000), Var(v=-0.0224, grad=-0.0684), Var(v=0.1020, grad=0.0000), Var(v=0.1111, grad=-0.0639), Var(v=-0.0412, grad=0.3182), Var(v=-0.0221, grad=0.1788), Var(v=0.0825, grad=0.1784), Var(v=-0.0595, grad=0.0000), Var(v=-0.0450, grad=0.0000), Var(v=0.1763, grad=-0.0634), Var(v=-0.0413, grad=0.0000), Var(v=-0.0513, grad=0.0000), Var(v=0.0758, grad=0.0000), Var(v=0.0026, grad=-0.2219), Var(v=-0.0087, grad=0.0000), Var(v=-0.0722, grad=0.0000), Var(v=-0.0624, grad=0.1298), Var(v=-0.0736, grad=0.0000), Var(v=0.0967, grad=0.0000), Var(v=-0.0380, grad=0.0000), Var(v=-0.0548, grad=-0.0376), Var(v=-0.0429, grad=-0.1036), Var(v=-0.0294, grad=-0.0959)]] Biases: [Var(v=0.0000, grad=0.0000), Var(v=0.0000, grad=0.0000), Var(v=0.0000, grad=-0.0046), Var(v=0.0000, grad=0.0000), Var(v=-0.0008, grad=0.0781), Var(v=-0.0016, grad=0.1566), Var(v=0.1228, grad=-12.2811), Var(v=0.0057, grad=-0.5708), Var(v=0.0000, grad=0.0000), Var(v=-0.0045, grad=0.4536), Var(v=0.0000, grad=0.0000), Var(v=-0.0004, grad=0.0448), Var(v=-0.0497, grad=4.9657), Var(v=0.0007, grad=-0.0700), Var(v=0.0000, grad=0.0000), Var(v=-0.0785, grad=7.8528), Var(v=0.0621, grad=-6.2065), Var(v=0.0000, grad=0.0000), Var(v=0.0222, grad=-2.2191), Var(v=-0.0033, grad=0.3343), Var(v=-0.1911, grad=19.1053), Var(v=-0.0015, grad=0.1482), Var(v=0.0000, grad=0.0000), Var(v=0.0000, grad=0.0000), Var(v=0.0518, grad=-5.1815), Var(v=0.0005, grad=-0.0523), Var(v=-0.0609, grad=6.0898), Var(v=0.0000, grad=0.0000), Var(v=0.0407, grad=-4.0728), Var(v=0.0000, grad=0.0000), Var(v=0.0380, grad=-3.8035), Var(v=-0.0040, grad=0.4022), Var(v=-0.0023, grad=0.2260), Var(v=-0.0023, grad=0.2254), Var(v=-0.0532, grad=5.3183), Var(v=0.0048, grad=-0.4813), Var(v=0.0008, grad=-0.0802), Var(v=0.0000, grad=0.0000), Var(v=-0.0118, grad=1.1845), Var(v=0.0000, grad=0.0000), Var(v=0.0028, grad=-0.2805), Var(v=0.0144, grad=-1.4384), Var(v=0.0000, grad=0.0000), Var(v=-0.0773, grad=7.7279), Var(v=0.0000, grad=0.0000), Var(v=0.0000, grad=0.0000), Var(v=0.0000, grad=0.0000), Var(v=0.0005, grad=-0.0476), Var(v=0.0013, grad=-0.1310), Var(v=0.0570, grad=-5.7048)]\n",
      "Layer 2 \n",
      " Weights: [[Var(v=-0.0373, grad=0.0000)], [Var(v=0.0935, grad=0.0000)], [Var(v=-0.0253, grad=2.2927)], [Var(v=-0.0871, grad=0.0000)], [Var(v=0.0116, grad=2.9677)], [Var(v=0.0429, grad=3.9737)], [Var(v=0.1535, grad=-1.2821)], [Var(v=0.0069, grad=-0.0385)], [Var(v=-0.0225, grad=0.0000)], [Var(v=-0.0313, grad=3.6414)], [Var(v=0.0679, grad=0.0000)], [Var(v=-0.0086, grad=3.2225)], [Var(v=-0.0450, grad=-1.1902)], [Var(v=-0.0677, grad=3.0690)], [Var(v=-0.0255, grad=0.0000)], [Var(v=0.0752, grad=1.2829)], [Var(v=-0.0841, grad=1.4532)], [Var(v=-0.3161, grad=0.0000)], [Var(v=0.0531, grad=-2.7679)], [Var(v=-0.0508, grad=5.4561)], [Var(v=0.1921, grad=2.2095)], [Var(v=0.0612, grad=1.7074)], [Var(v=0.0776, grad=0.0000)], [Var(v=-0.1391, grad=0.0000)], [Var(v=0.0796, grad=-2.0256)], [Var(v=-0.0406, grad=1.2988)], [Var(v=-0.0570, grad=-1.2741)], [Var(v=0.0603, grad=0.0000)], [Var(v=-0.0724, grad=2.6692)], [Var(v=0.1392, grad=0.0000)], [Var(v=-0.0737, grad=3.1099)], [Var(v=0.1908, grad=2.1550)], [Var(v=0.1045, grad=1.4771)], [Var(v=0.1070, grad=1.1971)], [Var(v=-0.0306, grad=-3.0354)], [Var(v=0.0097, grad=-0.4143)], [Var(v=-0.0254, grad=-1.6955)], [Var(v=0.1019, grad=0.0000)], [Var(v=-0.0129, grad=-0.0704)], [Var(v=0.0961, grad=0.0000)], [Var(v=-0.1316, grad=-1.6479)], [Var(v=0.0237, grad=-0.7188)], [Var(v=0.0826, grad=0.0000)], [Var(v=0.0356, grad=5.1064)], [Var(v=0.2301, grad=0.0000)], [Var(v=-0.0600, grad=0.0000)], [Var(v=-0.0016, grad=0.0000)], [Var(v=-0.0490, grad=2.3921)], [Var(v=-0.0727, grad=0.3547)], [Var(v=-0.0816, grad=1.7676)]] Biases: [Var(v=-0.0189, grad=1.8942)]\n",
      "\n",
      "Network after zeroing gradients:\n",
      "Layer 0 \n",
      " Weights: [[Var(v=-0.1563, grad=0.0000), Var(v=0.0253, grad=0.0000), Var(v=-0.0372, grad=0.0000), Var(v=-0.0130, grad=0.0000), Var(v=-0.0747, grad=0.0000), Var(v=0.0777, grad=0.0000), Var(v=0.0309, grad=0.0000), Var(v=0.0571, grad=0.0000), Var(v=-0.0580, grad=0.0000), Var(v=-0.0242, grad=0.0000), Var(v=-0.1986, grad=0.0000), Var(v=0.1219, grad=0.0000), Var(v=-0.1074, grad=0.0000), Var(v=-0.0027, grad=0.0000), Var(v=-0.0779, grad=0.0000)]] Biases: [Var(v=0.0135, grad=0.0000), Var(v=-0.0072, grad=0.0000), Var(v=-0.0760, grad=0.0000), Var(v=-0.0868, grad=0.0000), Var(v=-0.0329, grad=0.0000), Var(v=0.0050, grad=0.0000), Var(v=-0.0049, grad=0.0000), Var(v=-0.0716, grad=0.0000), Var(v=-0.0651, grad=0.0000), Var(v=0.0056, grad=0.0000), Var(v=0.0038, grad=0.0000), Var(v=0.0141, grad=0.0000), Var(v=0.0191, grad=0.0000), Var(v=-0.0227, grad=0.0000), Var(v=0.0569, grad=0.0000)]\n",
      "Layer 1 \n",
      " Weights: [[Var(v=0.0577, grad=0.0000), Var(v=-0.0732, grad=0.0000), Var(v=-0.0377, grad=0.0000), Var(v=-0.1313, grad=0.0000), Var(v=0.1196, grad=0.0000), Var(v=-0.1053, grad=0.0000), Var(v=0.0461, grad=0.0000), Var(v=-0.1748, grad=0.0000), Var(v=-0.1789, grad=0.0000), Var(v=0.0462, grad=0.0000), Var(v=0.0455, grad=0.0000), Var(v=0.1512, grad=0.0000), Var(v=0.1432, grad=0.0000), Var(v=0.0793, grad=0.0000), Var(v=-0.0538, grad=0.0000), Var(v=-0.2010, grad=0.0000), Var(v=0.0272, grad=0.0000), Var(v=-0.0217, grad=0.0000), Var(v=-0.2301, grad=0.0000), Var(v=-0.0383, grad=0.0000), Var(v=-0.0165, grad=0.0000), Var(v=0.0738, grad=0.0000), Var(v=-0.0082, grad=0.0000), Var(v=-0.1210, grad=0.0000), Var(v=-0.2035, grad=0.0000), Var(v=0.1281, grad=0.0000), Var(v=-0.0370, grad=0.0000), Var(v=0.0295, grad=0.0000), Var(v=0.0289, grad=0.0000), Var(v=-0.1148, grad=0.0000), Var(v=0.0229, grad=0.0000), Var(v=-0.0178, grad=0.0000), Var(v=-0.0436, grad=0.0000), Var(v=-0.0542, grad=0.0000), Var(v=-0.0548, grad=0.0000), Var(v=0.1419, grad=0.0000), Var(v=-0.0874, grad=0.0000), Var(v=-0.0735, grad=0.0000), Var(v=-0.1470, grad=0.0000), Var(v=0.0282, grad=0.0000), Var(v=-0.0815, grad=0.0000), Var(v=0.0077, grad=0.0000), Var(v=-0.0185, grad=0.0000), Var(v=-0.1332, grad=0.0000), Var(v=0.0752, grad=0.0000), Var(v=0.0799, grad=0.0000), Var(v=-0.0605, grad=0.0000), Var(v=0.0343, grad=0.0000), Var(v=-0.0757, grad=0.0000), Var(v=0.1424, grad=0.0000)], [Var(v=-0.0665, grad=0.0000), Var(v=-0.1093, grad=0.0000), Var(v=0.0415, grad=0.0000), Var(v=-0.0216, grad=0.0000), Var(v=0.1473, grad=0.0000), Var(v=0.1141, grad=0.0000), Var(v=-0.0068, grad=0.0000), Var(v=0.0318, grad=0.0000), Var(v=-0.1104, grad=0.0000), Var(v=0.0713, grad=0.0000), Var(v=0.0292, grad=0.0000), Var(v=-0.1831, grad=0.0000), Var(v=0.0793, grad=0.0000), Var(v=0.2524, grad=0.0000), Var(v=0.0133, grad=0.0000), Var(v=-0.0174, grad=0.0000), Var(v=0.0411, grad=0.0000), Var(v=-0.0191, grad=0.0000), Var(v=0.1516, grad=0.0000), Var(v=-0.0781, grad=0.0000), Var(v=0.0119, grad=0.0000), Var(v=0.0488, grad=0.0000), Var(v=0.0111, grad=0.0000), Var(v=0.0600, grad=0.0000), Var(v=0.0559, grad=0.0000), Var(v=0.0144, grad=0.0000), Var(v=-0.1233, grad=0.0000), Var(v=-0.0720, grad=0.0000), Var(v=0.1328, grad=0.0000), Var(v=-0.0602, grad=0.0000), Var(v=-0.0398, grad=0.0000), Var(v=0.0049, grad=0.0000), Var(v=-0.1793, grad=0.0000), Var(v=0.1229, grad=0.0000), Var(v=-0.0479, grad=0.0000), Var(v=-0.0185, grad=0.0000), Var(v=-0.0000, grad=0.0000), Var(v=0.2559, grad=0.0000), Var(v=0.1662, grad=0.0000), Var(v=0.0994, grad=0.0000), Var(v=-0.0071, grad=0.0000), Var(v=-0.0189, grad=0.0000), Var(v=-0.0134, grad=0.0000), Var(v=-0.0331, grad=0.0000), Var(v=0.0461, grad=0.0000), Var(v=-0.0005, grad=0.0000), Var(v=0.0328, grad=0.0000), Var(v=0.0403, grad=0.0000), Var(v=0.1901, grad=0.0000), Var(v=0.0631, grad=0.0000)], [Var(v=-0.1612, grad=0.0000), Var(v=-0.1084, grad=0.0000), Var(v=0.1759, grad=0.0000), Var(v=0.0599, grad=0.0000), Var(v=-0.1071, grad=0.0000), Var(v=0.0108, grad=0.0000), Var(v=-0.2073, grad=0.0000), Var(v=-0.1082, grad=0.0000), Var(v=-0.0184, grad=0.0000), Var(v=0.1478, grad=0.0000), Var(v=-0.0126, grad=0.0000), Var(v=-0.0399, grad=0.0000), Var(v=-0.0437, grad=0.0000), Var(v=-0.1190, grad=0.0000), Var(v=0.0315, grad=0.0000), Var(v=0.1458, grad=0.0000), Var(v=0.0458, grad=0.0000), Var(v=-0.0463, grad=0.0000), Var(v=0.0918, grad=0.0000), Var(v=0.0056, grad=0.0000), Var(v=0.1177, grad=0.0000), Var(v=0.0349, grad=0.0000), Var(v=-0.1054, grad=0.0000), Var(v=-0.1587, grad=0.0000), Var(v=0.0924, grad=0.0000), Var(v=0.0604, grad=0.0000), Var(v=-0.0154, grad=0.0000), Var(v=-0.0361, grad=0.0000), Var(v=-0.1041, grad=0.0000), Var(v=0.0012, grad=0.0000), Var(v=0.0170, grad=0.0000), Var(v=0.0888, grad=0.0000), Var(v=-0.0132, grad=0.0000), Var(v=0.1394, grad=0.0000), Var(v=-0.1633, grad=0.0000), Var(v=-0.2185, grad=0.0000), Var(v=0.1703, grad=0.0000), Var(v=-0.0706, grad=0.0000), Var(v=-0.1444, grad=0.0000), Var(v=0.1303, grad=0.0000), Var(v=0.0179, grad=0.0000), Var(v=-0.0632, grad=0.0000), Var(v=0.1101, grad=0.0000), Var(v=-0.0304, grad=0.0000), Var(v=-0.1419, grad=0.0000), Var(v=-0.1179, grad=0.0000), Var(v=0.1240, grad=0.0000), Var(v=0.0208, grad=0.0000), Var(v=-0.0656, grad=0.0000), Var(v=0.0532, grad=0.0000)], [Var(v=0.0778, grad=0.0000), Var(v=-0.0047, grad=0.0000), Var(v=0.0671, grad=0.0000), Var(v=0.1801, grad=0.0000), Var(v=0.0846, grad=0.0000), Var(v=0.2944, grad=0.0000), Var(v=-0.0442, grad=0.0000), Var(v=-0.0729, grad=0.0000), Var(v=-0.0179, grad=0.0000), Var(v=-0.0761, grad=0.0000), Var(v=0.0474, grad=0.0000), Var(v=0.1263, grad=0.0000), Var(v=-0.0832, grad=0.0000), Var(v=0.1476, grad=0.0000), Var(v=0.0878, grad=0.0000), Var(v=-0.0970, grad=0.0000), Var(v=0.0025, grad=0.0000), Var(v=-0.0707, grad=0.0000), Var(v=0.0408, grad=0.0000), Var(v=0.0734, grad=0.0000), Var(v=0.1249, grad=0.0000), Var(v=0.0813, grad=0.0000), Var(v=-0.0631, grad=0.0000), Var(v=0.0510, grad=0.0000), Var(v=0.0004, grad=0.0000), Var(v=-0.0851, grad=0.0000), Var(v=-0.1102, grad=0.0000), Var(v=-0.0138, grad=0.0000), Var(v=0.1973, grad=0.0000), Var(v=-0.1244, grad=0.0000), Var(v=0.0060, grad=0.0000), Var(v=-0.0483, grad=0.0000), Var(v=0.0267, grad=0.0000), Var(v=0.0837, grad=0.0000), Var(v=0.0837, grad=0.0000), Var(v=0.0045, grad=0.0000), Var(v=0.0449, grad=0.0000), Var(v=-0.0278, grad=0.0000), Var(v=0.2235, grad=0.0000), Var(v=-0.0400, grad=0.0000), Var(v=-0.1974, grad=0.0000), Var(v=0.0166, grad=0.0000), Var(v=0.0218, grad=0.0000), Var(v=0.1944, grad=0.0000), Var(v=-0.0120, grad=0.0000), Var(v=-0.0410, grad=0.0000), Var(v=-0.0579, grad=0.0000), Var(v=0.0486, grad=0.0000), Var(v=0.1004, grad=0.0000), Var(v=0.0750, grad=0.0000)], [Var(v=-0.0607, grad=0.0000), Var(v=0.1529, grad=0.0000), Var(v=0.2488, grad=0.0000), Var(v=0.0214, grad=0.0000), Var(v=0.0942, grad=0.0000), Var(v=-0.0001, grad=0.0000), Var(v=-0.0656, grad=0.0000), Var(v=-0.0485, grad=0.0000), Var(v=-0.1029, grad=0.0000), Var(v=-0.0297, grad=0.0000), Var(v=-0.1799, grad=0.0000), Var(v=0.1213, grad=0.0000), Var(v=-0.0352, grad=0.0000), Var(v=-0.0915, grad=0.0000), Var(v=-0.0874, grad=0.0000), Var(v=0.1496, grad=0.0000), Var(v=-0.1148, grad=0.0000), Var(v=-0.1073, grad=0.0000), Var(v=-0.1372, grad=0.0000), Var(v=0.0616, grad=0.0000), Var(v=-0.0803, grad=0.0000), Var(v=0.0230, grad=0.0000), Var(v=0.0316, grad=0.0000), Var(v=-0.0012, grad=0.0000), Var(v=-0.0999, grad=0.0000), Var(v=-0.1035, grad=0.0000), Var(v=-0.0425, grad=0.0000), Var(v=-0.1700, grad=0.0000), Var(v=0.0179, grad=0.0000), Var(v=-0.2172, grad=0.0000), Var(v=0.0389, grad=0.0000), Var(v=0.1058, grad=0.0000), Var(v=0.0258, grad=0.0000), Var(v=-0.1278, grad=0.0000), Var(v=-0.1116, grad=0.0000), Var(v=-0.0617, grad=0.0000), Var(v=0.0853, grad=0.0000), Var(v=-0.1733, grad=0.0000), Var(v=0.0400, grad=0.0000), Var(v=-0.1288, grad=0.0000), Var(v=0.1631, grad=0.0000), Var(v=-0.1879, grad=0.0000), Var(v=-0.0566, grad=0.0000), Var(v=0.1415, grad=0.0000), Var(v=0.0837, grad=0.0000), Var(v=-0.0423, grad=0.0000), Var(v=-0.0872, grad=0.0000), Var(v=-0.1517, grad=0.0000), Var(v=0.0584, grad=0.0000), Var(v=-0.0854, grad=0.0000)], [Var(v=-0.0768, grad=0.0000), Var(v=-0.0525, grad=0.0000), Var(v=0.0249, grad=0.0000), Var(v=-0.0152, grad=0.0000), Var(v=0.0622, grad=0.0000), Var(v=-0.1355, grad=0.0000), Var(v=0.0653, grad=0.0000), Var(v=-0.0767, grad=0.0000), Var(v=-0.3382, grad=0.0000), Var(v=-0.1516, grad=0.0000), Var(v=-0.1047, grad=0.0000), Var(v=0.0326, grad=0.0000), Var(v=0.1600, grad=0.0000), Var(v=0.0663, grad=0.0000), Var(v=-0.2354, grad=0.0000), Var(v=-0.1536, grad=0.0000), Var(v=-0.0087, grad=0.0000), Var(v=0.1136, grad=0.0000), Var(v=0.1573, grad=0.0000), Var(v=-0.0198, grad=0.0000), Var(v=0.1913, grad=0.0000), Var(v=0.1186, grad=0.0000), Var(v=-0.1354, grad=0.0000), Var(v=0.0446, grad=0.0000), Var(v=0.1458, grad=0.0000), Var(v=0.0404, grad=0.0000), Var(v=0.0645, grad=0.0000), Var(v=-0.0179, grad=0.0000), Var(v=-0.1526, grad=0.0000), Var(v=-0.1188, grad=0.0000), Var(v=-0.2417, grad=0.0000), Var(v=0.0934, grad=0.0000), Var(v=0.1439, grad=0.0000), Var(v=0.0980, grad=0.0000), Var(v=0.0925, grad=0.0000), Var(v=0.0251, grad=0.0000), Var(v=0.1924, grad=0.0000), Var(v=-0.0434, grad=0.0000), Var(v=-0.1638, grad=0.0000), Var(v=-0.0318, grad=0.0000), Var(v=0.1364, grad=0.0000), Var(v=0.0707, grad=0.0000), Var(v=0.0560, grad=0.0000), Var(v=0.1199, grad=0.0000), Var(v=0.0654, grad=0.0000), Var(v=-0.1723, grad=0.0000), Var(v=-0.0092, grad=0.0000), Var(v=0.1151, grad=0.0000), Var(v=0.0540, grad=0.0000), Var(v=-0.1141, grad=0.0000)], [Var(v=-0.1792, grad=0.0000), Var(v=-0.0541, grad=0.0000), Var(v=-0.0934, grad=0.0000), Var(v=0.0088, grad=0.0000), Var(v=0.1519, grad=0.0000), Var(v=0.0363, grad=0.0000), Var(v=0.0145, grad=0.0000), Var(v=0.0602, grad=0.0000), Var(v=-0.1165, grad=0.0000), Var(v=-0.0301, grad=0.0000), Var(v=-0.1272, grad=0.0000), Var(v=-0.1200, grad=0.0000), Var(v=-0.0663, grad=0.0000), Var(v=0.1177, grad=0.0000), Var(v=-0.0060, grad=0.0000), Var(v=0.0853, grad=0.0000), Var(v=0.0323, grad=0.0000), Var(v=0.0465, grad=0.0000), Var(v=-0.0746, grad=0.0000), Var(v=0.0569, grad=0.0000), Var(v=0.0878, grad=0.0000), Var(v=0.2242, grad=0.0000), Var(v=-0.1805, grad=0.0000), Var(v=-0.2472, grad=0.0000), Var(v=0.0739, grad=0.0000), Var(v=-0.0990, grad=0.0000), Var(v=-0.0437, grad=0.0000), Var(v=0.0133, grad=0.0000), Var(v=0.0219, grad=0.0000), Var(v=-0.0620, grad=0.0000), Var(v=0.0691, grad=0.0000), Var(v=-0.0470, grad=0.0000), Var(v=0.0866, grad=0.0000), Var(v=-0.0316, grad=0.0000), Var(v=-0.0998, grad=0.0000), Var(v=-0.0207, grad=0.0000), Var(v=0.1968, grad=0.0000), Var(v=-0.1176, grad=0.0000), Var(v=-0.0855, grad=0.0000), Var(v=-0.0037, grad=0.0000), Var(v=0.1736, grad=0.0000), Var(v=0.0721, grad=0.0000), Var(v=0.0129, grad=0.0000), Var(v=-0.1321, grad=0.0000), Var(v=0.0254, grad=0.0000), Var(v=-0.0250, grad=0.0000), Var(v=0.0193, grad=0.0000), Var(v=-0.0069, grad=0.0000), Var(v=0.0755, grad=0.0000), Var(v=-0.0234, grad=0.0000)], [Var(v=-0.0611, grad=0.0000), Var(v=-0.1251, grad=0.0000), Var(v=-0.0323, grad=0.0000), Var(v=0.0358, grad=0.0000), Var(v=0.0095, grad=0.0000), Var(v=0.2310, grad=0.0000), Var(v=-0.0348, grad=0.0000), Var(v=0.0643, grad=0.0000), Var(v=-0.1380, grad=0.0000), Var(v=0.0399, grad=0.0000), Var(v=0.1555, grad=0.0000), Var(v=-0.0455, grad=0.0000), Var(v=0.0513, grad=0.0000), Var(v=0.1474, grad=0.0000), Var(v=-0.0470, grad=0.0000), Var(v=0.1287, grad=0.0000), Var(v=-0.0825, grad=0.0000), Var(v=-0.0889, grad=0.0000), Var(v=0.1479, grad=0.0000), Var(v=0.0601, grad=0.0000), Var(v=0.1846, grad=0.0000), Var(v=-0.0819, grad=0.0000), Var(v=0.1948, grad=0.0000), Var(v=0.1808, grad=0.0000), Var(v=0.0999, grad=0.0000), Var(v=-0.0996, grad=0.0000), Var(v=-0.0765, grad=0.0000), Var(v=-0.0545, grad=0.0000), Var(v=-0.0069, grad=0.0000), Var(v=0.0852, grad=0.0000), Var(v=-0.0203, grad=0.0000), Var(v=0.0700, grad=0.0000), Var(v=-0.1225, grad=0.0000), Var(v=0.0956, grad=0.0000), Var(v=0.1117, grad=0.0000), Var(v=0.0411, grad=0.0000), Var(v=-0.0903, grad=0.0000), Var(v=-0.0556, grad=0.0000), Var(v=-0.1156, grad=0.0000), Var(v=-0.0991, grad=0.0000), Var(v=0.0298, grad=0.0000), Var(v=0.0597, grad=0.0000), Var(v=0.0513, grad=0.0000), Var(v=-0.0830, grad=0.0000), Var(v=0.0200, grad=0.0000), Var(v=-0.0072, grad=0.0000), Var(v=-0.2125, grad=0.0000), Var(v=-0.0001, grad=0.0000), Var(v=0.0020, grad=0.0000), Var(v=-0.0748, grad=0.0000)], [Var(v=0.0569, grad=0.0000), Var(v=-0.0187, grad=0.0000), Var(v=0.0391, grad=0.0000), Var(v=0.1020, grad=0.0000), Var(v=0.1195, grad=0.0000), Var(v=-0.0510, grad=0.0000), Var(v=0.0402, grad=0.0000), Var(v=-0.0241, grad=0.0000), Var(v=0.1848, grad=0.0000), Var(v=0.0558, grad=0.0000), Var(v=-0.1303, grad=0.0000), Var(v=0.0368, grad=0.0000), Var(v=0.0640, grad=0.0000), Var(v=0.0537, grad=0.0000), Var(v=-0.0460, grad=0.0000), Var(v=0.1674, grad=0.0000), Var(v=-0.0083, grad=0.0000), Var(v=-0.0828, grad=0.0000), Var(v=-0.0503, grad=0.0000), Var(v=-0.2188, grad=0.0000), Var(v=0.0336, grad=0.0000), Var(v=-0.2597, grad=0.0000), Var(v=-0.0360, grad=0.0000), Var(v=0.0325, grad=0.0000), Var(v=0.0908, grad=0.0000), Var(v=0.1427, grad=0.0000), Var(v=-0.0107, grad=0.0000), Var(v=-0.0511, grad=0.0000), Var(v=0.0095, grad=0.0000), Var(v=-0.1856, grad=0.0000), Var(v=-0.1026, grad=0.0000), Var(v=-0.0855, grad=0.0000), Var(v=0.0163, grad=0.0000), Var(v=-0.0661, grad=0.0000), Var(v=0.0727, grad=0.0000), Var(v=0.0836, grad=0.0000), Var(v=0.0983, grad=0.0000), Var(v=0.0133, grad=0.0000), Var(v=0.0556, grad=0.0000), Var(v=-0.1124, grad=0.0000), Var(v=0.0699, grad=0.0000), Var(v=-0.2305, grad=0.0000), Var(v=-0.0418, grad=0.0000), Var(v=0.0142, grad=0.0000), Var(v=0.0787, grad=0.0000), Var(v=0.0824, grad=0.0000), Var(v=0.1872, grad=0.0000), Var(v=0.0419, grad=0.0000), Var(v=0.0802, grad=0.0000), Var(v=0.1040, grad=0.0000)], [Var(v=0.0171, grad=0.0000), Var(v=-0.0266, grad=0.0000), Var(v=-0.0459, grad=0.0000), Var(v=-0.1583, grad=0.0000), Var(v=-0.1774, grad=0.0000), Var(v=-0.1273, grad=0.0000), Var(v=0.0799, grad=0.0000), Var(v=-0.0218, grad=0.0000), Var(v=0.1162, grad=0.0000), Var(v=0.1755, grad=0.0000), Var(v=0.0718, grad=0.0000), Var(v=0.1065, grad=0.0000), Var(v=-0.0401, grad=0.0000), Var(v=-0.1137, grad=0.0000), Var(v=0.0245, grad=0.0000), Var(v=0.0403, grad=0.0000), Var(v=0.2199, grad=0.0000), Var(v=-0.0247, grad=0.0000), Var(v=0.1676, grad=0.0000), Var(v=-0.1129, grad=0.0000), Var(v=0.0205, grad=0.0000), Var(v=-0.0189, grad=0.0000), Var(v=0.0892, grad=0.0000), Var(v=0.1555, grad=0.0000), Var(v=0.0301, grad=0.0000), Var(v=-0.2089, grad=0.0000), Var(v=-0.1426, grad=0.0000), Var(v=0.0548, grad=0.0000), Var(v=-0.0349, grad=0.0000), Var(v=-0.0020, grad=0.0000), Var(v=-0.0283, grad=0.0000), Var(v=0.0550, grad=0.0000), Var(v=-0.2095, grad=0.0000), Var(v=-0.0898, grad=0.0000), Var(v=0.0602, grad=0.0000), Var(v=-0.0259, grad=0.0000), Var(v=-0.1436, grad=0.0000), Var(v=0.0076, grad=0.0000), Var(v=-0.1573, grad=0.0000), Var(v=-0.0655, grad=0.0000), Var(v=-0.0702, grad=0.0000), Var(v=0.0223, grad=0.0000), Var(v=-0.1515, grad=0.0000), Var(v=0.1491, grad=0.0000), Var(v=0.0836, grad=0.0000), Var(v=-0.1143, grad=0.0000), Var(v=-0.1479, grad=0.0000), Var(v=-0.1062, grad=0.0000), Var(v=0.0952, grad=0.0000), Var(v=0.0059, grad=0.0000)], [Var(v=0.0393, grad=0.0000), Var(v=-0.0144, grad=0.0000), Var(v=0.0434, grad=0.0000), Var(v=-0.0216, grad=0.0000), Var(v=0.0936, grad=0.0000), Var(v=0.1231, grad=0.0000), Var(v=0.0587, grad=0.0000), Var(v=0.0751, grad=0.0000), Var(v=-0.0173, grad=0.0000), Var(v=0.0489, grad=0.0000), Var(v=-0.1583, grad=0.0000), Var(v=0.0577, grad=0.0000), Var(v=-0.1275, grad=0.0000), Var(v=0.2262, grad=0.0000), Var(v=-0.1423, grad=0.0000), Var(v=-0.0133, grad=0.0000), Var(v=0.1227, grad=0.0000), Var(v=-0.1080, grad=0.0000), Var(v=-0.0249, grad=0.0000), Var(v=0.2241, grad=0.0000), Var(v=-0.0655, grad=0.0000), Var(v=0.0061, grad=0.0000), Var(v=-0.0028, grad=0.0000), Var(v=-0.0389, grad=0.0000), Var(v=0.0320, grad=0.0000), Var(v=0.0789, grad=0.0000), Var(v=-0.0108, grad=0.0000), Var(v=0.0691, grad=0.0000), Var(v=0.0411, grad=0.0000), Var(v=-0.0872, grad=0.0000), Var(v=0.1231, grad=0.0000), Var(v=-0.0350, grad=0.0000), Var(v=0.1036, grad=0.0000), Var(v=0.0470, grad=0.0000), Var(v=-0.1604, grad=0.0000), Var(v=-0.0593, grad=0.0000), Var(v=-0.0100, grad=0.0000), Var(v=0.1287, grad=0.0000), Var(v=-0.1669, grad=0.0000), Var(v=-0.0124, grad=0.0000), Var(v=0.1745, grad=0.0000), Var(v=-0.0656, grad=0.0000), Var(v=-0.1374, grad=0.0000), Var(v=0.0710, grad=0.0000), Var(v=-0.0305, grad=0.0000), Var(v=-0.1161, grad=0.0000), Var(v=-0.1264, grad=0.0000), Var(v=0.1646, grad=0.0000), Var(v=0.0828, grad=0.0000), Var(v=-0.0292, grad=0.0000)], [Var(v=0.0646, grad=0.0000), Var(v=0.0595, grad=0.0000), Var(v=0.1715, grad=0.0000), Var(v=-0.0211, grad=0.0000), Var(v=-0.0738, grad=0.0000), Var(v=0.0457, grad=0.0000), Var(v=0.0696, grad=0.0000), Var(v=0.0289, grad=0.0000), Var(v=0.0297, grad=0.0000), Var(v=-0.0526, grad=0.0000), Var(v=-0.0963, grad=0.0000), Var(v=0.1766, grad=0.0000), Var(v=-0.0387, grad=0.0000), Var(v=0.0458, grad=0.0000), Var(v=0.1276, grad=0.0000), Var(v=-0.0892, grad=0.0000), Var(v=-0.0847, grad=0.0000), Var(v=-0.0519, grad=0.0000), Var(v=0.1243, grad=0.0000), Var(v=-0.0855, grad=0.0000), Var(v=-0.1481, grad=0.0000), Var(v=-0.0385, grad=0.0000), Var(v=-0.0968, grad=0.0000), Var(v=-0.0987, grad=0.0000), Var(v=0.0737, grad=0.0000), Var(v=-0.0654, grad=0.0000), Var(v=0.1525, grad=0.0000), Var(v=-0.1257, grad=0.0000), Var(v=-0.0332, grad=0.0000), Var(v=-0.1150, grad=0.0000), Var(v=-0.1251, grad=0.0000), Var(v=0.0201, grad=0.0000), Var(v=0.0716, grad=0.0000), Var(v=0.0250, grad=0.0000), Var(v=0.2478, grad=0.0000), Var(v=0.0058, grad=0.0000), Var(v=0.0034, grad=0.0000), Var(v=-0.1166, grad=0.0000), Var(v=0.0620, grad=0.0000), Var(v=-0.1596, grad=0.0000), Var(v=-0.0687, grad=0.0000), Var(v=0.0538, grad=0.0000), Var(v=-0.1147, grad=0.0000), Var(v=-0.0466, grad=0.0000), Var(v=-0.1326, grad=0.0000), Var(v=-0.0551, grad=0.0000), Var(v=0.0090, grad=0.0000), Var(v=-0.0175, grad=0.0000), Var(v=-0.1594, grad=0.0000), Var(v=-0.0543, grad=0.0000)], [Var(v=-0.0574, grad=0.0000), Var(v=0.1054, grad=0.0000), Var(v=-0.1082, grad=0.0000), Var(v=-0.0929, grad=0.0000), Var(v=-0.0361, grad=0.0000), Var(v=-0.1261, grad=0.0000), Var(v=-0.0180, grad=0.0000), Var(v=-0.0948, grad=0.0000), Var(v=0.2149, grad=0.0000), Var(v=0.1221, grad=0.0000), Var(v=0.1445, grad=0.0000), Var(v=-0.1409, grad=0.0000), Var(v=-0.1089, grad=0.0000), Var(v=0.0416, grad=0.0000), Var(v=0.0310, grad=0.0000), Var(v=0.1027, grad=0.0000), Var(v=-0.0157, grad=0.0000), Var(v=0.1071, grad=0.0000), Var(v=0.0611, grad=0.0000), Var(v=0.0397, grad=0.0000), Var(v=-0.0732, grad=0.0000), Var(v=-0.0606, grad=0.0000), Var(v=0.0259, grad=0.0000), Var(v=-0.1717, grad=0.0000), Var(v=-0.2470, grad=0.0000), Var(v=0.0377, grad=0.0000), Var(v=0.1757, grad=0.0000), Var(v=-0.1244, grad=0.0000), Var(v=0.1176, grad=0.0000), Var(v=-0.1432, grad=0.0000), Var(v=0.0134, grad=0.0000), Var(v=-0.1068, grad=0.0000), Var(v=0.0586, grad=0.0000), Var(v=-0.0867, grad=0.0000), Var(v=0.0251, grad=0.0000), Var(v=0.0612, grad=0.0000), Var(v=-0.0765, grad=0.0000), Var(v=-0.1299, grad=0.0000), Var(v=-0.1021, grad=0.0000), Var(v=-0.0357, grad=0.0000), Var(v=-0.0471, grad=0.0000), Var(v=0.0953, grad=0.0000), Var(v=0.2060, grad=0.0000), Var(v=0.1752, grad=0.0000), Var(v=-0.0985, grad=0.0000), Var(v=0.1986, grad=0.0000), Var(v=0.0616, grad=0.0000), Var(v=0.1136, grad=0.0000), Var(v=-0.0556, grad=0.0000), Var(v=0.0811, grad=0.0000)], [Var(v=-0.1394, grad=0.0000), Var(v=0.0427, grad=0.0000), Var(v=0.1548, grad=0.0000), Var(v=-0.0511, grad=0.0000), Var(v=0.0648, grad=0.0000), Var(v=0.0972, grad=0.0000), Var(v=0.0998, grad=0.0000), Var(v=0.0050, grad=0.0000), Var(v=0.0293, grad=0.0000), Var(v=0.1461, grad=0.0000), Var(v=0.0239, grad=0.0000), Var(v=-0.0005, grad=0.0000), Var(v=0.0745, grad=0.0000), Var(v=-0.1862, grad=0.0000), Var(v=-0.0278, grad=0.0000), Var(v=-0.0360, grad=0.0000), Var(v=-0.0455, grad=0.0000), Var(v=-0.1047, grad=0.0000), Var(v=0.0783, grad=0.0000), Var(v=0.1222, grad=0.0000), Var(v=-0.1510, grad=0.0000), Var(v=0.0326, grad=0.0000), Var(v=0.1890, grad=0.0000), Var(v=0.1088, grad=0.0000), Var(v=-0.1402, grad=0.0000), Var(v=0.1869, grad=0.0000), Var(v=-0.1518, grad=0.0000), Var(v=0.0518, grad=0.0000), Var(v=0.2237, grad=0.0000), Var(v=-0.0909, grad=0.0000), Var(v=-0.1739, grad=0.0000), Var(v=-0.0450, grad=0.0000), Var(v=0.0108, grad=0.0000), Var(v=-0.0795, grad=0.0000), Var(v=-0.0061, grad=0.0000), Var(v=0.0703, grad=0.0000), Var(v=0.0092, grad=0.0000), Var(v=0.0618, grad=0.0000), Var(v=0.0926, grad=0.0000), Var(v=-0.1361, grad=0.0000), Var(v=0.1947, grad=0.0000), Var(v=-0.0528, grad=0.0000), Var(v=0.1189, grad=0.0000), Var(v=0.0496, grad=0.0000), Var(v=0.0853, grad=0.0000), Var(v=-0.0699, grad=0.0000), Var(v=-0.2438, grad=0.0000), Var(v=-0.0494, grad=0.0000), Var(v=0.0556, grad=0.0000), Var(v=0.1212, grad=0.0000)], [Var(v=-0.0825, grad=0.0000), Var(v=-0.0527, grad=0.0000), Var(v=-0.1091, grad=0.0000), Var(v=-0.1427, grad=0.0000), Var(v=0.0491, grad=0.0000), Var(v=-0.1336, grad=0.0000), Var(v=-0.1710, grad=0.0000), Var(v=-0.2038, grad=0.0000), Var(v=-0.0689, grad=0.0000), Var(v=-0.0211, grad=0.0000), Var(v=-0.0659, grad=0.0000), Var(v=-0.1530, grad=0.0000), Var(v=0.0258, grad=0.0000), Var(v=0.2686, grad=0.0000), Var(v=0.0410, grad=0.0000), Var(v=-0.0694, grad=0.0000), Var(v=0.0261, grad=0.0000), Var(v=-0.0748, grad=0.0000), Var(v=0.0561, grad=0.0000), Var(v=-0.0703, grad=0.0000), Var(v=-0.0884, grad=0.0000), Var(v=-0.0835, grad=0.0000), Var(v=0.0336, grad=0.0000), Var(v=0.0584, grad=0.0000), Var(v=0.1159, grad=0.0000), Var(v=-0.0589, grad=0.0000), Var(v=0.0758, grad=0.0000), Var(v=0.0298, grad=0.0000), Var(v=-0.0224, grad=0.0000), Var(v=0.1020, grad=0.0000), Var(v=0.1111, grad=0.0000), Var(v=-0.0412, grad=0.0000), Var(v=-0.0221, grad=0.0000), Var(v=0.0825, grad=0.0000), Var(v=-0.0595, grad=0.0000), Var(v=-0.0450, grad=0.0000), Var(v=0.1763, grad=0.0000), Var(v=-0.0413, grad=0.0000), Var(v=-0.0513, grad=0.0000), Var(v=0.0758, grad=0.0000), Var(v=0.0026, grad=0.0000), Var(v=-0.0087, grad=0.0000), Var(v=-0.0722, grad=0.0000), Var(v=-0.0624, grad=0.0000), Var(v=-0.0736, grad=0.0000), Var(v=0.0967, grad=0.0000), Var(v=-0.0380, grad=0.0000), Var(v=-0.0548, grad=0.0000), Var(v=-0.0429, grad=0.0000), Var(v=-0.0294, grad=0.0000)]] Biases: [Var(v=0.0000, grad=0.0000), Var(v=0.0000, grad=0.0000), Var(v=0.0000, grad=0.0000), Var(v=0.0000, grad=0.0000), Var(v=-0.0008, grad=0.0000), Var(v=-0.0016, grad=0.0000), Var(v=0.1228, grad=0.0000), Var(v=0.0057, grad=0.0000), Var(v=0.0000, grad=0.0000), Var(v=-0.0045, grad=0.0000), Var(v=0.0000, grad=0.0000), Var(v=-0.0004, grad=0.0000), Var(v=-0.0497, grad=0.0000), Var(v=0.0007, grad=0.0000), Var(v=0.0000, grad=0.0000), Var(v=-0.0785, grad=0.0000), Var(v=0.0621, grad=0.0000), Var(v=0.0000, grad=0.0000), Var(v=0.0222, grad=0.0000), Var(v=-0.0033, grad=0.0000), Var(v=-0.1911, grad=0.0000), Var(v=-0.0015, grad=0.0000), Var(v=0.0000, grad=0.0000), Var(v=0.0000, grad=0.0000), Var(v=0.0518, grad=0.0000), Var(v=0.0005, grad=0.0000), Var(v=-0.0609, grad=0.0000), Var(v=0.0000, grad=0.0000), Var(v=0.0407, grad=0.0000), Var(v=0.0000, grad=0.0000), Var(v=0.0380, grad=0.0000), Var(v=-0.0040, grad=0.0000), Var(v=-0.0023, grad=0.0000), Var(v=-0.0023, grad=0.0000), Var(v=-0.0532, grad=0.0000), Var(v=0.0048, grad=0.0000), Var(v=0.0008, grad=0.0000), Var(v=0.0000, grad=0.0000), Var(v=-0.0118, grad=0.0000), Var(v=0.0000, grad=0.0000), Var(v=0.0028, grad=0.0000), Var(v=0.0144, grad=0.0000), Var(v=0.0000, grad=0.0000), Var(v=-0.0773, grad=0.0000), Var(v=0.0000, grad=0.0000), Var(v=0.0000, grad=0.0000), Var(v=0.0000, grad=0.0000), Var(v=0.0005, grad=0.0000), Var(v=0.0013, grad=0.0000), Var(v=0.0570, grad=0.0000)]\n",
      "Layer 2 \n",
      " Weights: [[Var(v=-0.0373, grad=0.0000)], [Var(v=0.0935, grad=0.0000)], [Var(v=-0.0253, grad=0.0000)], [Var(v=-0.0871, grad=0.0000)], [Var(v=0.0116, grad=0.0000)], [Var(v=0.0429, grad=0.0000)], [Var(v=0.1535, grad=0.0000)], [Var(v=0.0069, grad=0.0000)], [Var(v=-0.0225, grad=0.0000)], [Var(v=-0.0313, grad=0.0000)], [Var(v=0.0679, grad=0.0000)], [Var(v=-0.0086, grad=0.0000)], [Var(v=-0.0450, grad=0.0000)], [Var(v=-0.0677, grad=0.0000)], [Var(v=-0.0255, grad=0.0000)], [Var(v=0.0752, grad=0.0000)], [Var(v=-0.0841, grad=0.0000)], [Var(v=-0.3161, grad=0.0000)], [Var(v=0.0531, grad=0.0000)], [Var(v=-0.0508, grad=0.0000)], [Var(v=0.1921, grad=0.0000)], [Var(v=0.0612, grad=0.0000)], [Var(v=0.0776, grad=0.0000)], [Var(v=-0.1391, grad=0.0000)], [Var(v=0.0796, grad=0.0000)], [Var(v=-0.0406, grad=0.0000)], [Var(v=-0.0570, grad=0.0000)], [Var(v=0.0603, grad=0.0000)], [Var(v=-0.0724, grad=0.0000)], [Var(v=0.1392, grad=0.0000)], [Var(v=-0.0737, grad=0.0000)], [Var(v=0.1908, grad=0.0000)], [Var(v=0.1045, grad=0.0000)], [Var(v=0.1070, grad=0.0000)], [Var(v=-0.0306, grad=0.0000)], [Var(v=0.0097, grad=0.0000)], [Var(v=-0.0254, grad=0.0000)], [Var(v=0.1019, grad=0.0000)], [Var(v=-0.0129, grad=0.0000)], [Var(v=0.0961, grad=0.0000)], [Var(v=-0.1316, grad=0.0000)], [Var(v=0.0237, grad=0.0000)], [Var(v=0.0826, grad=0.0000)], [Var(v=0.0356, grad=0.0000)], [Var(v=0.2301, grad=0.0000)], [Var(v=-0.0600, grad=0.0000)], [Var(v=-0.0016, grad=0.0000)], [Var(v=-0.0490, grad=0.0000)], [Var(v=-0.0727, grad=0.0000)], [Var(v=-0.0816, grad=0.0000)]] Biases: [Var(v=-0.0189, grad=0.0000)]\n"
     ]
    },
    {
     "data": {
      "text/plain": [
       "[None, None, None]"
      ]
     },
     "execution_count": 32,
     "metadata": {},
     "output_type": "execute_result"
    }
   ],
   "source": [
    "print('Network before update:')\n",
    "[print('Layer', i, '\\n', NN[i]) for i in range(len(NN))] \n",
    "\n",
    "def parameters(network):\n",
    "  params = []\n",
    "  for layer in range(len(network)):\n",
    "    params += network[layer].parameters()\n",
    "  return params\n",
    "\n",
    "def update_parameters(params, learning_rate=0.01):\n",
    "  for p in params:\n",
    "    p.v -= learning_rate*p.grad\n",
    "\n",
    "def zero_gradients(params):\n",
    "  for p in params:\n",
    "    p.grad = 0.0\n",
    "\n",
    "update_parameters(parameters(NN))\n",
    "\n",
    "print('\\nNetwork after update:')\n",
    "[print('Layer', i, '\\n', NN[i]) for i in range(len(NN))] \n",
    "\n",
    "zero_gradients(parameters(NN))\n",
    "\n",
    "print('\\nNetwork after zeroing gradients:')\n",
    "[print('Layer', i, '\\n', NN[i]) for i in range(len(NN))] "
   ]
  },
  {
   "cell_type": "code",
   "execution_count": 33,
   "metadata": {
    "id": "woWYpdw6FtIO"
   },
   "outputs": [],
   "source": [
    "# Initialize an arbitrary neural network\n",
    "NN = [\n",
    "    DenseLayer(1, 8, lambda x: x.relu()),\n",
    "    DenseLayer(8, 1, lambda x: x.identity())\n",
    "]\n",
    "\n",
    "# Recommended hyper-parameters for 3-D: \n",
    "#NN = [\n",
    "#    DenseLayer(3, 16, lambda x: x.relu()),\n",
    "#    DenseLayer(16, 1, lambda x: x.identity())\n",
    "#]\n",
    "\n",
    "\n",
    "### Notice that, when we switch from tanh to relu activation, we decrease the learning rate. This is due the stability of the gradients \n",
    "## of the activation functions."
   ]
  },
  {
   "cell_type": "code",
   "execution_count": 34,
   "metadata": {
    "id": "mdqaqYBVFtIR"
   },
   "outputs": [],
   "source": [
    "# Initialize training hyperparameters\n",
    "EPOCHS = 200\n",
    "LEARN_R = 2e-3 "
   ]
  },
  {
   "cell_type": "code",
   "execution_count": 35,
   "metadata": {
    "colab": {
     "base_uri": "https://localhost:8080/"
    },
    "id": "5kfg76GMFtIW",
    "outputId": "e30cf68a-31f2-42b4-cc5e-860c297c0f04",
    "scrolled": true
   },
   "outputs": [
    {
     "name": "stdout",
     "output_type": "stream",
     "text": [
      "   0 ( 0.00%) Train loss: 108.684 \t Validation loss: 107.697\n",
      "  10 ( 5.00%) Train loss: 50.211 \t Validation loss: 39.718\n",
      "  20 (10.00%) Train loss: 13.969 \t Validation loss: 10.774\n",
      "  30 (15.00%) Train loss: 13.361 \t Validation loss: 10.239\n",
      "  40 (20.00%) Train loss: 12.924 \t Validation loss: 9.780\n",
      "  50 (25.00%) Train loss: 12.705 \t Validation loss: 9.494\n",
      "  60 (30.00%) Train loss: 12.523 \t Validation loss: 9.252\n",
      "  70 (35.00%) Train loss: 12.388 \t Validation loss: 9.059\n",
      "  80 (40.00%) Train loss: 12.257 \t Validation loss: 8.933\n",
      "  90 (45.00%) Train loss: 12.152 \t Validation loss: 8.876\n",
      " 100 (50.00%) Train loss: 12.072 \t Validation loss: 8.887\n",
      " 110 (55.00%) Train loss: 11.991 \t Validation loss: 8.909\n",
      " 120 (60.00%) Train loss: 11.931 \t Validation loss: 8.910\n",
      " 130 (65.00%) Train loss: 11.915 \t Validation loss: 8.921\n",
      " 140 (70.00%) Train loss: 11.906 \t Validation loss: 8.936\n",
      " 150 (75.00%) Train loss: 11.901 \t Validation loss: 8.949\n",
      " 160 (80.00%) Train loss: 11.898 \t Validation loss: 8.960\n",
      " 170 (85.00%) Train loss: 11.896 \t Validation loss: 8.967\n",
      " 180 (90.00%) Train loss: 11.895 \t Validation loss: 8.973\n",
      " 190 (95.00%) Train loss: 11.894 \t Validation loss: 8.977\n"
     ]
    }
   ],
   "source": [
    "train_loss = []\n",
    "val_loss = []\n",
    "\n",
    "for e in range(EPOCHS):\n",
    "     \n",
    "    # Forward pass and loss computation\n",
    "    Loss = squared_loss(y_train, forward(x_train, NN))\n",
    "\n",
    "    # Backward pass\n",
    "    Loss.backward()\n",
    "    \n",
    "    # gradient descent update\n",
    "    update_parameters(parameters(NN), LEARN_R)\n",
    "    zero_gradients(parameters(NN))\n",
    "    \n",
    "    # Training loss\n",
    "    train_loss.append(Loss.v)\n",
    "    \n",
    "    # Validation\n",
    "    Loss_validation = squared_loss(y_validation, forward(x_validation, NN))\n",
    "    val_loss.append(Loss_validation.v)\n",
    "    \n",
    "    if e%10==0:\n",
    "        print(\"{:4d}\".format(e),\n",
    "              \"({:5.2f}%)\".format(e/EPOCHS*100), \n",
    "              \"Train loss: {:4.3f} \\t Validation loss: {:4.3f}\".format(train_loss[-1], val_loss[-1]))\n",
    "        \n"
   ]
  },
  {
   "cell_type": "code",
   "execution_count": 36,
   "metadata": {
    "colab": {
     "base_uri": "https://localhost:8080/",
     "height": 265
    },
    "id": "VetyRWFwFtIY",
    "outputId": "344e490d-6d7d-455a-fa6f-88dd11eb957e"
   },
   "outputs": [
    {
     "data": {
      "image/png": "[encoded data removed]",
      "text/plain": [
       "<Figure size 640x480 with 1 Axes>"
      ]
     },
     "metadata": {},
     "output_type": "display_data"
    }
   ],
   "source": [
    "plt.plot(range(len(train_loss)), train_loss);\n",
    "plt.plot(range(len(val_loss)), val_loss);"
   ]
  },
  {
   "cell_type": "markdown",
   "metadata": {
    "id": "8OgmIrM9FtIb"
   },
   "source": [
    "# Testing\n",
    "\n",
    "We have kept the calculation of the test error separate in order to emphasize that you should not use the test set in optimization."
   ]
  },
  {
   "cell_type": "code",
   "execution_count": 37,
   "metadata": {
    "id": "HmNi7S-vFtIc"
   },
   "outputs": [],
   "source": [
    "output_test = forward(x_test, NN)"
   ]
  },
  {
   "cell_type": "code",
   "execution_count": 38,
   "metadata": {
    "colab": {
     "base_uri": "https://localhost:8080/",
     "height": 316
    },
    "id": "7mmJOTSEFtIf",
    "outputId": "e3264095-cefe-4aee-893d-bf152438e332"
   },
   "outputs": [
    {
     "name": "stdout",
     "output_type": "stream",
     "text": [
      "Test loss:  9.811\n"
     ]
    },
    {
     "data": {
      "image/png": "[encoded data removed]",
      "text/plain": [
       "<Figure size 640x480 with 1 Axes>"
      ]
     },
     "metadata": {},
     "output_type": "display_data"
    }
   ],
   "source": [
    "y_test_np = Var_to_nparray(y_test)\n",
    "plt.scatter(y_test_np, Var_to_nparray(output_test));\n",
    "plt.plot([np.min(y_test_np), np.max(y_test_np)], [np.min(y_test_np), np.max(y_test_np)], color='k');\n",
    "plt.xlabel(\"y\");\n",
    "plt.ylabel(\"$\\hat{y}$\");\n",
    "plt.title(\"Model prediction vs real in the test set, the close to the line the better\")\n",
    "plt.grid(True);\n",
    "plt.axis('equal');\n",
    "plt.tight_layout();\n",
    "\n",
    "Loss_test = squared_loss(y_test, forward(x_test, NN))\n",
    "\n",
    "print(\"Test loss:  {:4.3f}\".format(Loss_test.v))"
   ]
  },
  {
   "cell_type": "code",
   "execution_count": 39,
   "metadata": {
    "colab": {
     "base_uri": "https://localhost:8080/",
     "height": 279
    },
    "id": "ODi0WlmQFtIh",
    "outputId": "d1ab874f-0717-4987-87bf-1f0c7c8e7148"
   },
   "outputs": [
    {
     "data": {
      "image/png": "[encoded data removed]",
      "text/plain": [
       "<Figure size 640x480 with 1 Axes>"
      ]
     },
     "metadata": {},
     "output_type": "display_data"
    }
   ],
   "source": [
    "x_test_np = Var_to_nparray(x_test)\n",
    "x_train_np = Var_to_nparray(x_train)\n",
    "y_train_np = Var_to_nparray(y_train)\n",
    "if D1:\n",
    "    plt.scatter(x_train_np, y_train_np, label=\"train data\");\n",
    "    plt.scatter(x_test_np, Var_to_nparray(output_test), label=\"test prediction\");\n",
    "    plt.scatter(x_test_np, y_test_np, label=\"test data\");\n",
    "    plt.legend();\n",
    "    plt.xlabel(\"x\");\n",
    "    plt.ylabel(\"y\");\n",
    "else:\n",
    "    plt.scatter(x_train_np[:,1], y_train, label=\"train data\");\n",
    "    plt.scatter(x_test_np[:,1], Var_to_nparray(output_test), label=\"test data prediction\");\n",
    "    plt.scatter(x_test_np[:,1], y_test_np, label=\"test data\");\n",
    "    plt.legend();\n",
    "    plt.xlabel(\"x\");\n",
    "    plt.ylabel(\"y\");"
   ]
  },
  {
   "cell_type": "markdown",
   "metadata": {
    "id": "zTBAmjsAFtIk"
   },
   "source": [
    "## Exercise l) Show overfitting, underfitting and just right fitting\n",
    "\n",
    "Vary the architecture and other things to show clear signs of overfitting (=training loss significantly lower than test loss) and underfitting (=not fitting enoung to training data so that test performance is also hurt).\n",
    "\n",
    "See also if you can get a good compromise which leads to a low validation loss. \n",
    "\n",
    "For this problem do you see any big difference between validation and test loss? The answer here will probably be no. Discuss cases where it is important to keep the two separate.\n",
    "\n",
    "_Insert written answer here._\n"
   ]
  },
  {
   "cell_type": "markdown",
   "metadata": {},
   "source": []
  },
  {
   "cell_type": "code",
   "execution_count": 40,
   "metadata": {
    "id": "tQZCn2dxFtIl"
   },
   "outputs": [],
   "source": [
    "# Insert your code for getting overfitting, underfitting and just right fitting"
   ]
  },
  {
   "cell_type": "markdown",
   "metadata": {
    "id": "fYPZP-eTFtIo"
   },
   "source": [
    "# Next steps - classification\n",
    "\n",
    "It is straight forward to extend what we have done to classification. \n",
    "\n",
    "For numerical stability it is better to make softmax and cross-entropy as one function so we write the cross entropy loss as a function of the logits we talked about last week. \n",
    "\n",
    "Next week we will see how to perform classification in PyTorch."
   ]
  },
  {
   "cell_type": "markdown",
   "metadata": {
    "id": "qsVPul3QFtIo"
   },
   "source": [
    "## Exercise m) optional - Implement backpropagation for classification\n",
    "\n",
    "Should be possible with very few lines of code. :-)"
   ]
  },
  {
   "cell_type": "code",
   "execution_count": 41,
   "metadata": {
    "id": "oC8QrI2tFtIp"
   },
   "outputs": [],
   "source": [
    "# Just add code."
   ]
  },
  {
   "cell_type": "markdown",
   "metadata": {
    "id": "APqhJv3tta1O"
   },
   "source": [
    "## Exercise n) optional - Introduce a NeuralNetwork class\n",
    "\n",
    "The functions we applied on the neural network (parameters, update_parameters and zero_gradients) can more naturally be included as methods in a NeuralNetwork class. Make such a class and modify the code to use it. "
   ]
  },
  {
   "cell_type": "code",
   "execution_count": 42,
   "metadata": {
    "id": "Dqfnor1ouMLq"
   },
   "outputs": [],
   "source": [
    "# just add some code"
   ]
  }
 ],
 "metadata": {
  "anaconda-cloud": {},
  "colab": {
   "collapsed_sections": [
    "U4057_ljNvWB",
    "p_8n_SKnIW2F",
    "oLrGJytZFtGm",
    "jpIZPBpNI0pO",
    "_79HOAXrFtHK",
    "mqeyab9qFtGs",
    "-XyXBD37FtHk",
    "SrwSJ2UWFtHu",
    "zTBAmjsAFtIk",
    "qsVPul3QFtIo",
    "APqhJv3tta1O"
   ],
   "name": "2.1-EXE-FNN-AutoDif-Nanograd.ipynb",
   "provenance": []
  },
  "kernelspec": {
   "display_name": "Python 3",
   "language": "python",
   "name": "python3"
  },
  "language_info": {
   "codemirror_mode": {
    "name": "ipython",
    "version": 3
   },
   "file_extension": ".py",
   "mimetype": "text/x-python",
   "name": "python",
   "nbconvert_exporter": "python",
   "pygments_lexer": "ipython3",
   "version": "3.11.5"
  }
 },
 "nbformat": 4,
 "nbformat_minor": 1
}
